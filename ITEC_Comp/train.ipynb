{
 "cells": [
  {
   "cell_type": "code",
   "execution_count": 19,
   "metadata": {},
   "outputs": [
    {
     "name": "stdout",
     "output_type": "stream",
     "text": [
      "(88283, 7)\n"
     ]
    }
   ],
   "source": [
    "# import blind_test_data.csv and print the shape\n",
    "import pandas as pd\n",
    "\n",
    "test_data = pd.read_csv('test_data.csv')\n",
    "\n",
    "print(test_data.shape)"
   ]
  },
  {
   "cell_type": "code",
   "execution_count": 20,
   "metadata": {},
   "outputs": [
    {
     "name": "stderr",
     "output_type": "stream",
     "text": [
      "Loaded data from: test_data.csv | Columns = 7 / 7 | Rows = 88283 -> 88283\n"
     ]
    },
    {
     "data": {
      "text/html": [
       "<div>\n",
       "<style scoped>\n",
       "    .dataframe tbody tr th:only-of-type {\n",
       "        vertical-align: middle;\n",
       "    }\n",
       "\n",
       "    .dataframe tbody tr th {\n",
       "        vertical-align: top;\n",
       "    }\n",
       "\n",
       "    .dataframe thead th {\n",
       "        text-align: right;\n",
       "    }\n",
       "</style>\n",
       "<table border=\"1\" class=\"dataframe\">\n",
       "  <thead>\n",
       "    <tr style=\"text-align: right;\">\n",
       "      <th></th>\n",
       "      <th>SOC</th>\n",
       "      <th>V</th>\n",
       "      <th>I</th>\n",
       "      <th>P</th>\n",
       "      <th>V_avg_five</th>\n",
       "      <th>V_avg_one</th>\n",
       "      <th>I_avg</th>\n",
       "    </tr>\n",
       "  </thead>\n",
       "  <tbody>\n",
       "    <tr>\n",
       "      <th>0</th>\n",
       "      <td>1.000000</td>\n",
       "      <td>4.159350</td>\n",
       "      <td>0.000000</td>\n",
       "      <td>0.000000</td>\n",
       "      <td>4.159350</td>\n",
       "      <td>4.159350</td>\n",
       "      <td>0.000000</td>\n",
       "    </tr>\n",
       "    <tr>\n",
       "      <th>1</th>\n",
       "      <td>0.999985</td>\n",
       "      <td>4.144870</td>\n",
       "      <td>-0.042657</td>\n",
       "      <td>-0.176808</td>\n",
       "      <td>4.152110</td>\n",
       "      <td>4.152110</td>\n",
       "      <td>-0.021328</td>\n",
       "    </tr>\n",
       "    <tr>\n",
       "      <th>2</th>\n",
       "      <td>0.999968</td>\n",
       "      <td>4.130847</td>\n",
       "      <td>-0.086232</td>\n",
       "      <td>-0.356210</td>\n",
       "      <td>4.145022</td>\n",
       "      <td>4.145022</td>\n",
       "      <td>-0.042963</td>\n",
       "    </tr>\n",
       "    <tr>\n",
       "      <th>3</th>\n",
       "      <td>0.999962</td>\n",
       "      <td>4.132999</td>\n",
       "      <td>-0.088823</td>\n",
       "      <td>-0.367105</td>\n",
       "      <td>4.142017</td>\n",
       "      <td>4.142017</td>\n",
       "      <td>-0.054428</td>\n",
       "    </tr>\n",
       "    <tr>\n",
       "      <th>4</th>\n",
       "      <td>0.999957</td>\n",
       "      <td>4.133799</td>\n",
       "      <td>-0.085364</td>\n",
       "      <td>-0.352877</td>\n",
       "      <td>4.140373</td>\n",
       "      <td>4.140373</td>\n",
       "      <td>-0.060615</td>\n",
       "    </tr>\n",
       "  </tbody>\n",
       "</table>\n",
       "</div>"
      ],
      "text/plain": [
       "        SOC         V         I         P  V_avg_five  V_avg_one     I_avg\n",
       "0  1.000000  4.159350  0.000000  0.000000    4.159350   4.159350  0.000000\n",
       "1  0.999985  4.144870 -0.042657 -0.176808    4.152110   4.152110 -0.021328\n",
       "2  0.999968  4.130847 -0.086232 -0.356210    4.145022   4.145022 -0.042963\n",
       "3  0.999962  4.132999 -0.088823 -0.367105    4.142017   4.142017 -0.054428\n",
       "4  0.999957  4.133799 -0.085364 -0.352877    4.140373   4.140373 -0.060615"
      ]
     },
     "execution_count": 20,
     "metadata": {},
     "output_type": "execute_result"
    }
   ],
   "source": [
    "from autogluon.tabular import TabularDataset, TabularPredictor\n",
    "\n",
    "# load the training data\n",
    "train_data = TabularDataset('test_data.csv')\n",
    "\n",
    "train_data.head()"
   ]
  },
  {
   "cell_type": "code",
   "execution_count": 31,
   "metadata": {},
   "outputs": [
    {
     "name": "stderr",
     "output_type": "stream",
     "text": [
      "Loaded data from: train_data.csv | Columns = 7 / 7 | Rows = 5275740 -> 5275740\n",
      "No path specified. Models will be saved in: \"AutogluonModels/ag-20230611_190849/\"\n",
      "Presets specified: ['best_quality']\n",
      "Stack configuration (auto_stack=True): num_stack_levels=1, num_bag_folds=8, num_bag_sets=20\n",
      "Beginning AutoGluon training ... Time limit = 600s\n",
      "AutoGluon will save models to \"AutogluonModels/ag-20230611_190849/\"\n",
      "AutoGluon Version:  0.7.0\n",
      "Python Version:     3.10.8\n",
      "Operating System:   Linux\n",
      "Platform Machine:   x86_64\n",
      "Platform Version:   #148-Ubuntu SMP Mon Oct 17 16:02:06 UTC 2022\n",
      "Train Data Rows:    5275740\n",
      "Train Data Columns: 6\n",
      "Label Column: SOC\n",
      "Preprocessing data ...\n",
      "AutoGluon infers your prediction problem is: 'regression' (because dtype of label-column == float and many unique label-values observed).\n",
      "\tLabel info (max, min, mean, stddev): (1.0323646335257406, -0.0014026891208436, 0.65955, 0.35458)\n",
      "\tIf 'regression' is not the correct problem_type, please manually specify the problem_type parameter during predictor init (You may specify problem_type as one of: ['binary', 'multiclass', 'regression'])\n",
      "Using Feature Generators to preprocess the data ...\n",
      "Fitting AutoMLPipelineFeatureGenerator...\n",
      "\tAvailable Memory:                    524829.33 MB\n",
      "\tTrain Data (Original)  Memory Usage: 253.24 MB (0.0% of available memory)\n",
      "\tInferring data type of each feature based on column values. Set feature_metadata_in to manually specify special dtypes of the features.\n",
      "\tStage 1 Generators:\n",
      "\t\tFitting AsTypeFeatureGenerator...\n",
      "\tStage 2 Generators:\n",
      "\t\tFitting FillNaFeatureGenerator...\n",
      "\tStage 3 Generators:\n",
      "\t\tFitting IdentityFeatureGenerator...\n",
      "\tStage 4 Generators:\n",
      "\t\tFitting DropUniqueFeatureGenerator...\n",
      "\tTypes of features in original data (raw dtype, special dtypes):\n",
      "\t\t('float', []) : 6 | ['V', 'I', 'P', 'V_avg_five', 'V_avg_one', ...]\n",
      "\tTypes of features in processed data (raw dtype, special dtypes):\n",
      "\t\t('float', []) : 6 | ['V', 'I', 'P', 'V_avg_five', 'V_avg_one', ...]\n",
      "\t5.7s = Fit runtime\n",
      "\t6 features in original data used to generate 6 features in processed data.\n",
      "\tTrain Data (Processed) Memory Usage: 253.24 MB (0.0% of available memory)\n",
      "Data preprocessing and feature engineering runtime = 6.38s ...\n",
      "AutoGluon will gauge predictive performance using evaluation metric: 'root_mean_squared_error'\n",
      "\tThis metric's sign has been flipped to adhere to being higher_is_better. The metric score can be multiplied by -1 to get the metric value.\n",
      "\tTo change this, specify the eval_metric parameter of Predictor()\n",
      "AutoGluon will fit 2 stack levels (L1 to L2) ...\n",
      "Fitting 11 L1 models ...\n",
      "Fitting model: KNeighborsUnif_BAG_L1 ... Training model for up to 395.65s of the 593.62s of remaining time.\n"
     ]
    },
    {
     "ename": "KeyboardInterrupt",
     "evalue": "",
     "output_type": "error",
     "traceback": [
      "\u001b[0;31m---------------------------------------------------------------------------\u001b[0m",
      "\u001b[0;31mKeyboardInterrupt\u001b[0m                         Traceback (most recent call last)",
      "Cell \u001b[0;32mIn[31], line 12\u001b[0m\n\u001b[1;32m      9\u001b[0m train_data \u001b[39m=\u001b[39m TabularDataset(\u001b[39m'\u001b[39m\u001b[39mtrain_data.csv\u001b[39m\u001b[39m'\u001b[39m)   \n\u001b[1;32m     11\u001b[0m \u001b[39m# Create a predictor\u001b[39;00m\n\u001b[0;32m---> 12\u001b[0m predictor \u001b[39m=\u001b[39m TabularPredictor(label\u001b[39m=\u001b[39;49m\u001b[39m'\u001b[39;49m\u001b[39mSOC\u001b[39;49m\u001b[39m'\u001b[39;49m)\u001b[39m.\u001b[39;49mfit(\n\u001b[1;32m     13\u001b[0m     train_data, \n\u001b[1;32m     14\u001b[0m     time_limit\u001b[39m=\u001b[39;49mtime, \n\u001b[1;32m     15\u001b[0m     presets\u001b[39m=\u001b[39;49m[\u001b[39m'\u001b[39;49m\u001b[39mbest_quality\u001b[39;49m\u001b[39m'\u001b[39;49m]\n\u001b[1;32m     16\u001b[0m )\n",
      "File \u001b[0;32m~/anaconda3/envs/tf/lib/python3.10/site-packages/autogluon/core/utils/decorators.py:30\u001b[0m, in \u001b[0;36munpack.<locals>._unpack_inner.<locals>._call\u001b[0;34m(*args, **kwargs)\u001b[0m\n\u001b[1;32m     27\u001b[0m \u001b[39m@functools\u001b[39m\u001b[39m.\u001b[39mwraps(f)\n\u001b[1;32m     28\u001b[0m \u001b[39mdef\u001b[39;00m \u001b[39m_call\u001b[39m(\u001b[39m*\u001b[39margs, \u001b[39m*\u001b[39m\u001b[39m*\u001b[39mkwargs):\n\u001b[1;32m     29\u001b[0m     gargs, gkwargs \u001b[39m=\u001b[39m g(\u001b[39m*\u001b[39mother_args, \u001b[39m*\u001b[39margs, \u001b[39m*\u001b[39m\u001b[39m*\u001b[39mkwargs)\n\u001b[0;32m---> 30\u001b[0m     \u001b[39mreturn\u001b[39;00m f(\u001b[39m*\u001b[39;49mgargs, \u001b[39m*\u001b[39;49m\u001b[39m*\u001b[39;49mgkwargs)\n",
      "File \u001b[0;32m~/anaconda3/envs/tf/lib/python3.10/site-packages/autogluon/tabular/predictor/predictor.py:866\u001b[0m, in \u001b[0;36mTabularPredictor.fit\u001b[0;34m(self, train_data, tuning_data, time_limit, presets, hyperparameters, feature_metadata, infer_limit, infer_limit_batch_size, fit_weighted_ensemble, num_cpus, num_gpus, **kwargs)\u001b[0m\n\u001b[1;32m    864\u001b[0m     aux_kwargs[\u001b[39m'\u001b[39m\u001b[39mfit_weighted_ensemble\u001b[39m\u001b[39m'\u001b[39m] \u001b[39m=\u001b[39m \u001b[39mFalse\u001b[39;00m\n\u001b[1;32m    865\u001b[0m \u001b[39mself\u001b[39m\u001b[39m.\u001b[39msave(silent\u001b[39m=\u001b[39m\u001b[39mTrue\u001b[39;00m)  \u001b[39m# Save predictor to disk to enable prediction and training after interrupt\u001b[39;00m\n\u001b[0;32m--> 866\u001b[0m \u001b[39mself\u001b[39;49m\u001b[39m.\u001b[39;49m_learner\u001b[39m.\u001b[39;49mfit(X\u001b[39m=\u001b[39;49mtrain_data, X_val\u001b[39m=\u001b[39;49mtuning_data, X_unlabeled\u001b[39m=\u001b[39;49munlabeled_data,\n\u001b[1;32m    867\u001b[0m                   holdout_frac\u001b[39m=\u001b[39;49mholdout_frac, num_bag_folds\u001b[39m=\u001b[39;49mnum_bag_folds, num_bag_sets\u001b[39m=\u001b[39;49mnum_bag_sets,\n\u001b[1;32m    868\u001b[0m                   num_stack_levels\u001b[39m=\u001b[39;49mnum_stack_levels,\n\u001b[1;32m    869\u001b[0m                   hyperparameters\u001b[39m=\u001b[39;49mhyperparameters, core_kwargs\u001b[39m=\u001b[39;49mcore_kwargs, aux_kwargs\u001b[39m=\u001b[39;49maux_kwargs,\n\u001b[1;32m    870\u001b[0m                   time_limit\u001b[39m=\u001b[39;49mtime_limit, infer_limit\u001b[39m=\u001b[39;49minfer_limit, infer_limit_batch_size\u001b[39m=\u001b[39;49minfer_limit_batch_size,\n\u001b[1;32m    871\u001b[0m                   verbosity\u001b[39m=\u001b[39;49mverbosity, use_bag_holdout\u001b[39m=\u001b[39;49muse_bag_holdout)\n\u001b[1;32m    872\u001b[0m \u001b[39mself\u001b[39m\u001b[39m.\u001b[39m_set_post_fit_vars()\n\u001b[1;32m    874\u001b[0m \u001b[39mself\u001b[39m\u001b[39m.\u001b[39m_post_fit(\n\u001b[1;32m    875\u001b[0m     keep_only_best\u001b[39m=\u001b[39mkwargs[\u001b[39m'\u001b[39m\u001b[39mkeep_only_best\u001b[39m\u001b[39m'\u001b[39m],\n\u001b[1;32m    876\u001b[0m     refit_full\u001b[39m=\u001b[39mkwargs[\u001b[39m'\u001b[39m\u001b[39mrefit_full\u001b[39m\u001b[39m'\u001b[39m],\n\u001b[0;32m   (...)\u001b[0m\n\u001b[1;32m    880\u001b[0m     infer_limit\u001b[39m=\u001b[39minfer_limit,\n\u001b[1;32m    881\u001b[0m )\n",
      "File \u001b[0;32m~/anaconda3/envs/tf/lib/python3.10/site-packages/autogluon/tabular/learner/abstract_learner.py:125\u001b[0m, in \u001b[0;36mAbstractTabularLearner.fit\u001b[0;34m(self, X, X_val, **kwargs)\u001b[0m\n\u001b[1;32m    123\u001b[0m     \u001b[39mraise\u001b[39;00m \u001b[39mAssertionError\u001b[39;00m(\u001b[39m'\u001b[39m\u001b[39mLearner is already fit.\u001b[39m\u001b[39m'\u001b[39m)\n\u001b[1;32m    124\u001b[0m \u001b[39mself\u001b[39m\u001b[39m.\u001b[39m_validate_fit_input(X\u001b[39m=\u001b[39mX, X_val\u001b[39m=\u001b[39mX_val, \u001b[39m*\u001b[39m\u001b[39m*\u001b[39mkwargs)\n\u001b[0;32m--> 125\u001b[0m \u001b[39mreturn\u001b[39;00m \u001b[39mself\u001b[39;49m\u001b[39m.\u001b[39;49m_fit(X\u001b[39m=\u001b[39;49mX, X_val\u001b[39m=\u001b[39;49mX_val, \u001b[39m*\u001b[39;49m\u001b[39m*\u001b[39;49mkwargs)\n",
      "File \u001b[0;32m~/anaconda3/envs/tf/lib/python3.10/site-packages/autogluon/tabular/learner/default_learner.py:118\u001b[0m, in \u001b[0;36mDefaultLearner._fit\u001b[0;34m(self, X, X_val, X_unlabeled, holdout_frac, num_bag_folds, num_bag_sets, time_limit, infer_limit, infer_limit_batch_size, verbosity, **trainer_fit_kwargs)\u001b[0m\n\u001b[1;32m    115\u001b[0m     \u001b[39mself\u001b[39m\u001b[39m.\u001b[39meval_metric \u001b[39m=\u001b[39m trainer\u001b[39m.\u001b[39meval_metric\n\u001b[1;32m    117\u001b[0m \u001b[39mself\u001b[39m\u001b[39m.\u001b[39msave()\n\u001b[0;32m--> 118\u001b[0m trainer\u001b[39m.\u001b[39;49mfit(\n\u001b[1;32m    119\u001b[0m     X\u001b[39m=\u001b[39;49mX,\n\u001b[1;32m    120\u001b[0m     y\u001b[39m=\u001b[39;49my,\n\u001b[1;32m    121\u001b[0m     X_val\u001b[39m=\u001b[39;49mX_val,\n\u001b[1;32m    122\u001b[0m     y_val\u001b[39m=\u001b[39;49my_val,\n\u001b[1;32m    123\u001b[0m     X_unlabeled\u001b[39m=\u001b[39;49mX_unlabeled,\n\u001b[1;32m    124\u001b[0m     holdout_frac\u001b[39m=\u001b[39;49mholdout_frac,\n\u001b[1;32m    125\u001b[0m     time_limit\u001b[39m=\u001b[39;49mtime_limit_trainer,\n\u001b[1;32m    126\u001b[0m     infer_limit\u001b[39m=\u001b[39;49minfer_limit,\n\u001b[1;32m    127\u001b[0m     infer_limit_batch_size\u001b[39m=\u001b[39;49minfer_limit_batch_size,\n\u001b[1;32m    128\u001b[0m     groups\u001b[39m=\u001b[39;49mgroups,\n\u001b[1;32m    129\u001b[0m     \u001b[39m*\u001b[39;49m\u001b[39m*\u001b[39;49mtrainer_fit_kwargs\n\u001b[1;32m    130\u001b[0m )\n\u001b[1;32m    131\u001b[0m \u001b[39mself\u001b[39m\u001b[39m.\u001b[39msave_trainer(trainer\u001b[39m=\u001b[39mtrainer)\n\u001b[1;32m    132\u001b[0m time_end \u001b[39m=\u001b[39m time\u001b[39m.\u001b[39mtime()\n",
      "File \u001b[0;32m~/anaconda3/envs/tf/lib/python3.10/site-packages/autogluon/tabular/trainer/auto_trainer.py:98\u001b[0m, in \u001b[0;36mAutoTrainer.fit\u001b[0;34m(self, X, y, hyperparameters, X_val, y_val, X_unlabeled, holdout_frac, num_stack_levels, core_kwargs, aux_kwargs, time_limit, infer_limit, infer_limit_batch_size, use_bag_holdout, groups, **kwargs)\u001b[0m\n\u001b[1;32m     85\u001b[0m     \u001b[39mif\u001b[39;00m \u001b[39mnot\u001b[39;00m use_bag_holdout:\n\u001b[1;32m     86\u001b[0m         \u001b[39m# TODO: User could be intending to blend instead. Add support for blend stacking.\u001b[39;00m\n\u001b[1;32m     87\u001b[0m         \u001b[39m#  This error message is necessary because when calculating out-of-fold predictions for user, we want to return them in the form given in train_data,\u001b[39;00m\n\u001b[1;32m     88\u001b[0m         \u001b[39m#  but if we merge train and val here, it becomes very confusing from a users perspective, especially because we reset index, making it impossible to match\u001b[39;00m\n\u001b[1;32m     89\u001b[0m         \u001b[39m#  the original train_data to the out-of-fold predictions from `predictor.get_oof_pred_proba()`.\u001b[39;00m\n\u001b[1;32m     90\u001b[0m         \u001b[39mraise\u001b[39;00m \u001b[39mAssertionError\u001b[39;00m(\u001b[39m'\u001b[39m\u001b[39mX_val, y_val is not None, but bagged mode was specified. \u001b[39m\u001b[39m'\u001b[39m\n\u001b[1;32m     91\u001b[0m                              \u001b[39m'\u001b[39m\u001b[39mIf calling from `TabularPredictor.fit()`, `tuning_data` should be None.\u001b[39m\u001b[39m\\n\u001b[39;00m\u001b[39m'\u001b[39m\n\u001b[1;32m     92\u001b[0m                              \u001b[39m'\u001b[39m\u001b[39mDefault bagged mode does not use tuning data / validation data. \u001b[39m\u001b[39m'\u001b[39m\n\u001b[0;32m   (...)\u001b[0m\n\u001b[1;32m     95\u001b[0m                              \u001b[39m'\u001b[39m\u001b[39mspecify the following:\u001b[39m\u001b[39m\\n\u001b[39;00m\u001b[39m'\u001b[39m\n\u001b[1;32m     96\u001b[0m                              \u001b[39m'\u001b[39m\u001b[39m\\t\u001b[39;00m\u001b[39mpredictor.fit(..., tuning_data=tuning_data, use_bag_holdout=True)\u001b[39m\u001b[39m'\u001b[39m)\n\u001b[0;32m---> 98\u001b[0m \u001b[39mself\u001b[39;49m\u001b[39m.\u001b[39;49m_train_multi_and_ensemble(X\u001b[39m=\u001b[39;49mX,\n\u001b[1;32m     99\u001b[0m                                y\u001b[39m=\u001b[39;49my,\n\u001b[1;32m    100\u001b[0m                                X_val\u001b[39m=\u001b[39;49mX_val,\n\u001b[1;32m    101\u001b[0m                                y_val\u001b[39m=\u001b[39;49my_val,\n\u001b[1;32m    102\u001b[0m                                X_unlabeled\u001b[39m=\u001b[39;49mX_unlabeled,\n\u001b[1;32m    103\u001b[0m                                hyperparameters\u001b[39m=\u001b[39;49mhyperparameters,\n\u001b[1;32m    104\u001b[0m                                num_stack_levels\u001b[39m=\u001b[39;49mnum_stack_levels,\n\u001b[1;32m    105\u001b[0m                                time_limit\u001b[39m=\u001b[39;49mtime_limit,\n\u001b[1;32m    106\u001b[0m                                core_kwargs\u001b[39m=\u001b[39;49mcore_kwargs,\n\u001b[1;32m    107\u001b[0m                                aux_kwargs\u001b[39m=\u001b[39;49maux_kwargs,\n\u001b[1;32m    108\u001b[0m                                infer_limit\u001b[39m=\u001b[39;49minfer_limit,\n\u001b[1;32m    109\u001b[0m                                infer_limit_batch_size\u001b[39m=\u001b[39;49minfer_limit_batch_size,\n\u001b[1;32m    110\u001b[0m                                groups\u001b[39m=\u001b[39;49mgroups)\n",
      "File \u001b[0;32m~/anaconda3/envs/tf/lib/python3.10/site-packages/autogluon/core/trainer/abstract_trainer.py:2051\u001b[0m, in \u001b[0;36mAbstractTrainer._train_multi_and_ensemble\u001b[0;34m(self, X, y, X_val, y_val, hyperparameters, X_unlabeled, num_stack_levels, time_limit, groups, **kwargs)\u001b[0m\n\u001b[1;32m   2049\u001b[0m     \u001b[39mself\u001b[39m\u001b[39m.\u001b[39m_num_rows_val \u001b[39m=\u001b[39m \u001b[39mlen\u001b[39m(X_val)\n\u001b[1;32m   2050\u001b[0m \u001b[39mself\u001b[39m\u001b[39m.\u001b[39m_num_cols_train \u001b[39m=\u001b[39m \u001b[39mlen\u001b[39m(\u001b[39mlist\u001b[39m(X\u001b[39m.\u001b[39mcolumns))\n\u001b[0;32m-> 2051\u001b[0m model_names_fit \u001b[39m=\u001b[39m \u001b[39mself\u001b[39;49m\u001b[39m.\u001b[39;49mtrain_multi_levels(X, y, hyperparameters\u001b[39m=\u001b[39;49mhyperparameters, X_val\u001b[39m=\u001b[39;49mX_val, y_val\u001b[39m=\u001b[39;49my_val,\n\u001b[1;32m   2052\u001b[0m                                           X_unlabeled\u001b[39m=\u001b[39;49mX_unlabeled, level_start\u001b[39m=\u001b[39;49m\u001b[39m1\u001b[39;49m, level_end\u001b[39m=\u001b[39;49mnum_stack_levels\u001b[39m+\u001b[39;49m\u001b[39m1\u001b[39;49m, time_limit\u001b[39m=\u001b[39;49mtime_limit, \u001b[39m*\u001b[39;49m\u001b[39m*\u001b[39;49mkwargs)\n\u001b[1;32m   2053\u001b[0m \u001b[39mif\u001b[39;00m \u001b[39mlen\u001b[39m(\u001b[39mself\u001b[39m\u001b[39m.\u001b[39mget_model_names()) \u001b[39m==\u001b[39m \u001b[39m0\u001b[39m:\n\u001b[1;32m   2054\u001b[0m     \u001b[39mraise\u001b[39;00m \u001b[39mValueError\u001b[39;00m(\u001b[39m'\u001b[39m\u001b[39mAutoGluon did not successfully train any models\u001b[39m\u001b[39m'\u001b[39m)\n",
      "File \u001b[0;32m~/anaconda3/envs/tf/lib/python3.10/site-packages/autogluon/core/trainer/abstract_trainer.py:312\u001b[0m, in \u001b[0;36mAbstractTrainer.train_multi_levels\u001b[0;34m(self, X, y, hyperparameters, X_val, y_val, X_unlabeled, base_model_names, core_kwargs, aux_kwargs, level_start, level_end, time_limit, name_suffix, relative_stack, level_time_modifier, infer_limit, infer_limit_batch_size)\u001b[0m\n\u001b[1;32m    310\u001b[0m         core_kwargs_level[\u001b[39m'\u001b[39m\u001b[39mtime_limit\u001b[39m\u001b[39m'\u001b[39m] \u001b[39m=\u001b[39m core_kwargs_level\u001b[39m.\u001b[39mget(\u001b[39m'\u001b[39m\u001b[39mtime_limit\u001b[39m\u001b[39m'\u001b[39m, time_limit_core)\n\u001b[1;32m    311\u001b[0m         aux_kwargs_level[\u001b[39m'\u001b[39m\u001b[39mtime_limit\u001b[39m\u001b[39m'\u001b[39m] \u001b[39m=\u001b[39m aux_kwargs_level\u001b[39m.\u001b[39mget(\u001b[39m'\u001b[39m\u001b[39mtime_limit\u001b[39m\u001b[39m'\u001b[39m, time_limit_aux)\n\u001b[0;32m--> 312\u001b[0m     base_model_names, aux_models \u001b[39m=\u001b[39m \u001b[39mself\u001b[39;49m\u001b[39m.\u001b[39;49mstack_new_level(\n\u001b[1;32m    313\u001b[0m         X\u001b[39m=\u001b[39;49mX, y\u001b[39m=\u001b[39;49my, X_val\u001b[39m=\u001b[39;49mX_val, y_val\u001b[39m=\u001b[39;49my_val, X_unlabeled\u001b[39m=\u001b[39;49mX_unlabeled,\n\u001b[1;32m    314\u001b[0m         models\u001b[39m=\u001b[39;49mhyperparameters, level\u001b[39m=\u001b[39;49mlevel, base_model_names\u001b[39m=\u001b[39;49mbase_model_names,\n\u001b[1;32m    315\u001b[0m         core_kwargs\u001b[39m=\u001b[39;49mcore_kwargs_level, aux_kwargs\u001b[39m=\u001b[39;49maux_kwargs_level, name_suffix\u001b[39m=\u001b[39;49mname_suffix,\n\u001b[1;32m    316\u001b[0m         infer_limit\u001b[39m=\u001b[39;49minfer_limit, infer_limit_batch_size\u001b[39m=\u001b[39;49minfer_limit_batch_size,\n\u001b[1;32m    317\u001b[0m     )\n\u001b[1;32m    318\u001b[0m     model_names_fit \u001b[39m+\u001b[39m\u001b[39m=\u001b[39m base_model_names \u001b[39m+\u001b[39m aux_models\n\u001b[1;32m    319\u001b[0m \u001b[39mif\u001b[39;00m \u001b[39mself\u001b[39m\u001b[39m.\u001b[39mmodel_best \u001b[39mis\u001b[39;00m \u001b[39mNone\u001b[39;00m \u001b[39mand\u001b[39;00m \u001b[39mlen\u001b[39m(model_names_fit) \u001b[39m!=\u001b[39m \u001b[39m0\u001b[39m:\n",
      "File \u001b[0;32m~/anaconda3/envs/tf/lib/python3.10/site-packages/autogluon/core/trainer/abstract_trainer.py:429\u001b[0m, in \u001b[0;36mAbstractTrainer.stack_new_level\u001b[0;34m(self, X, y, models, X_val, y_val, X_unlabeled, level, base_model_names, core_kwargs, aux_kwargs, name_suffix, infer_limit, infer_limit_batch_size)\u001b[0m\n\u001b[1;32m    427\u001b[0m     core_kwargs[\u001b[39m'\u001b[39m\u001b[39mname_suffix\u001b[39m\u001b[39m'\u001b[39m] \u001b[39m=\u001b[39m core_kwargs\u001b[39m.\u001b[39mget(\u001b[39m'\u001b[39m\u001b[39mname_suffix\u001b[39m\u001b[39m'\u001b[39m, \u001b[39m'\u001b[39m\u001b[39m'\u001b[39m) \u001b[39m+\u001b[39m name_suffix\n\u001b[1;32m    428\u001b[0m     aux_kwargs[\u001b[39m'\u001b[39m\u001b[39mname_suffix\u001b[39m\u001b[39m'\u001b[39m] \u001b[39m=\u001b[39m aux_kwargs\u001b[39m.\u001b[39mget(\u001b[39m'\u001b[39m\u001b[39mname_suffix\u001b[39m\u001b[39m'\u001b[39m, \u001b[39m'\u001b[39m\u001b[39m'\u001b[39m) \u001b[39m+\u001b[39m name_suffix\n\u001b[0;32m--> 429\u001b[0m core_models \u001b[39m=\u001b[39m \u001b[39mself\u001b[39;49m\u001b[39m.\u001b[39;49mstack_new_level_core(X\u001b[39m=\u001b[39;49mX, y\u001b[39m=\u001b[39;49my, X_val\u001b[39m=\u001b[39;49mX_val, y_val\u001b[39m=\u001b[39;49my_val, X_unlabeled\u001b[39m=\u001b[39;49mX_unlabeled, models\u001b[39m=\u001b[39;49mmodels,\n\u001b[1;32m    430\u001b[0m                                         level\u001b[39m=\u001b[39;49mlevel, infer_limit\u001b[39m=\u001b[39;49minfer_limit, infer_limit_batch_size\u001b[39m=\u001b[39;49minfer_limit_batch_size, base_model_names\u001b[39m=\u001b[39;49mbase_model_names, \u001b[39m*\u001b[39;49m\u001b[39m*\u001b[39;49mcore_kwargs)\n\u001b[1;32m    432\u001b[0m \u001b[39mif\u001b[39;00m X_val \u001b[39mis\u001b[39;00m \u001b[39mNone\u001b[39;00m:\n\u001b[1;32m    433\u001b[0m     aux_models \u001b[39m=\u001b[39m \u001b[39mself\u001b[39m\u001b[39m.\u001b[39mstack_new_level_aux(X\u001b[39m=\u001b[39mX, y\u001b[39m=\u001b[39my, base_model_names\u001b[39m=\u001b[39mcore_models, level\u001b[39m=\u001b[39mlevel\u001b[39m+\u001b[39m\u001b[39m1\u001b[39m,\n\u001b[1;32m    434\u001b[0m                                           infer_limit\u001b[39m=\u001b[39minfer_limit, infer_limit_batch_size\u001b[39m=\u001b[39minfer_limit_batch_size, \u001b[39m*\u001b[39m\u001b[39m*\u001b[39maux_kwargs)\n",
      "File \u001b[0;32m~/anaconda3/envs/tf/lib/python3.10/site-packages/autogluon/core/trainer/abstract_trainer.py:520\u001b[0m, in \u001b[0;36mAbstractTrainer.stack_new_level_core\u001b[0;34m(self, X, y, models, X_val, y_val, X_unlabeled, level, base_model_names, stack_name, ag_args, ag_args_fit, ag_args_ensemble, excluded_model_types, ensemble_type, name_suffix, get_models_func, refit_full, infer_limit, infer_limit_batch_size, **kwargs)\u001b[0m\n\u001b[1;32m    517\u001b[0m fit_kwargs \u001b[39m=\u001b[39m \u001b[39mdict\u001b[39m(num_classes\u001b[39m=\u001b[39m\u001b[39mself\u001b[39m\u001b[39m.\u001b[39mnum_classes)\n\u001b[1;32m    519\u001b[0m \u001b[39m# FIXME: TODO: v0.1 X_unlabeled isn't cached so it won't be available during refit_full or fit_extra.\u001b[39;00m\n\u001b[0;32m--> 520\u001b[0m \u001b[39mreturn\u001b[39;00m \u001b[39mself\u001b[39;49m\u001b[39m.\u001b[39;49m_train_multi(X\u001b[39m=\u001b[39;49mX_init, y\u001b[39m=\u001b[39;49my, X_val\u001b[39m=\u001b[39;49mX_val, y_val\u001b[39m=\u001b[39;49my_val, X_unlabeled\u001b[39m=\u001b[39;49mX_unlabeled,\n\u001b[1;32m    521\u001b[0m                          models\u001b[39m=\u001b[39;49mmodels, level\u001b[39m=\u001b[39;49mlevel, stack_name\u001b[39m=\u001b[39;49mstack_name, compute_score\u001b[39m=\u001b[39;49mcompute_score, fit_kwargs\u001b[39m=\u001b[39;49mfit_kwargs, \u001b[39m*\u001b[39;49m\u001b[39m*\u001b[39;49mkwargs)\n",
      "File \u001b[0;32m~/anaconda3/envs/tf/lib/python3.10/site-packages/autogluon/core/trainer/abstract_trainer.py:2021\u001b[0m, in \u001b[0;36mAbstractTrainer._train_multi\u001b[0;34m(self, X, y, models, hyperparameter_tune_kwargs, feature_prune_kwargs, k_fold, n_repeats, n_repeat_start, time_limit, **kwargs)\u001b[0m\n\u001b[1;32m   2019\u001b[0m \u001b[39mif\u001b[39;00m n_repeat_start \u001b[39m==\u001b[39m \u001b[39m0\u001b[39m:\n\u001b[1;32m   2020\u001b[0m     time_start \u001b[39m=\u001b[39m time\u001b[39m.\u001b[39mtime()\n\u001b[0;32m-> 2021\u001b[0m     model_names_trained \u001b[39m=\u001b[39m \u001b[39mself\u001b[39;49m\u001b[39m.\u001b[39;49m_train_multi_initial(X\u001b[39m=\u001b[39;49mX, y\u001b[39m=\u001b[39;49my, models\u001b[39m=\u001b[39;49mmodels, k_fold\u001b[39m=\u001b[39;49mk_fold, n_repeats\u001b[39m=\u001b[39;49mn_repeats_initial, hyperparameter_tune_kwargs\u001b[39m=\u001b[39;49mhyperparameter_tune_kwargs,\n\u001b[1;32m   2022\u001b[0m                                                     feature_prune_kwargs\u001b[39m=\u001b[39;49mfeature_prune_kwargs, time_limit\u001b[39m=\u001b[39;49mtime_limit, \u001b[39m*\u001b[39;49m\u001b[39m*\u001b[39;49mkwargs)\n\u001b[1;32m   2023\u001b[0m     n_repeat_start \u001b[39m=\u001b[39m n_repeats_initial\n\u001b[1;32m   2024\u001b[0m     \u001b[39mif\u001b[39;00m time_limit \u001b[39mis\u001b[39;00m \u001b[39mnot\u001b[39;00m \u001b[39mNone\u001b[39;00m:\n",
      "File \u001b[0;32m~/anaconda3/envs/tf/lib/python3.10/site-packages/autogluon/core/trainer/abstract_trainer.py:1917\u001b[0m, in \u001b[0;36mAbstractTrainer._train_multi_initial\u001b[0;34m(self, X, y, models, k_fold, n_repeats, hyperparameter_tune_kwargs, time_limit, feature_prune_kwargs, **kwargs)\u001b[0m\n\u001b[1;32m   1915\u001b[0m \u001b[39melse\u001b[39;00m:\n\u001b[1;32m   1916\u001b[0m     time_ratio \u001b[39m=\u001b[39m hpo_time_ratio \u001b[39mif\u001b[39;00m hpo_enabled \u001b[39melse\u001b[39;00m \u001b[39m1\u001b[39m\n\u001b[0;32m-> 1917\u001b[0m     models \u001b[39m=\u001b[39m \u001b[39mself\u001b[39;49m\u001b[39m.\u001b[39;49m_train_multi_fold(models\u001b[39m=\u001b[39;49mmodels, hyperparameter_tune_kwargs\u001b[39m=\u001b[39;49mhyperparameter_tune_kwargs, k_fold_start\u001b[39m=\u001b[39;49m\u001b[39m0\u001b[39;49m,\n\u001b[1;32m   1918\u001b[0m                                     k_fold_end\u001b[39m=\u001b[39;49mk_fold, n_repeats\u001b[39m=\u001b[39;49mn_repeats, n_repeat_start\u001b[39m=\u001b[39;49m\u001b[39m0\u001b[39;49m, time_limit\u001b[39m=\u001b[39;49mtime_limit,\n\u001b[1;32m   1919\u001b[0m                                     time_split\u001b[39m=\u001b[39;49mtime_split, time_ratio\u001b[39m=\u001b[39;49mtime_ratio, \u001b[39m*\u001b[39;49m\u001b[39m*\u001b[39;49mfit_args)\n\u001b[1;32m   1921\u001b[0m multi_fold_time_elapsed \u001b[39m=\u001b[39m time\u001b[39m.\u001b[39mtime() \u001b[39m-\u001b[39m multi_fold_time_start\n\u001b[1;32m   1922\u001b[0m \u001b[39mif\u001b[39;00m time_limit \u001b[39mis\u001b[39;00m \u001b[39mnot\u001b[39;00m \u001b[39mNone\u001b[39;00m:\n",
      "File \u001b[0;32m~/anaconda3/envs/tf/lib/python3.10/site-packages/autogluon/core/trainer/abstract_trainer.py:1992\u001b[0m, in \u001b[0;36mAbstractTrainer._train_multi_fold\u001b[0;34m(self, X, y, models, time_limit, time_split, time_ratio, hyperparameter_tune_kwargs, **kwargs)\u001b[0m\n\u001b[1;32m   1990\u001b[0m         time_start_model \u001b[39m=\u001b[39m time\u001b[39m.\u001b[39mtime()\n\u001b[1;32m   1991\u001b[0m         time_left \u001b[39m=\u001b[39m time_limit \u001b[39m-\u001b[39m (time_start_model \u001b[39m-\u001b[39m time_start)\n\u001b[0;32m-> 1992\u001b[0m model_name_trained_lst \u001b[39m=\u001b[39m \u001b[39mself\u001b[39;49m\u001b[39m.\u001b[39;49m_train_single_full(X, y, model, time_limit\u001b[39m=\u001b[39;49mtime_left, hyperparameter_tune_kwargs\u001b[39m=\u001b[39;49mhyperparameter_tune_kwargs_model, \u001b[39m*\u001b[39;49m\u001b[39m*\u001b[39;49mkwargs)\n\u001b[1;32m   1994\u001b[0m \u001b[39mif\u001b[39;00m \u001b[39mself\u001b[39m\u001b[39m.\u001b[39mlow_memory:\n\u001b[1;32m   1995\u001b[0m     \u001b[39mdel\u001b[39;00m model\n",
      "File \u001b[0;32m~/anaconda3/envs/tf/lib/python3.10/site-packages/autogluon/core/trainer/abstract_trainer.py:1810\u001b[0m, in \u001b[0;36mAbstractTrainer._train_single_full\u001b[0;34m(self, X, y, model, X_unlabeled, X_val, y_val, X_pseudo, y_pseudo, feature_prune, hyperparameter_tune_kwargs, stack_name, k_fold, k_fold_start, k_fold_end, n_repeats, n_repeat_start, level, time_limit, fit_kwargs, compute_score, total_resources, **kwargs)\u001b[0m\n\u001b[1;32m   1808\u001b[0m         bagged_model_fit_kwargs \u001b[39m=\u001b[39m \u001b[39mself\u001b[39m\u001b[39m.\u001b[39m_get_bagged_model_fit_kwargs(k_fold\u001b[39m=\u001b[39mk_fold, k_fold_start\u001b[39m=\u001b[39mk_fold_start, k_fold_end\u001b[39m=\u001b[39mk_fold_end, n_repeats\u001b[39m=\u001b[39mn_repeats, n_repeat_start\u001b[39m=\u001b[39mn_repeat_start)\n\u001b[1;32m   1809\u001b[0m         model_fit_kwargs\u001b[39m.\u001b[39mupdate(bagged_model_fit_kwargs)\n\u001b[0;32m-> 1810\u001b[0m     model_names_trained \u001b[39m=\u001b[39m \u001b[39mself\u001b[39;49m\u001b[39m.\u001b[39;49m_train_and_save(\n\u001b[1;32m   1811\u001b[0m         X\u001b[39m=\u001b[39;49mX,\n\u001b[1;32m   1812\u001b[0m         y\u001b[39m=\u001b[39;49my,\n\u001b[1;32m   1813\u001b[0m         model\u001b[39m=\u001b[39;49mmodel,\n\u001b[1;32m   1814\u001b[0m         X_val\u001b[39m=\u001b[39;49mX_val,\n\u001b[1;32m   1815\u001b[0m         y_val\u001b[39m=\u001b[39;49my_val,\n\u001b[1;32m   1816\u001b[0m         X_unlabeled\u001b[39m=\u001b[39;49mX_unlabeled,\n\u001b[1;32m   1817\u001b[0m         stack_name\u001b[39m=\u001b[39;49mstack_name,\n\u001b[1;32m   1818\u001b[0m         level\u001b[39m=\u001b[39;49mlevel,\n\u001b[1;32m   1819\u001b[0m         compute_score\u001b[39m=\u001b[39;49mcompute_score,\n\u001b[1;32m   1820\u001b[0m         total_resources\u001b[39m=\u001b[39;49mtotal_resources,\n\u001b[1;32m   1821\u001b[0m         \u001b[39m*\u001b[39;49m\u001b[39m*\u001b[39;49mmodel_fit_kwargs\n\u001b[1;32m   1822\u001b[0m     )\n\u001b[1;32m   1823\u001b[0m \u001b[39mself\u001b[39m\u001b[39m.\u001b[39msave()\n\u001b[1;32m   1824\u001b[0m \u001b[39mreturn\u001b[39;00m model_names_trained\n",
      "File \u001b[0;32m~/anaconda3/envs/tf/lib/python3.10/site-packages/autogluon/core/trainer/abstract_trainer.py:1502\u001b[0m, in \u001b[0;36mAbstractTrainer._train_and_save\u001b[0;34m(self, X, y, model, X_val, y_val, stack_name, level, compute_score, total_resources, **model_fit_kwargs)\u001b[0m\n\u001b[1;32m   1500\u001b[0m     model \u001b[39m=\u001b[39m \u001b[39mself\u001b[39m\u001b[39m.\u001b[39m_train_single(X_w_pseudo, y_w_pseudo, model, X_val, y_val, \u001b[39m*\u001b[39m\u001b[39m*\u001b[39mmodel_fit_kwargs)\n\u001b[1;32m   1501\u001b[0m \u001b[39melse\u001b[39;00m:\n\u001b[0;32m-> 1502\u001b[0m     model \u001b[39m=\u001b[39m \u001b[39mself\u001b[39;49m\u001b[39m.\u001b[39;49m_train_single(X, y, model, X_val, y_val, total_resources\u001b[39m=\u001b[39;49mtotal_resources, \u001b[39m*\u001b[39;49m\u001b[39m*\u001b[39;49mmodel_fit_kwargs)\n\u001b[1;32m   1504\u001b[0m fit_end_time \u001b[39m=\u001b[39m time\u001b[39m.\u001b[39mtime()\n\u001b[1;32m   1505\u001b[0m \u001b[39mif\u001b[39;00m \u001b[39mself\u001b[39m\u001b[39m.\u001b[39mweight_evaluation:\n",
      "File \u001b[0;32m~/anaconda3/envs/tf/lib/python3.10/site-packages/autogluon/core/trainer/abstract_trainer.py:1447\u001b[0m, in \u001b[0;36mAbstractTrainer._train_single\u001b[0;34m(self, X, y, model, X_val, y_val, total_resources, **model_fit_kwargs)\u001b[0m\n\u001b[1;32m   1442\u001b[0m \u001b[39mdef\u001b[39;00m \u001b[39m_train_single\u001b[39m(\u001b[39mself\u001b[39m, X, y, model: AbstractModel, X_val\u001b[39m=\u001b[39m\u001b[39mNone\u001b[39;00m, y_val\u001b[39m=\u001b[39m\u001b[39mNone\u001b[39;00m, total_resources\u001b[39m=\u001b[39m\u001b[39mNone\u001b[39;00m, \u001b[39m*\u001b[39m\u001b[39m*\u001b[39mmodel_fit_kwargs) \u001b[39m-\u001b[39m\u001b[39m>\u001b[39m AbstractModel:\n\u001b[1;32m   1443\u001b[0m \u001b[39m    \u001b[39m\u001b[39m\"\"\"\u001b[39;00m\n\u001b[1;32m   1444\u001b[0m \u001b[39m    Trains model but does not add the trained model to this Trainer.\u001b[39;00m\n\u001b[1;32m   1445\u001b[0m \u001b[39m    Returns trained model object.\u001b[39;00m\n\u001b[1;32m   1446\u001b[0m \u001b[39m    \"\"\"\u001b[39;00m\n\u001b[0;32m-> 1447\u001b[0m     model \u001b[39m=\u001b[39m model\u001b[39m.\u001b[39;49mfit(X\u001b[39m=\u001b[39;49mX, y\u001b[39m=\u001b[39;49my, X_val\u001b[39m=\u001b[39;49mX_val, y_val\u001b[39m=\u001b[39;49my_val, total_resources\u001b[39m=\u001b[39;49mtotal_resources, \u001b[39m*\u001b[39;49m\u001b[39m*\u001b[39;49mmodel_fit_kwargs)\n\u001b[1;32m   1448\u001b[0m     \u001b[39mreturn\u001b[39;00m model\n",
      "File \u001b[0;32m~/anaconda3/envs/tf/lib/python3.10/site-packages/autogluon/core/models/abstract/abstract_model.py:703\u001b[0m, in \u001b[0;36mAbstractModel.fit\u001b[0;34m(self, **kwargs)\u001b[0m\n\u001b[1;32m    701\u001b[0m \u001b[39mself\u001b[39m\u001b[39m.\u001b[39mvalidate_fit_resources(\u001b[39m*\u001b[39m\u001b[39m*\u001b[39mkwargs)\n\u001b[1;32m    702\u001b[0m \u001b[39mself\u001b[39m\u001b[39m.\u001b[39m_validate_fit_memory_usage(\u001b[39m*\u001b[39m\u001b[39m*\u001b[39mkwargs)\n\u001b[0;32m--> 703\u001b[0m out \u001b[39m=\u001b[39m \u001b[39mself\u001b[39;49m\u001b[39m.\u001b[39;49m_fit(\u001b[39m*\u001b[39;49m\u001b[39m*\u001b[39;49mkwargs)\n\u001b[1;32m    704\u001b[0m \u001b[39mif\u001b[39;00m out \u001b[39mis\u001b[39;00m \u001b[39mNone\u001b[39;00m:\n\u001b[1;32m    705\u001b[0m     out \u001b[39m=\u001b[39m \u001b[39mself\u001b[39m\n",
      "File \u001b[0;32m~/anaconda3/envs/tf/lib/python3.10/site-packages/autogluon/core/models/ensemble/stacker_ensemble_model.py:154\u001b[0m, in \u001b[0;36mStackerEnsembleModel._fit\u001b[0;34m(self, X, y, compute_base_preds, time_limit, **kwargs)\u001b[0m\n\u001b[1;32m    152\u001b[0m \u001b[39mif\u001b[39;00m time_limit \u001b[39mis\u001b[39;00m \u001b[39mnot\u001b[39;00m \u001b[39mNone\u001b[39;00m:\n\u001b[1;32m    153\u001b[0m     time_limit \u001b[39m=\u001b[39m time_limit \u001b[39m-\u001b[39m (time\u001b[39m.\u001b[39mtime() \u001b[39m-\u001b[39m start_time)\n\u001b[0;32m--> 154\u001b[0m \u001b[39mreturn\u001b[39;00m \u001b[39msuper\u001b[39;49m()\u001b[39m.\u001b[39;49m_fit(X\u001b[39m=\u001b[39;49mX, y\u001b[39m=\u001b[39;49my, time_limit\u001b[39m=\u001b[39;49mtime_limit, \u001b[39m*\u001b[39;49m\u001b[39m*\u001b[39;49mkwargs)\n",
      "File \u001b[0;32m~/anaconda3/envs/tf/lib/python3.10/site-packages/autogluon/core/models/ensemble/bagged_ensemble_model.py:236\u001b[0m, in \u001b[0;36mBaggedEnsembleModel._fit\u001b[0;34m(self, X, y, X_val, y_val, X_pseudo, y_pseudo, k_fold, k_fold_start, k_fold_end, n_repeats, n_repeat_start, groups, **kwargs)\u001b[0m\n\u001b[1;32m    234\u001b[0m save_bag_folds \u001b[39m=\u001b[39m \u001b[39mself\u001b[39m\u001b[39m.\u001b[39mparams\u001b[39m.\u001b[39mget(\u001b[39m'\u001b[39m\u001b[39msave_bag_folds\u001b[39m\u001b[39m'\u001b[39m, \u001b[39mTrue\u001b[39;00m)\n\u001b[1;32m    235\u001b[0m \u001b[39mif\u001b[39;00m k_fold \u001b[39m==\u001b[39m \u001b[39m1\u001b[39m:\n\u001b[0;32m--> 236\u001b[0m     \u001b[39mself\u001b[39;49m\u001b[39m.\u001b[39;49m_fit_single(X\u001b[39m=\u001b[39;49mX, y\u001b[39m=\u001b[39;49my, model_base\u001b[39m=\u001b[39;49mmodel_base, use_child_oof\u001b[39m=\u001b[39;49muse_child_oof, \u001b[39m*\u001b[39;49m\u001b[39m*\u001b[39;49mkwargs)\n\u001b[1;32m    237\u001b[0m     \u001b[39mreturn\u001b[39;00m \u001b[39mself\u001b[39m\n\u001b[1;32m    238\u001b[0m \u001b[39melse\u001b[39;00m:\n",
      "File \u001b[0;32m~/anaconda3/envs/tf/lib/python3.10/site-packages/autogluon/core/models/ensemble/bagged_ensemble_model.py:355\u001b[0m, in \u001b[0;36mBaggedEnsembleModel._fit_single\u001b[0;34m(self, X, y, model_base, use_child_oof, time_limit, **kwargs)\u001b[0m\n\u001b[1;32m    353\u001b[0m model_base\u001b[39m.\u001b[39mset_contexts(path_context\u001b[39m=\u001b[39m\u001b[39mself\u001b[39m\u001b[39m.\u001b[39mpath \u001b[39m+\u001b[39m model_base\u001b[39m.\u001b[39mname \u001b[39m+\u001b[39m os\u001b[39m.\u001b[39mpath\u001b[39m.\u001b[39msep)\n\u001b[1;32m    354\u001b[0m time_start_fit \u001b[39m=\u001b[39m time\u001b[39m.\u001b[39mtime()\n\u001b[0;32m--> 355\u001b[0m model_base\u001b[39m.\u001b[39;49mfit(X\u001b[39m=\u001b[39;49mX, y\u001b[39m=\u001b[39;49my, time_limit\u001b[39m=\u001b[39;49mtime_limit, \u001b[39m*\u001b[39;49m\u001b[39m*\u001b[39;49mkwargs)\n\u001b[1;32m    356\u001b[0m model_base\u001b[39m.\u001b[39mfit_time \u001b[39m=\u001b[39m time\u001b[39m.\u001b[39mtime() \u001b[39m-\u001b[39m time_start_fit\n\u001b[1;32m    357\u001b[0m model_base\u001b[39m.\u001b[39mpredict_time \u001b[39m=\u001b[39m \u001b[39mNone\u001b[39;00m\n",
      "File \u001b[0;32m~/anaconda3/envs/tf/lib/python3.10/site-packages/autogluon/core/models/abstract/abstract_model.py:703\u001b[0m, in \u001b[0;36mAbstractModel.fit\u001b[0;34m(self, **kwargs)\u001b[0m\n\u001b[1;32m    701\u001b[0m \u001b[39mself\u001b[39m\u001b[39m.\u001b[39mvalidate_fit_resources(\u001b[39m*\u001b[39m\u001b[39m*\u001b[39mkwargs)\n\u001b[1;32m    702\u001b[0m \u001b[39mself\u001b[39m\u001b[39m.\u001b[39m_validate_fit_memory_usage(\u001b[39m*\u001b[39m\u001b[39m*\u001b[39mkwargs)\n\u001b[0;32m--> 703\u001b[0m out \u001b[39m=\u001b[39m \u001b[39mself\u001b[39;49m\u001b[39m.\u001b[39;49m_fit(\u001b[39m*\u001b[39;49m\u001b[39m*\u001b[39;49mkwargs)\n\u001b[1;32m    704\u001b[0m \u001b[39mif\u001b[39;00m out \u001b[39mis\u001b[39;00m \u001b[39mNone\u001b[39;00m:\n\u001b[1;32m    705\u001b[0m     out \u001b[39m=\u001b[39m \u001b[39mself\u001b[39m\n",
      "File \u001b[0;32m~/anaconda3/envs/tf/lib/python3.10/site-packages/autogluon/tabular/models/knn/knn_model.py:102\u001b[0m, in \u001b[0;36mKNNModel._fit\u001b[0;34m(self, X, y, num_cpus, time_limit, sample_weight, **kwargs)\u001b[0m\n\u001b[1;32m    100\u001b[0m     \u001b[39mself\u001b[39m\u001b[39m.\u001b[39mmodel \u001b[39m=\u001b[39m \u001b[39mself\u001b[39m\u001b[39m.\u001b[39m_get_model_type()(\u001b[39m*\u001b[39m\u001b[39m*\u001b[39mparams)\u001b[39m.\u001b[39mfit(X, y)\n\u001b[1;32m    101\u001b[0m \u001b[39melse\u001b[39;00m:\n\u001b[0;32m--> 102\u001b[0m     \u001b[39mself\u001b[39m\u001b[39m.\u001b[39mmodel \u001b[39m=\u001b[39m \u001b[39mself\u001b[39;49m\u001b[39m.\u001b[39;49m_fit_with_samples(X\u001b[39m=\u001b[39;49mX, y\u001b[39m=\u001b[39;49my, model_params\u001b[39m=\u001b[39;49mparams, time_limit\u001b[39m=\u001b[39;49mtime_limit \u001b[39m-\u001b[39;49m (time\u001b[39m.\u001b[39;49mtime() \u001b[39m-\u001b[39;49m time_start))\n",
      "File \u001b[0;32m~/anaconda3/envs/tf/lib/python3.10/site-packages/autogluon/tabular/models/knn/knn_model.py:238\u001b[0m, in \u001b[0;36mKNNModel._fit_with_samples\u001b[0;34m(self, X, y, model_params, time_limit, start_samples, max_samples, sample_growth_factor, sample_time_growth_factor)\u001b[0m\n\u001b[1;32m    236\u001b[0m     y_samp \u001b[39m=\u001b[39m y\n\u001b[1;32m    237\u001b[0m     idx \u001b[39m=\u001b[39m \u001b[39mNone\u001b[39;00m\n\u001b[0;32m--> 238\u001b[0m \u001b[39mself\u001b[39m\u001b[39m.\u001b[39mmodel \u001b[39m=\u001b[39m model_type(\u001b[39m*\u001b[39;49m\u001b[39m*\u001b[39;49mmodel_params)\u001b[39m.\u001b[39;49mfit(X_samp, y_samp)\n\u001b[1;32m    239\u001b[0m time_limit_left_prior \u001b[39m=\u001b[39m time_limit_left\n\u001b[1;32m    240\u001b[0m time_fit_end_sample \u001b[39m=\u001b[39m time\u001b[39m.\u001b[39mtime()\n",
      "File \u001b[0;32m~/anaconda3/envs/tf/lib/python3.10/site-packages/sklearn/neighbors/_regression.py:217\u001b[0m, in \u001b[0;36mKNeighborsRegressor.fit\u001b[0;34m(self, X, y)\u001b[0m\n\u001b[1;32m    198\u001b[0m \u001b[39m\u001b[39m\u001b[39m\"\"\"Fit the k-nearest neighbors regressor from the training dataset.\u001b[39;00m\n\u001b[1;32m    199\u001b[0m \n\u001b[1;32m    200\u001b[0m \u001b[39mParameters\u001b[39;00m\n\u001b[0;32m   (...)\u001b[0m\n\u001b[1;32m    213\u001b[0m \u001b[39m    The fitted k-nearest neighbors regressor.\u001b[39;00m\n\u001b[1;32m    214\u001b[0m \u001b[39m\"\"\"\u001b[39;00m\n\u001b[1;32m    215\u001b[0m \u001b[39mself\u001b[39m\u001b[39m.\u001b[39m_validate_params()\n\u001b[0;32m--> 217\u001b[0m \u001b[39mreturn\u001b[39;00m \u001b[39mself\u001b[39;49m\u001b[39m.\u001b[39;49m_fit(X, y)\n",
      "File \u001b[0;32m~/anaconda3/envs/tf/lib/python3.10/site-packages/sklearn/neighbors/_base.py:663\u001b[0m, in \u001b[0;36mNeighborsBase._fit\u001b[0;34m(self, X, y)\u001b[0m\n\u001b[1;32m    653\u001b[0m     \u001b[39mif\u001b[39;00m (\n\u001b[1;32m    654\u001b[0m         \u001b[39mself\u001b[39m\u001b[39m.\u001b[39meffective_metric_ \u001b[39m==\u001b[39m \u001b[39m\"\u001b[39m\u001b[39mminkowski\u001b[39m\u001b[39m\"\u001b[39m\n\u001b[1;32m    655\u001b[0m         \u001b[39mand\u001b[39;00m \u001b[39mself\u001b[39m\u001b[39m.\u001b[39meffective_metric_params_\u001b[39m.\u001b[39mget(\u001b[39m\"\u001b[39m\u001b[39mw\u001b[39m\u001b[39m\"\u001b[39m) \u001b[39mis\u001b[39;00m \u001b[39mnot\u001b[39;00m \u001b[39mNone\u001b[39;00m\n\u001b[1;32m    656\u001b[0m     ):\n\u001b[1;32m    657\u001b[0m         \u001b[39mraise\u001b[39;00m \u001b[39mValueError\u001b[39;00m(\n\u001b[1;32m    658\u001b[0m             \u001b[39m\"\u001b[39m\u001b[39malgorithm=\u001b[39m\u001b[39m'\u001b[39m\u001b[39mkd_tree\u001b[39m\u001b[39m'\u001b[39m\u001b[39m is not valid for \u001b[39m\u001b[39m\"\u001b[39m\n\u001b[1;32m    659\u001b[0m             \u001b[39m\"\u001b[39m\u001b[39mmetric=\u001b[39m\u001b[39m'\u001b[39m\u001b[39mminkowski\u001b[39m\u001b[39m'\u001b[39m\u001b[39m with a weight parameter \u001b[39m\u001b[39m'\u001b[39m\u001b[39mw\u001b[39m\u001b[39m'\u001b[39m\u001b[39m: \u001b[39m\u001b[39m\"\u001b[39m\n\u001b[1;32m    660\u001b[0m             \u001b[39m\"\u001b[39m\u001b[39mtry algorithm=\u001b[39m\u001b[39m'\u001b[39m\u001b[39mball_tree\u001b[39m\u001b[39m'\u001b[39m\u001b[39m \u001b[39m\u001b[39m\"\u001b[39m\n\u001b[1;32m    661\u001b[0m             \u001b[39m\"\u001b[39m\u001b[39mor algorithm=\u001b[39m\u001b[39m'\u001b[39m\u001b[39mbrute\u001b[39m\u001b[39m'\u001b[39m\u001b[39m instead.\u001b[39m\u001b[39m\"\u001b[39m\n\u001b[1;32m    662\u001b[0m         )\n\u001b[0;32m--> 663\u001b[0m     \u001b[39mself\u001b[39m\u001b[39m.\u001b[39m_tree \u001b[39m=\u001b[39m KDTree(\n\u001b[1;32m    664\u001b[0m         X,\n\u001b[1;32m    665\u001b[0m         \u001b[39mself\u001b[39;49m\u001b[39m.\u001b[39;49mleaf_size,\n\u001b[1;32m    666\u001b[0m         metric\u001b[39m=\u001b[39;49m\u001b[39mself\u001b[39;49m\u001b[39m.\u001b[39;49meffective_metric_,\n\u001b[1;32m    667\u001b[0m         \u001b[39m*\u001b[39;49m\u001b[39m*\u001b[39;49m\u001b[39mself\u001b[39;49m\u001b[39m.\u001b[39;49meffective_metric_params_,\n\u001b[1;32m    668\u001b[0m     )\n\u001b[1;32m    669\u001b[0m \u001b[39melif\u001b[39;00m \u001b[39mself\u001b[39m\u001b[39m.\u001b[39m_fit_method \u001b[39m==\u001b[39m \u001b[39m\"\u001b[39m\u001b[39mbrute\u001b[39m\u001b[39m\"\u001b[39m:\n\u001b[1;32m    670\u001b[0m     \u001b[39mself\u001b[39m\u001b[39m.\u001b[39m_tree \u001b[39m=\u001b[39m \u001b[39mNone\u001b[39;00m\n",
      "\u001b[0;31mKeyboardInterrupt\u001b[0m: "
     ]
    }
   ],
   "source": [
    "\n",
    "# time limit for training is 10 mins, 1, 4, 12 hours\n",
    "time_limit = [60*10, 60*60, 60*60*4, 60*60*12]\n",
    "\n",
    "best_rmse = 100\n",
    "\n",
    "for time in time_limit:\n",
    "\n",
    "    # Load the training data\n",
    "    train_data = TabularDataset('train_data.csv')   \n",
    "\n",
    "    # Create a predictor\n",
    "    predictor = TabularPredictor(label='SOC').fit(\n",
    "        train_data, \n",
    "        time_limit=time, \n",
    "        presets=['best_quality']\n",
    "    )"
   ]
  },
  {
   "cell_type": "code",
   "execution_count": 21,
   "metadata": {},
   "outputs": [
    {
     "name": "stderr",
     "output_type": "stream",
     "text": [
      "No path specified. Models will be saved in: \"AutogluonModels/ag-20230611_185535/\"\n",
      "Presets specified: ['best_quality']\n",
      "Stack configuration (auto_stack=True): num_stack_levels=1, num_bag_folds=8, num_bag_sets=20\n",
      "Beginning AutoGluon training ... Time limit = 60s\n",
      "AutoGluon will save models to \"AutogluonModels/ag-20230611_185535/\"\n",
      "AutoGluon Version:  0.7.0\n",
      "Python Version:     3.10.8\n",
      "Operating System:   Linux\n",
      "Platform Machine:   x86_64\n",
      "Platform Version:   #148-Ubuntu SMP Mon Oct 17 16:02:06 UTC 2022\n",
      "Train Data Rows:    88283\n",
      "Train Data Columns: 6\n",
      "Label Column: SOC\n",
      "Preprocessing data ...\n",
      "AutoGluon infers your prediction problem is: 'regression' (because dtype of label-column == float and many unique label-values observed).\n",
      "\tLabel info (max, min, mean, stddev): (1.001855496372521, 0.1162339499769943, 0.54242, 0.32082)\n",
      "\tIf 'regression' is not the correct problem_type, please manually specify the problem_type parameter during predictor init (You may specify problem_type as one of: ['binary', 'multiclass', 'regression'])\n",
      "Using Feature Generators to preprocess the data ...\n",
      "Fitting AutoMLPipelineFeatureGenerator...\n",
      "\tAvailable Memory:                    525883.29 MB\n",
      "\tTrain Data (Original)  Memory Usage: 4.24 MB (0.0% of available memory)\n",
      "\tInferring data type of each feature based on column values. Set feature_metadata_in to manually specify special dtypes of the features.\n",
      "\tStage 1 Generators:\n",
      "\t\tFitting AsTypeFeatureGenerator...\n",
      "\tStage 2 Generators:\n",
      "\t\tFitting FillNaFeatureGenerator...\n",
      "\tStage 3 Generators:\n",
      "\t\tFitting IdentityFeatureGenerator...\n",
      "\tStage 4 Generators:\n",
      "\t\tFitting DropUniqueFeatureGenerator...\n",
      "\tTypes of features in original data (raw dtype, special dtypes):\n",
      "\t\t('float', []) : 6 | ['V', 'I', 'P', 'V_avg_five', 'V_avg_one', ...]\n",
      "\tTypes of features in processed data (raw dtype, special dtypes):\n",
      "\t\t('float', []) : 6 | ['V', 'I', 'P', 'V_avg_five', 'V_avg_one', ...]\n",
      "\t0.2s = Fit runtime\n",
      "\t6 features in original data used to generate 6 features in processed data.\n",
      "\tTrain Data (Processed) Memory Usage: 4.24 MB (0.0% of available memory)\n",
      "Data preprocessing and feature engineering runtime = 0.19s ...\n",
      "AutoGluon will gauge predictive performance using evaluation metric: 'root_mean_squared_error'\n",
      "\tThis metric's sign has been flipped to adhere to being higher_is_better. The metric score can be multiplied by -1 to get the metric value.\n",
      "\tTo change this, specify the eval_metric parameter of Predictor()\n",
      "AutoGluon will fit 2 stack levels (L1 to L2) ...\n",
      "Fitting 11 L1 models ...\n",
      "Fitting model: KNeighborsUnif_BAG_L1 ... Training model for up to 39.86s of the 59.81s of remaining time.\n",
      "\t-0.014\t = Validation score   (-root_mean_squared_error)\n",
      "\t0.2s\t = Training   runtime\n",
      "\t0.9s\t = Validation runtime\n",
      "Fitting model: KNeighborsDist_BAG_L1 ... Training model for up to 38.61s of the 58.55s of remaining time.\n",
      "\t-0.0125\t = Validation score   (-root_mean_squared_error)\n",
      "\t0.18s\t = Training   runtime\n",
      "\t1.0s\t = Validation runtime\n",
      "Fitting model: LightGBMXT_BAG_L1 ... Training model for up to 37.27s of the 57.22s of remaining time.\n",
      "\tFitting 8 child models (S1F1 - S1F8) | Fitting with ParallelLocalFoldFittingStrategy\n",
      "\t-0.003\t = Validation score   (-root_mean_squared_error)\n",
      "\t27.24s\t = Training   runtime\n",
      "\t9.13s\t = Validation runtime\n",
      "Fitting model: LightGBM_BAG_L1 ... Training model for up to 6.97s of the 26.92s of remaining time.\n",
      "\tFitting 8 child models (S1F1 - S1F8) | Fitting with ParallelLocalFoldFittingStrategy\n",
      "\t-0.0014\t = Validation score   (-root_mean_squared_error)\n",
      "\t5.91s\t = Training   runtime\n",
      "\t2.92s\t = Validation runtime\n",
      "Completed 1/20 k-fold bagging repeats ...\n",
      "Fitting model: WeightedEnsemble_L2 ... Training model for up to 59.81s of the 18.83s of remaining time.\n",
      "\t-0.0014\t = Validation score   (-root_mean_squared_error)\n",
      "\t0.48s\t = Training   runtime\n",
      "\t0.0s\t = Validation runtime\n",
      "Fitting 9 L2 models ...\n",
      "Fitting model: LightGBMXT_BAG_L2 ... Training model for up to 18.34s of the 18.33s of remaining time.\n",
      "\tFitting 8 child models (S1F1 - S1F8) | Fitting with ParallelLocalFoldFittingStrategy\n",
      "\t-0.0022\t = Validation score   (-root_mean_squared_error)\n",
      "\t15.28s\t = Training   runtime\n",
      "\t11.11s\t = Validation runtime\n",
      "Completed 1/20 k-fold bagging repeats ...\n",
      "Fitting model: WeightedEnsemble_L3 ... Training model for up to 59.81s of the -0.32s of remaining time.\n",
      "\t-0.0022\t = Validation score   (-root_mean_squared_error)\n",
      "\t0.0s\t = Training   runtime\n",
      "\t0.0s\t = Validation runtime\n",
      "AutoGluon training complete, total runtime = 60.35s ... Best model: \"WeightedEnsemble_L2\"\n",
      "TabularPredictor saved. To load, use: predictor = TabularPredictor.load(\"AutogluonModels/ag-20230611_185535/\")\n"
     ]
    }
   ],
   "source": [
    "time_limit = 60\n",
    "\n",
    "# train the model\n",
    "predictor = TabularPredictor(label='SOC').fit(\n",
    "    train_data, \n",
    "    time_limit=time_limit,\n",
    "    presets='best_quality'\n",
    ")\n"
   ]
  },
  {
   "cell_type": "code",
   "execution_count": 22,
   "metadata": {},
   "outputs": [
    {
     "name": "stdout",
     "output_type": "stream",
     "text": [
      "                   model    score_test  score_val  pred_time_test  \\\n",
      "0  KNeighborsDist_BAG_L1 -1.250492e-08  -0.012498        0.328749   \n",
      "1        LightGBM_BAG_L1 -8.465379e-04  -0.001379        2.384223   \n",
      "2    WeightedEnsemble_L2 -8.536054e-04  -0.001378       12.696139   \n",
      "3      LightGBMXT_BAG_L2 -1.286048e-03  -0.002198       20.495810   \n",
      "4    WeightedEnsemble_L3 -1.286048e-03  -0.002198       20.497708   \n",
      "5      LightGBMXT_BAG_L1 -2.050721e-03  -0.003002       10.306644   \n",
      "6  KNeighborsUnif_BAG_L1 -1.098546e-02  -0.013975        0.315251   \n",
      "\n",
      "   pred_time_val   fit_time  pred_time_test_marginal  pred_time_val_marginal  \\\n",
      "0       1.003719   0.180616                 0.328749                1.003719   \n",
      "1       2.923631   5.907386                 2.384223                2.923631   \n",
      "2      12.055525  33.621367                 0.005272                0.001009   \n",
      "3      25.066411  48.804304                 7.160943               11.105421   \n",
      "4      25.067405  48.806791                 0.001898                0.000995   \n",
      "5       9.130885  27.237323                10.306644                9.130885   \n",
      "6       0.902755   0.195957                 0.315251                0.902755   \n",
      "\n",
      "   fit_time_marginal  stack_level  can_infer  fit_order  \n",
      "0           0.180616            1       True          2  \n",
      "1           5.907386            1       True          4  \n",
      "2           0.476659            2       True          5  \n",
      "3          15.283022            2       True          6  \n",
      "4           0.002487            3       True          7  \n",
      "5          27.237323            1       True          3  \n",
      "6           0.195957            1       True          1  \n"
     ]
    }
   ],
   "source": [
    "# test the model\n",
    "y_pred = predictor.predict(test_data)\n",
    "\n",
    "# print the predictions leader board\n",
    "print(predictor.leaderboard(test_data, silent=True))"
   ]
  },
  {
   "cell_type": "code",
   "execution_count": 23,
   "metadata": {},
   "outputs": [
    {
     "name": "stderr",
     "output_type": "stream",
     "text": [
      "/home/witvoetk/anaconda3/envs/tf/lib/python3.10/site-packages/autogluon/tabular/predictor/predictor.py:1420: FutureWarning: Calling `predictor.predict_proba` when problem_type=regression will raise an AssertionError starting in AutoGluon v0.8. Please call `predictor.predict` instead.\n",
      "  warnings.warn(\n"
     ]
    },
    {
     "data": {
      "text/plain": [
       "{'root_mean_squared_error': -0.0008536053888903142,\n",
       " 'mean_squared_error': -7.286421599425846e-07,\n",
       " 'mean_absolute_error': -0.00048580923293873175,\n",
       " 'r2': 0.9999929205578164,\n",
       " 'pearsonr': 0.9999964602973269,\n",
       " 'median_absolute_error': -0.0002489919351780223}"
      ]
     },
     "execution_count": 23,
     "metadata": {},
     "output_type": "execute_result"
    }
   ],
   "source": [
    "predictor.evaluate(test_data, silent=True)"
   ]
  },
  {
   "cell_type": "code",
   "execution_count": 24,
   "metadata": {},
   "outputs": [
    {
     "data": {
      "image/png": "[encoded data removed]",
      "text/plain": [
       "<Figure size 640x480 with 1 Axes>"
      ]
     },
     "metadata": {},
     "output_type": "display_data"
    }
   ],
   "source": [
    "#plot the predictions vs the actual values in matplotlib\n",
    "import matplotlib.pyplot as plt\n",
    "\n",
    "plt.plot(y_pred, label='Predicted')\n",
    "plt.plot(test_data['SOC'], label='Actual')\n",
    "plt.legend()\n",
    "plt.show()"
   ]
  },
  {
   "cell_type": "code",
   "execution_count": 28,
   "metadata": {},
   "outputs": [],
   "source": [
    "#save the top performing model as a pickle file\n",
    "import pickle\n",
    "\n",
    "with open('test_model.pkl', 'wb') as f:\n",
    "    pickle.dump(predictor, f)"
   ]
  }
 ],
 "metadata": {
  "kernelspec": {
   "display_name": "tf",
   "language": "python",
   "name": "python3"
  },
  "language_info": {
   "codemirror_mode": {
    "name": "ipython",
    "version": 3
   },
   "file_extension": ".py",
   "mimetype": "text/x-python",
   "name": "python",
   "nbconvert_exporter": "python",
   "pygments_lexer": "ipython3",
   "version": "3.10.8"
  },
  "orig_nbformat": 4
 },
 "nbformat": 4,
 "nbformat_minor": 2
}
