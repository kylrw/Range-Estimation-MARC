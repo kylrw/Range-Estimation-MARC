{
 "cells": [
  {
   "cell_type": "code",
   "execution_count": 8,
   "metadata": {},
   "outputs": [
    {
     "name": "stdout",
     "output_type": "stream",
     "text": [
      "(88283, 7)\n"
     ]
    }
   ],
   "source": [
    "# import blind_test_data.csv and print the shape\n",
    "import pandas as pd\n",
    "\n",
    "test_data = pd.read_csv('test_data.csv')\n",
    "\n",
    "print(test_data.shape)"
   ]
  },
  {
   "cell_type": "code",
   "execution_count": 9,
   "metadata": {},
   "outputs": [
    {
     "name": "stderr",
     "output_type": "stream",
     "text": [
      "Loaded data from: test_data.csv | Columns = 7 / 7 | Rows = 88283 -> 88283\n"
     ]
    },
    {
     "data": {
      "text/html": [
       "<div>\n",
       "<style scoped>\n",
       "    .dataframe tbody tr th:only-of-type {\n",
       "        vertical-align: middle;\n",
       "    }\n",
       "\n",
       "    .dataframe tbody tr th {\n",
       "        vertical-align: top;\n",
       "    }\n",
       "\n",
       "    .dataframe thead th {\n",
       "        text-align: right;\n",
       "    }\n",
       "</style>\n",
       "<table border=\"1\" class=\"dataframe\">\n",
       "  <thead>\n",
       "    <tr style=\"text-align: right;\">\n",
       "      <th></th>\n",
       "      <th>SOC</th>\n",
       "      <th>V</th>\n",
       "      <th>I</th>\n",
       "      <th>P</th>\n",
       "      <th>V_avg_five</th>\n",
       "      <th>V_avg_one</th>\n",
       "      <th>I_avg</th>\n",
       "    </tr>\n",
       "  </thead>\n",
       "  <tbody>\n",
       "    <tr>\n",
       "      <th>0</th>\n",
       "      <td>1.000000</td>\n",
       "      <td>4.159350</td>\n",
       "      <td>0.000000</td>\n",
       "      <td>0.000000</td>\n",
       "      <td>4.159350</td>\n",
       "      <td>4.159350</td>\n",
       "      <td>0.000000</td>\n",
       "    </tr>\n",
       "    <tr>\n",
       "      <th>1</th>\n",
       "      <td>0.999985</td>\n",
       "      <td>4.144870</td>\n",
       "      <td>-0.042657</td>\n",
       "      <td>-0.176808</td>\n",
       "      <td>4.152110</td>\n",
       "      <td>4.152110</td>\n",
       "      <td>-0.021328</td>\n",
       "    </tr>\n",
       "    <tr>\n",
       "      <th>2</th>\n",
       "      <td>0.999968</td>\n",
       "      <td>4.130847</td>\n",
       "      <td>-0.086232</td>\n",
       "      <td>-0.356210</td>\n",
       "      <td>4.145022</td>\n",
       "      <td>4.145022</td>\n",
       "      <td>-0.042963</td>\n",
       "    </tr>\n",
       "    <tr>\n",
       "      <th>3</th>\n",
       "      <td>0.999962</td>\n",
       "      <td>4.132999</td>\n",
       "      <td>-0.088823</td>\n",
       "      <td>-0.367105</td>\n",
       "      <td>4.142017</td>\n",
       "      <td>4.142017</td>\n",
       "      <td>-0.054428</td>\n",
       "    </tr>\n",
       "    <tr>\n",
       "      <th>4</th>\n",
       "      <td>0.999957</td>\n",
       "      <td>4.133799</td>\n",
       "      <td>-0.085364</td>\n",
       "      <td>-0.352877</td>\n",
       "      <td>4.140373</td>\n",
       "      <td>4.140373</td>\n",
       "      <td>-0.060615</td>\n",
       "    </tr>\n",
       "  </tbody>\n",
       "</table>\n",
       "</div>"
      ],
      "text/plain": [
       "        SOC         V         I         P  V_avg_five  V_avg_one     I_avg\n",
       "0  1.000000  4.159350  0.000000  0.000000    4.159350   4.159350  0.000000\n",
       "1  0.999985  4.144870 -0.042657 -0.176808    4.152110   4.152110 -0.021328\n",
       "2  0.999968  4.130847 -0.086232 -0.356210    4.145022   4.145022 -0.042963\n",
       "3  0.999962  4.132999 -0.088823 -0.367105    4.142017   4.142017 -0.054428\n",
       "4  0.999957  4.133799 -0.085364 -0.352877    4.140373   4.140373 -0.060615"
      ]
     },
     "execution_count": 9,
     "metadata": {},
     "output_type": "execute_result"
    }
   ],
   "source": [
    "from autogluon.tabular import TabularDataset, TabularPredictor\n",
    "\n",
    "# load the training data\n",
    "train_data = TabularDataset('test_data.csv')\n",
    "\n",
    "train_data.head()"
   ]
  },
  {
   "cell_type": "code",
   "execution_count": 10,
   "metadata": {},
   "outputs": [
    {
     "name": "stderr",
     "output_type": "stream",
     "text": [
      "No path specified. Models will be saved in: \"AutogluonModels/ag-20230612_014032/\"\n",
      "Presets specified: ['best_quality']\n",
      "Stack configuration (auto_stack=True): num_stack_levels=1, num_bag_folds=8, num_bag_sets=20\n",
      "Beginning AutoGluon training ... Time limit = 300s\n",
      "AutoGluon will save models to \"AutogluonModels/ag-20230612_014032/\"\n",
      "AutoGluon Version:  0.7.0\n",
      "Python Version:     3.10.8\n",
      "Operating System:   Linux\n",
      "Platform Machine:   x86_64\n",
      "Platform Version:   #148-Ubuntu SMP Mon Oct 17 16:02:06 UTC 2022\n",
      "Train Data Rows:    88283\n",
      "Train Data Columns: 6\n",
      "Label Column: SOC\n",
      "Preprocessing data ...\n",
      "AutoGluon infers your prediction problem is: 'regression' (because dtype of label-column == float and many unique label-values observed).\n",
      "\tLabel info (max, min, mean, stddev): (1.001855496372521, 0.1162339499769943, 0.54242, 0.32082)\n",
      "\tIf 'regression' is not the correct problem_type, please manually specify the problem_type parameter during predictor init (You may specify problem_type as one of: ['binary', 'multiclass', 'regression'])\n",
      "Using Feature Generators to preprocess the data ...\n",
      "Fitting AutoMLPipelineFeatureGenerator...\n",
      "\tAvailable Memory:                    485986.29 MB\n",
      "\tTrain Data (Original)  Memory Usage: 4.24 MB (0.0% of available memory)\n",
      "\tInferring data type of each feature based on column values. Set feature_metadata_in to manually specify special dtypes of the features.\n",
      "\tStage 1 Generators:\n",
      "\t\tFitting AsTypeFeatureGenerator...\n",
      "\tStage 2 Generators:\n",
      "\t\tFitting FillNaFeatureGenerator...\n",
      "\tStage 3 Generators:\n",
      "\t\tFitting IdentityFeatureGenerator...\n",
      "\tStage 4 Generators:\n",
      "\t\tFitting DropUniqueFeatureGenerator...\n",
      "\tTypes of features in original data (raw dtype, special dtypes):\n",
      "\t\t('float', []) : 6 | ['V', 'I', 'P', 'V_avg_five', 'V_avg_one', ...]\n",
      "\tTypes of features in processed data (raw dtype, special dtypes):\n",
      "\t\t('float', []) : 6 | ['V', 'I', 'P', 'V_avg_five', 'V_avg_one', ...]\n",
      "\t0.1s = Fit runtime\n",
      "\t6 features in original data used to generate 6 features in processed data.\n",
      "\tTrain Data (Processed) Memory Usage: 4.24 MB (0.0% of available memory)\n",
      "Data preprocessing and feature engineering runtime = 0.13s ...\n",
      "AutoGluon will gauge predictive performance using evaluation metric: 'root_mean_squared_error'\n",
      "\tThis metric's sign has been flipped to adhere to being higher_is_better. The metric score can be multiplied by -1 to get the metric value.\n",
      "\tTo change this, specify the eval_metric parameter of Predictor()\n",
      "AutoGluon will fit 2 stack levels (L1 to L2) ...\n",
      "Fitting 11 L1 models ...\n",
      "Fitting model: KNeighborsUnif_BAG_L1 ... Training model for up to 199.87s of the 299.87s of remaining time.\n",
      "\t-0.014\t = Validation score   (-root_mean_squared_error)\n",
      "\t0.23s\t = Training   runtime\n",
      "\t1.18s\t = Validation runtime\n",
      "Fitting model: KNeighborsDist_BAG_L1 ... Training model for up to 198.15s of the 298.16s of remaining time.\n",
      "\t-0.0125\t = Validation score   (-root_mean_squared_error)\n",
      "\t0.14s\t = Training   runtime\n",
      "\t1.18s\t = Validation runtime\n",
      "Fitting model: LightGBMXT_BAG_L1 ... Training model for up to 196.53s of the 296.54s of remaining time.\n",
      "\tFitting 8 child models (S1F1 - S1F8) | Fitting with ParallelLocalFoldFittingStrategy\n",
      "\t-0.0118\t = Validation score   (-root_mean_squared_error)\n",
      "\t158.11s\t = Training   runtime\n",
      "\t0.24s\t = Validation runtime\n",
      "Fitting model: LightGBM_BAG_L1 ... Training model for up to 36.35s of the 136.36s of remaining time.\n",
      "\tFitting 8 child models (S1F1 - S1F8) | Fitting with ParallelLocalFoldFittingStrategy\n",
      "\t-0.1099\t = Validation score   (-root_mean_squared_error)\n",
      "\t29.99s\t = Training   runtime\n",
      "\t0.15s\t = Validation runtime\n",
      "Fitting model: RandomForestMSE_BAG_L1 ... Training model for up to 4.24s of the 104.25s of remaining time.\n",
      "\tNot enough time to generate out-of-fold predictions for model. Estimated time required was 91.62s compared to 10s of available time.\n",
      "\tTime limit exceeded... Skipping RandomForestMSE_BAG_L1.\n",
      "Fitting model: CatBoost_BAG_L1 ... Training model for up to 0.1s of the 100.11s of remaining time.\n",
      "\tFitting 8 child models (S1F1 - S1F8) | Fitting with ParallelLocalFoldFittingStrategy\n",
      "\tTime limit exceeded... Skipping CatBoost_BAG_L1.\n",
      "Completed 1/20 k-fold bagging repeats ...\n",
      "Fitting model: WeightedEnsemble_L2 ... Training model for up to 299.87s of the 97.63s of remaining time.\n",
      "2023-06-12 01:43:54,599\tERROR worker.py:400 -- Unhandled error (suppress with 'RAY_IGNORE_UNHANDLED_ERRORS=1'): The worker died unexpectedly while executing this task. Check python-core-worker-*.log files for more information.\n",
      "2023-06-12 01:43:54,600\tERROR worker.py:400 -- Unhandled error (suppress with 'RAY_IGNORE_UNHANDLED_ERRORS=1'): The worker died unexpectedly while executing this task. Check python-core-worker-*.log files for more information.\n",
      "2023-06-12 01:43:54,601\tERROR worker.py:400 -- Unhandled error (suppress with 'RAY_IGNORE_UNHANDLED_ERRORS=1'): The worker died unexpectedly while executing this task. Check python-core-worker-*.log files for more information.\n",
      "2023-06-12 01:43:54,602\tERROR worker.py:400 -- Unhandled error (suppress with 'RAY_IGNORE_UNHANDLED_ERRORS=1'): The worker died unexpectedly while executing this task. Check python-core-worker-*.log files for more information.\n",
      "2023-06-12 01:43:54,603\tERROR worker.py:400 -- Unhandled error (suppress with 'RAY_IGNORE_UNHANDLED_ERRORS=1'): The worker died unexpectedly while executing this task. Check python-core-worker-*.log files for more information.\n",
      "2023-06-12 01:43:54,604\tERROR worker.py:400 -- Unhandled error (suppress with 'RAY_IGNORE_UNHANDLED_ERRORS=1'): The worker died unexpectedly while executing this task. Check python-core-worker-*.log files for more information.\n",
      "2023-06-12 01:43:54,605\tERROR worker.py:400 -- Unhandled error (suppress with 'RAY_IGNORE_UNHANDLED_ERRORS=1'): The worker died unexpectedly while executing this task. Check python-core-worker-*.log files for more information.\n",
      "\t-0.0098\t = Validation score   (-root_mean_squared_error)\n",
      "\t0.6s\t = Training   runtime\n",
      "\t0.0s\t = Validation runtime\n",
      "Fitting 9 L2 models ...\n",
      "Fitting model: LightGBMXT_BAG_L2 ... Training model for up to 97.02s of the 97.01s of remaining time.\n",
      "\tFitting 8 child models (S1F1 - S1F8) | Fitting with ParallelLocalFoldFittingStrategy\n",
      "\t-0.0165\t = Validation score   (-root_mean_squared_error)\n",
      "\t78.3s\t = Training   runtime\n",
      "\t0.2s\t = Validation runtime\n",
      "Fitting model: LightGBM_BAG_L2 ... Training model for up to 16.64s of the 16.63s of remaining time.\n",
      "\tFitting 8 child models (S1F1 - S1F8) | Fitting with ParallelLocalFoldFittingStrategy\n",
      "\t-0.2001\t = Validation score   (-root_mean_squared_error)\n",
      "\t14.33s\t = Training   runtime\n",
      "\t0.2s\t = Validation runtime\n",
      "Fitting model: RandomForestMSE_BAG_L2 ... Training model for up to 0.2s of the 0.19s of remaining time.\n",
      "\tNot enough time to generate out-of-fold predictions for model. Estimated time required was 83.85s compared to 10s of available time.\n",
      "\tTime limit exceeded... Skipping RandomForestMSE_BAG_L2.\n",
      "Completed 1/20 k-fold bagging repeats ...\n",
      "Fitting model: WeightedEnsemble_L3 ... Training model for up to 299.87s of the -4.46s of remaining time.\n",
      "\t-0.0165\t = Validation score   (-root_mean_squared_error)\n",
      "\t0.48s\t = Training   runtime\n",
      "\t0.0s\t = Validation runtime\n",
      "AutoGluon training complete, total runtime = 304.95s ... Best model: \"WeightedEnsemble_L2\"\n",
      "TabularPredictor saved. To load, use: predictor = TabularPredictor.load(\"AutogluonModels/ag-20230612_014032/\")\n"
     ]
    }
   ],
   "source": [
    "time_limit = 60*5\n",
    "\n",
    "# train the model\n",
    "predictor = TabularPredictor(label='SOC').fit(\n",
    "    train_data, \n",
    "    time_limit=time_limit,\n",
    "    presets='best_quality'\n",
    ")\n"
   ]
  },
  {
   "cell_type": "code",
   "execution_count": 11,
   "metadata": {},
   "outputs": [
    {
     "name": "stdout",
     "output_type": "stream",
     "text": [
      "                   model    score_test  score_val  pred_time_test  \\\n",
      "0  KNeighborsDist_BAG_L1 -1.250492e-08  -0.012498        1.356409   \n",
      "1    WeightedEnsemble_L2 -5.457388e-03  -0.009827        1.882942   \n",
      "2      LightGBMXT_BAG_L1 -1.000521e-02  -0.011786        0.523937   \n",
      "3  KNeighborsUnif_BAG_L1 -1.098546e-02  -0.013975        1.031687   \n",
      "4      LightGBMXT_BAG_L2 -1.333371e-02  -0.016466        3.803345   \n",
      "5    WeightedEnsemble_L3 -1.333371e-02  -0.016466        3.804964   \n",
      "6        LightGBM_BAG_L1 -1.084484e-01  -0.109895        0.422678   \n",
      "7        LightGBM_BAG_L2 -1.991361e-01  -0.200066        3.761743   \n",
      "\n",
      "   pred_time_val    fit_time  pred_time_test_marginal  pred_time_val_marginal  \\\n",
      "0       1.178864    0.144729                 1.356409                1.178864   \n",
      "1       1.422873  158.851242                 0.002595                0.001170   \n",
      "2       0.242839  158.106494                 0.523937                0.242839   \n",
      "3       1.183366    0.227925                 1.031687                1.183366   \n",
      "4       2.953211  266.768232                 0.468633                0.199267   \n",
      "5       2.954702  267.246079                 0.001619                0.001491   \n",
      "6       0.148875   29.985392                 0.422678                0.148875   \n",
      "7       2.956158  202.798109                 0.427031                0.202214   \n",
      "\n",
      "   fit_time_marginal  stack_level  can_infer  fit_order  \n",
      "0           0.144729            1       True          2  \n",
      "1           0.600019            2       True          5  \n",
      "2         158.106494            1       True          3  \n",
      "3           0.227925            1       True          1  \n",
      "4          78.303691            2       True          6  \n",
      "5           0.477847            3       True          8  \n",
      "6          29.985392            1       True          4  \n",
      "7          14.333568            2       True          7  \n"
     ]
    }
   ],
   "source": [
    "# test the model\n",
    "y_pred = predictor.predict(test_data)\n",
    "\n",
    "# print the predictions leader board\n",
    "print(predictor.leaderboard(test_data, silent=True))"
   ]
  },
  {
   "cell_type": "code",
   "execution_count": 12,
   "metadata": {},
   "outputs": [
    {
     "name": "stderr",
     "output_type": "stream",
     "text": [
      "/home/witvoetk/anaconda3/envs/tf/lib/python3.10/site-packages/autogluon/tabular/predictor/predictor.py:1420: FutureWarning: Calling `predictor.predict_proba` when problem_type=regression will raise an AssertionError starting in AutoGluon v0.8. Please call `predictor.predict` instead.\n",
      "  warnings.warn(\n"
     ]
    },
    {
     "data": {
      "text/plain": [
       "{'root_mean_squared_error': -0.005457387828045046,\n",
       " 'mean_squared_error': -2.978308190569422e-05,\n",
       " 'mean_absolute_error': -0.0035549803876663228,\n",
       " 'r2': 0.9997106294173049,\n",
       " 'pearsonr': 0.9998565965997956,\n",
       " 'median_absolute_error': -0.0021500626987304705}"
      ]
     },
     "execution_count": 12,
     "metadata": {},
     "output_type": "execute_result"
    }
   ],
   "source": [
    "predictor.evaluate(test_data, silent=True)"
   ]
  },
  {
   "cell_type": "code",
   "execution_count": 13,
   "metadata": {},
   "outputs": [
    {
     "data": {
      "image/png": "[encoded data removed]",
      "text/plain": [
       "<Figure size 640x480 with 1 Axes>"
      ]
     },
     "metadata": {},
     "output_type": "display_data"
    }
   ],
   "source": [
    "#plot the predictions vs the actual values in matplotlib\n",
    "import matplotlib.pyplot as plt\n",
    "\n",
    "plt.plot(y_pred, label='Predicted')\n",
    "plt.plot(test_data['SOC'], label='Actual')\n",
    "plt.legend()\n",
    "plt.show()"
   ]
  },
  {
   "cell_type": "code",
   "execution_count": 14,
   "metadata": {},
   "outputs": [],
   "source": [
    "#save the top performing model as a pickle file\n",
    "import pickle\n",
    "\n",
    "with open('test_model.pkl', 'wb') as f:\n",
    "    pickle.dump(predictor, f)"
   ]
  }
 ],
 "metadata": {
  "kernelspec": {
   "display_name": "tf",
   "language": "python",
   "name": "python3"
  },
  "language_info": {
   "codemirror_mode": {
    "name": "ipython",
    "version": 3
   },
   "file_extension": ".py",
   "mimetype": "text/x-python",
   "name": "python",
   "nbconvert_exporter": "python",
   "pygments_lexer": "ipython3",
   "version": "3.10.8"
  },
  "orig_nbformat": 4
 },
 "nbformat": 4,
 "nbformat_minor": 2
}
