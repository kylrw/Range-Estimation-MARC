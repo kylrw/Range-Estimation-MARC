{
 "cells": [
  {
   "cell_type": "code",
   "execution_count": 15,
   "metadata": {},
   "outputs": [],
   "source": [
    "from autogluon.tabular import TabularDataset, TabularPredictor\n",
    "import numpy as np\n",
    "import math"
   ]
  },
  {
   "cell_type": "code",
   "execution_count": 16,
   "metadata": {},
   "outputs": [
    {
     "data": {
      "text/html": [
       "<div>\n",
       "<style scoped>\n",
       "    .dataframe tbody tr th:only-of-type {\n",
       "        vertical-align: middle;\n",
       "    }\n",
       "\n",
       "    .dataframe tbody tr th {\n",
       "        vertical-align: top;\n",
       "    }\n",
       "\n",
       "    .dataframe thead th {\n",
       "        text-align: right;\n",
       "    }\n",
       "</style>\n",
       "<table border=\"1\" class=\"dataframe\">\n",
       "  <thead>\n",
       "    <tr style=\"text-align: right;\">\n",
       "      <th></th>\n",
       "      <th>initial_SOC</th>\n",
       "      <th>final_SOC</th>\n",
       "      <th>altitude</th>\n",
       "      <th>avg_speed</th>\n",
       "      <th>total_distance</th>\n",
       "    </tr>\n",
       "  </thead>\n",
       "  <tbody>\n",
       "    <tr>\n",
       "      <th>0</th>\n",
       "      <td>100.000031</td>\n",
       "      <td>100.000031</td>\n",
       "      <td>-3.061713</td>\n",
       "      <td>7.642350</td>\n",
       "      <td>4585.410159</td>\n",
       "    </tr>\n",
       "    <tr>\n",
       "      <th>1</th>\n",
       "      <td>100.000031</td>\n",
       "      <td>97.254936</td>\n",
       "      <td>-15.727699</td>\n",
       "      <td>10.868607</td>\n",
       "      <td>19563.491967</td>\n",
       "    </tr>\n",
       "    <tr>\n",
       "      <th>2</th>\n",
       "      <td>100.000031</td>\n",
       "      <td>82.745125</td>\n",
       "      <td>16.742852</td>\n",
       "      <td>19.137057</td>\n",
       "      <td>62941.779735</td>\n",
       "    </tr>\n",
       "    <tr>\n",
       "      <th>3</th>\n",
       "      <td>100.000031</td>\n",
       "      <td>82.745125</td>\n",
       "      <td>16.898911</td>\n",
       "      <td>19.140113</td>\n",
       "      <td>62970.972443</td>\n",
       "    </tr>\n",
       "    <tr>\n",
       "      <th>4</th>\n",
       "      <td>62.745117</td>\n",
       "      <td>61.960804</td>\n",
       "      <td>10.806161</td>\n",
       "      <td>10.810055</td>\n",
       "      <td>6486.032991</td>\n",
       "    </tr>\n",
       "  </tbody>\n",
       "</table>\n",
       "</div>"
      ],
      "text/plain": [
       "   initial_SOC   final_SOC   altitude  avg_speed  total_distance\n",
       "0   100.000031  100.000031  -3.061713   7.642350     4585.410159\n",
       "1   100.000031   97.254936 -15.727699  10.868607    19563.491967\n",
       "2   100.000031   82.745125  16.742852  19.137057    62941.779735\n",
       "3   100.000031   82.745125  16.898911  19.140113    62970.972443\n",
       "4    62.745117   61.960804  10.806161  10.810055     6486.032991"
      ]
     },
     "execution_count": 16,
     "metadata": {},
     "output_type": "execute_result"
    }
   ],
   "source": [
    "train_data = TabularDataset(f'Data/phil_rangedata_train.csv')\n",
    "train_data.head()"
   ]
  },
  {
   "cell_type": "code",
   "execution_count": 17,
   "metadata": {},
   "outputs": [
    {
     "data": {
      "text/plain": [
       "count    446.000000\n",
       "mean      63.703529\n",
       "std       25.232615\n",
       "min       10.588239\n",
       "25%       44.705896\n",
       "50%       69.411789\n",
       "75%       82.745125\n",
       "max      100.000031\n",
       "Name: final_SOC, dtype: float64"
      ]
     },
     "execution_count": 17,
     "metadata": {},
     "output_type": "execute_result"
    }
   ],
   "source": [
    "label = 'final_SOC'\n",
    "train_data[label].describe()"
   ]
  },
  {
   "cell_type": "code",
   "execution_count": 18,
   "metadata": {},
   "outputs": [
    {
     "name": "stderr",
     "output_type": "stream",
     "text": [
      "No path specified. Models will be saved in: \"AutogluonModels/ag-20230421_050836/\"\n",
      "AutoGluon infers your prediction problem is: 'regression' (because dtype of label-column == float and many unique label-values observed).\n",
      "\tIf 'regression' is not the correct problem_type, please manually specify the problem_type parameter during predictor init (You may specify problem_type as one of: ['binary', 'multiclass', 'regression'])\n"
     ]
    }
   ],
   "source": [
    "predictor = TabularPredictor(label=label,eval_metric='root_mean_squared_error').fit(\n",
    "    train_data, \n",
    "    presets=['best_quality'], \n",
    "    time_limit = 60,\n",
    "    verbosity=1) "
   ]
  },
  {
   "cell_type": "code",
   "execution_count": 19,
   "metadata": {},
   "outputs": [],
   "source": [
    "test_data1 = TabularDataset(f'Data/phil_rangedata_test1.csv')\n",
    "test_data1[label].describe()\n",
    "\n",
    "y_pred1 = predictor.predict(test_data1.drop(columns=[label]))\n"
   ]
  },
  {
   "cell_type": "code",
   "execution_count": 20,
   "metadata": {},
   "outputs": [
    {
     "name": "stderr",
     "output_type": "stream",
     "text": [
      "/home/witvoetk/anaconda3/envs/tf/lib/python3.10/site-packages/autogluon/tabular/predictor/predictor.py:1420: FutureWarning: Calling `predictor.predict_proba` when problem_type=regression will raise an AssertionError starting in AutoGluon v0.8. Please call `predictor.predict` instead.\n",
      "  warnings.warn(\n"
     ]
    },
    {
     "data": {
      "text/plain": [
       "{'root_mean_squared_error': -3.9890543396397806,\n",
       " 'mean_squared_error': -15.912554524598965,\n",
       " 'mean_absolute_error': -3.0653300285034177,\n",
       " 'r2': 0.9841100220405594,\n",
       " 'pearsonr': 0.9978370165336024,\n",
       " 'median_absolute_error': -1.8334884665624998}"
      ]
     },
     "execution_count": 20,
     "metadata": {},
     "output_type": "execute_result"
    }
   ],
   "source": [
    "predictor.evaluate(test_data1, silent=True)"
   ]
  },
  {
   "cell_type": "code",
   "execution_count": 21,
   "metadata": {},
   "outputs": [
    {
     "data": {
      "image/png": "[encoded data removed]",
      "text/plain": [
       "<Figure size 640x480 with 1 Axes>"
      ]
     },
     "metadata": {},
     "output_type": "display_data"
    }
   ],
   "source": [
    "import matplotlib.pyplot as plt\n",
    "#plot the predicted vs true values for test data1\n",
    "plt.plot(y_pred1, label=\"Predictions\")\n",
    "plt.plot(test_data1[label], label=\"True Values\")\n",
    "plt.legend()\n",
    "plt.show()"
   ]
  },
  {
   "cell_type": "code",
   "execution_count": 22,
   "metadata": {},
   "outputs": [
    {
     "name": "stderr",
     "output_type": "stream",
     "text": [
      "/home/witvoetk/anaconda3/envs/tf/lib/python3.10/site-packages/autogluon/tabular/predictor/predictor.py:1420: FutureWarning: Calling `predictor.predict_proba` when problem_type=regression will raise an AssertionError starting in AutoGluon v0.8. Please call `predictor.predict` instead.\n",
      "  warnings.warn(\n"
     ]
    },
    {
     "data": {
      "text/plain": [
       "{'root_mean_squared_error': -1.0721812110401558,\n",
       " 'mean_squared_error': -1.1495725493075353,\n",
       " 'mean_absolute_error': -0.9052015953076165,\n",
       " 'r2': 0.9944290804646279,\n",
       " 'pearsonr': 0.9997892228284476,\n",
       " 'median_absolute_error': -0.9551897056372063}"
      ]
     },
     "execution_count": 22,
     "metadata": {},
     "output_type": "execute_result"
    }
   ],
   "source": [
    "#test test data 2\n",
    "test_data2 = TabularDataset(f'Data/phil_rangedata_test2.csv')\n",
    "y_pred2 = predictor.predict(test_data2.drop(columns=[label]))\n",
    "\n",
    "predictor.evaluate(test_data2, silent=True)"
   ]
  },
  {
   "cell_type": "code",
   "execution_count": 23,
   "metadata": {},
   "outputs": [
    {
     "data": {
      "image/png": "[encoded data removed]",
      "text/plain": [
       "<Figure size 640x480 with 1 Axes>"
      ]
     },
     "metadata": {},
     "output_type": "display_data"
    }
   ],
   "source": [
    "#plot the predicted vs true values for test data2\n",
    "plt.plot(y_pred2, label=\"Predictions\")\n",
    "plt.plot(test_data2[label], label=\"True Values\")\n",
    "plt.legend()\n",
    "plt.show()"
   ]
  },
  {
   "cell_type": "code",
   "execution_count": 24,
   "metadata": {},
   "outputs": [],
   "source": [
    "# save each test to a csv file with 2 columns: predicted and true\n",
    "import pandas as pd\n",
    "\n",
    "df = pd.DataFrame({'predicted': y_pred1, 'true': test_data1[label]})\n",
    "df.to_csv('Data/phil_rangedata_pred1.csv', index=False)\n",
    "\n",
    "df = pd.DataFrame({'predicted': y_pred2, 'true': test_data2[label]})\n",
    "df.to_csv('Data/phil_rangedata_pred2.csv', index=False)\n",
    "\n",
    "\n",
    "\n",
    "\n"
   ]
  }
 ],
 "metadata": {
  "kernelspec": {
   "display_name": "venv",
   "language": "python",
   "name": "python3"
  },
  "language_info": {
   "codemirror_mode": {
    "name": "ipython",
    "version": 3
   },
   "file_extension": ".py",
   "mimetype": "text/x-python",
   "name": "python",
   "nbconvert_exporter": "python",
   "pygments_lexer": "ipython3",
   "version": "3.10.8"
  },
  "orig_nbformat": 4
 },
 "nbformat": 4,
 "nbformat_minor": 2
}
