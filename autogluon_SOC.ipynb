{
 "cells": [
  {
   "cell_type": "code",
   "execution_count": 1,
   "metadata": {},
   "outputs": [
    {
     "name": "stderr",
     "output_type": "stream",
     "text": [
<<<<<<< HEAD
      "c:\\Users\\kwitv\\Documents\\MARC\\Range-Estimation-MARC\\venv\\lib\\site-packages\\tqdm\\auto.py:21: TqdmWarning: IProgress not found. Please update jupyter and ipywidgets. See https://ipywidgets.readthedocs.io/en/stable/user_install.html\n",
=======
      "/home/witvoetk/anaconda3/envs/tf/lib/python3.10/site-packages/tqdm/auto.py:21: TqdmWarning: IProgress not found. Please update jupyter and ipywidgets. See https://ipywidgets.readthedocs.io/en/stable/user_install.html\n",
>>>>>>> 75eb1cba7ef0ba9763eb55573919065141b4d0c4
      "  from .autonotebook import tqdm as notebook_tqdm\n"
     ]
    }
   ],
   "source": [
    "from autogluon.tabular import TabularDataset, TabularPredictor\n",
    "from ray import tune\n",
    "import numpy as np\n",
    "import math"
   ]
  },
  {
   "cell_type": "code",
   "execution_count": 2,
   "metadata": {},
   "outputs": [
    {
     "data": {
      "text/html": [
       "<div>\n",
       "<style scoped>\n",
       "    .dataframe tbody tr th:only-of-type {\n",
       "        vertical-align: middle;\n",
       "    }\n",
       "\n",
       "    .dataframe tbody tr th {\n",
       "        vertical-align: top;\n",
       "    }\n",
       "\n",
       "    .dataframe thead th {\n",
       "        text-align: right;\n",
       "    }\n",
       "</style>\n",
       "<table border=\"1\" class=\"dataframe\">\n",
       "  <thead>\n",
       "    <tr style=\"text-align: right;\">\n",
       "      <th></th>\n",
       "      <th>SOC</th>\n",
       "      <th>V</th>\n",
       "      <th>I</th>\n",
       "      <th>P</th>\n",
       "      <th>V_avg_five</th>\n",
       "      <th>V_avg_one</th>\n",
       "      <th>I_avg</th>\n",
       "    </tr>\n",
       "  </thead>\n",
       "  <tbody>\n",
       "    <tr>\n",
       "      <th>0</th>\n",
       "      <td>100.000031</td>\n",
<<<<<<< HEAD
       "      <td>400.75</td>\n",
       "      <td>0.000000</td>\n",
       "      <td>0.000000</td>\n",
       "      <td>400.75</td>\n",
       "      <td>0.000000</td>\n",
=======
       "      <td>400.125</td>\n",
       "      <td>-1.50</td>\n",
       "      <td>-600.187500</td>\n",
       "      <td>400.125</td>\n",
       "      <td>400.125</td>\n",
       "      <td>-1.50</td>\n",
>>>>>>> 75eb1cba7ef0ba9763eb55573919065141b4d0c4
       "    </tr>\n",
       "    <tr>\n",
       "      <th>1</th>\n",
       "      <td>100.000031</td>\n",
<<<<<<< HEAD
       "      <td>400.75</td>\n",
       "      <td>-0.270000</td>\n",
       "      <td>-108.202337</td>\n",
       "      <td>400.75</td>\n",
       "      <td>-0.135000</td>\n",
=======
       "      <td>400.125</td>\n",
       "      <td>-1.56</td>\n",
       "      <td>-624.195042</td>\n",
       "      <td>400.125</td>\n",
       "      <td>400.125</td>\n",
       "      <td>-1.53</td>\n",
>>>>>>> 75eb1cba7ef0ba9763eb55573919065141b4d0c4
       "    </tr>\n",
       "    <tr>\n",
       "      <th>2</th>\n",
       "      <td>100.000031</td>\n",
<<<<<<< HEAD
       "      <td>400.75</td>\n",
       "      <td>-0.539999</td>\n",
       "      <td>-216.404674</td>\n",
       "      <td>400.75</td>\n",
       "      <td>-0.270000</td>\n",
=======
       "      <td>400.125</td>\n",
       "      <td>-1.62</td>\n",
       "      <td>-648.202585</td>\n",
       "      <td>400.125</td>\n",
       "      <td>400.125</td>\n",
       "      <td>-1.56</td>\n",
>>>>>>> 75eb1cba7ef0ba9763eb55573919065141b4d0c4
       "    </tr>\n",
       "    <tr>\n",
       "      <th>3</th>\n",
       "      <td>100.000031</td>\n",
<<<<<<< HEAD
       "      <td>400.75</td>\n",
       "      <td>-0.809999</td>\n",
       "      <td>-324.607010</td>\n",
       "      <td>400.75</td>\n",
       "      <td>-0.404999</td>\n",
=======
       "      <td>400.125</td>\n",
       "      <td>-1.68</td>\n",
       "      <td>-672.210127</td>\n",
       "      <td>400.125</td>\n",
       "      <td>400.125</td>\n",
       "      <td>-1.59</td>\n",
>>>>>>> 75eb1cba7ef0ba9763eb55573919065141b4d0c4
       "    </tr>\n",
       "    <tr>\n",
       "      <th>4</th>\n",
       "      <td>100.000031</td>\n",
<<<<<<< HEAD
       "      <td>400.75</td>\n",
       "      <td>-1.079998</td>\n",
       "      <td>-432.809347</td>\n",
       "      <td>400.75</td>\n",
       "      <td>-0.539999</td>\n",
=======
       "      <td>400.125</td>\n",
       "      <td>-1.74</td>\n",
       "      <td>-696.217669</td>\n",
       "      <td>400.125</td>\n",
       "      <td>400.125</td>\n",
       "      <td>-1.62</td>\n",
>>>>>>> 75eb1cba7ef0ba9763eb55573919065141b4d0c4
       "    </tr>\n",
       "  </tbody>\n",
       "</table>\n",
       "</div>"
      ],
      "text/plain": [
<<<<<<< HEAD
       "          SOC       V         I           P   V_avg     I_avg\n",
       "0  100.000031  400.75  0.000000    0.000000  400.75  0.000000\n",
       "1  100.000031  400.75 -0.270000 -108.202337  400.75 -0.135000\n",
       "2  100.000031  400.75 -0.539999 -216.404674  400.75 -0.270000\n",
       "3  100.000031  400.75 -0.809999 -324.607010  400.75 -0.404999\n",
       "4  100.000031  400.75 -1.079998 -432.809347  400.75 -0.539999"
=======
       "          SOC        V     I           P  V_avg_five  V_avg_one  I_avg\n",
       "0  100.000031  400.125 -1.50 -600.187500     400.125    400.125  -1.50\n",
       "1  100.000031  400.125 -1.56 -624.195042     400.125    400.125  -1.53\n",
       "2  100.000031  400.125 -1.62 -648.202585     400.125    400.125  -1.56\n",
       "3  100.000031  400.125 -1.68 -672.210127     400.125    400.125  -1.59\n",
       "4  100.000031  400.125 -1.74 -696.217669     400.125    400.125  -1.62"
>>>>>>> 75eb1cba7ef0ba9763eb55573919065141b4d0c4
      ]
     },
     "execution_count": 2,
     "metadata": {},
     "output_type": "execute_result"
    }
   ],
   "source": [
    "#import data from Data/phil_socdata_train.csv, normalize (between 0 and 1) and standardize\n",
    "train_data = TabularDataset('Data/phil_socdata_train.csv')\n",
    "\n",
    "# drop the \"T\" column as it doesnt help with the prediction\n",
    "train_data = train_data.drop(labels=['T'],axis=1)\n",
    "train_data.head()\n"
   ]
  },
  {
   "cell_type": "code",
<<<<<<< HEAD
   "execution_count": 3,
=======
   "execution_count": 41,
>>>>>>> 75eb1cba7ef0ba9763eb55573919065141b4d0c4
   "metadata": {},
   "outputs": [
    {
     "data": {
      "text/plain": [
       "<Axes: >"
      ]
     },
<<<<<<< HEAD
     "execution_count": 3,
=======
     "execution_count": 41,
>>>>>>> 75eb1cba7ef0ba9763eb55573919065141b4d0c4
     "metadata": {},
     "output_type": "execute_result"
    },
    {
     "data": {
<<<<<<< HEAD
      "image/png": "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",
=======
      "image/png": "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",
>>>>>>> 75eb1cba7ef0ba9763eb55573919065141b4d0c4
      "text/plain": [
       "<Figure size 640x480 with 1 Axes>"
      ]
     },
     "metadata": {},
     "output_type": "display_data"
    }
   ],
   "source": [
<<<<<<< HEAD
    "#plots V in the training data\n",
    "train_data['V'].plot()\n"
=======
    "# plot V\n",
    "train_data['V_avg_one'].plot()"
   ]
  },
  {
   "cell_type": "code",
   "execution_count": null,
   "metadata": {},
   "outputs": [],
   "source": [
    "import pandas as pd\n",
    "# create a data fram with 3 values, 1,2,3\n",
    "df = pd.DataFrame({'A': [1, 2, 3]})\n",
    "print(df)\n",
    "\n",
    "for x in range(len(df)):\n",
    "    if x ==1:\n",
    "        df.drop(x)"
>>>>>>> 75eb1cba7ef0ba9763eb55573919065141b4d0c4
   ]
  },
  {
   "cell_type": "code",
   "execution_count": 4,
   "metadata": {},
   "outputs": [
    {
     "data": {
      "text/plain": [
       "count    421697.000000\n",
       "mean         68.185519\n",
       "std          24.502969\n",
       "min           0.000000\n",
       "25%          49.019623\n",
       "50%          73.333359\n",
       "75%          89.019638\n",
       "max         100.000031\n",
       "Name: SOC, dtype: float64"
      ]
     },
     "execution_count": 4,
     "metadata": {},
     "output_type": "execute_result"
    }
   ],
   "source": [
    "label = 'SOC'\n",
    "train_data[label].describe()"
   ]
  },
  {
   "cell_type": "code",
<<<<<<< HEAD
   "execution_count": 5,
=======
   "execution_count": 23,
>>>>>>> 75eb1cba7ef0ba9763eb55573919065141b4d0c4
   "metadata": {},
   "outputs": [
    {
     "name": "stderr",
     "output_type": "stream",
     "text": [
<<<<<<< HEAD
      "No path specified. Models will be saved in: \"AutogluonModels\\ag-20230420_142527\\\"\n",
      "Presets specified: ['best_quality']\n",
      "Stack configuration (auto_stack=True): num_stack_levels=1, num_bag_folds=8, num_bag_sets=20\n",
      "Beginning AutoGluon training ... Time limit = 60s\n",
      "AutoGluon will save models to \"AutogluonModels\\ag-20230420_142527\\\"\n",
      "AutoGluon Version:  0.7.0\n",
      "Python Version:     3.10.11\n",
      "Operating System:   Windows\n",
      "Platform Machine:   AMD64\n",
      "Platform Version:   10.0.22621\n",
      "Train Data Rows:    421697\n",
      "Train Data Columns: 5\n",
=======
      "No path specified. Models will be saved in: \"AutogluonModels/ag-20230415_174220/\"\n",
      "Presets specified: ['best_quality', 'optimize_for_deployment']\n",
      "Stack configuration (auto_stack=True): num_stack_levels=1, num_bag_folds=8, num_bag_sets=20\n",
      "Beginning AutoGluon training ... Time limit = 60s\n",
      "AutoGluon will save models to \"AutogluonModels/ag-20230415_174220/\"\n",
      "AutoGluon Version:  0.7.0\n",
      "Python Version:     3.10.8\n",
      "Operating System:   Linux\n",
      "Platform Machine:   x86_64\n",
      "Platform Version:   #148-Ubuntu SMP Mon Oct 17 16:02:06 UTC 2022\n",
      "Train Data Rows:    421697\n",
      "Train Data Columns: 6\n",
>>>>>>> 75eb1cba7ef0ba9763eb55573919065141b4d0c4
      "Label Column: SOC\n",
      "Preprocessing data ...\n",
      "AutoGluon infers your prediction problem is: 'regression' (because dtype of label-column == float and many unique label-values observed).\n",
      "\tLabel info (max, min, mean, stddev): (100.000030517578, 0.0, 68.18552, 24.50297)\n",
      "\tIf 'regression' is not the correct problem_type, please manually specify the problem_type parameter during predictor init (You may specify problem_type as one of: ['binary', 'multiclass', 'regression'])\n",
      "Using Feature Generators to preprocess the data ...\n",
      "Fitting AutoMLPipelineFeatureGenerator...\n",
<<<<<<< HEAD
      "\tAvailable Memory:                    4566.67 MB\n",
      "\tTrain Data (Original)  Memory Usage: 16.87 MB (0.4% of available memory)\n",
=======
      "\tAvailable Memory:                    531781.89 MB\n",
      "\tTrain Data (Original)  Memory Usage: 20.24 MB (0.0% of available memory)\n",
>>>>>>> 75eb1cba7ef0ba9763eb55573919065141b4d0c4
      "\tInferring data type of each feature based on column values. Set feature_metadata_in to manually specify special dtypes of the features.\n",
      "\tStage 1 Generators:\n",
      "\t\tFitting AsTypeFeatureGenerator...\n",
      "\tStage 2 Generators:\n",
      "\t\tFitting FillNaFeatureGenerator...\n",
      "\tStage 3 Generators:\n",
      "\t\tFitting IdentityFeatureGenerator...\n",
      "\tStage 4 Generators:\n",
      "\t\tFitting DropUniqueFeatureGenerator...\n",
      "\tTypes of features in original data (raw dtype, special dtypes):\n",
      "\t\t('float', []) : 6 | ['V', 'I', 'P', 'V_avg_five', 'V_avg_one', ...]\n",
      "\tTypes of features in processed data (raw dtype, special dtypes):\n",
<<<<<<< HEAD
      "\t\t('float', []) : 5 | ['V', 'I', 'P', 'V_avg', 'I_avg']\n",
      "\t0.6s = Fit runtime\n",
      "\t5 features in original data used to generate 5 features in processed data.\n",
      "\tTrain Data (Processed) Memory Usage: 16.87 MB (0.4% of available memory)\n",
      "Data preprocessing and feature engineering runtime = 0.72s ...\n",
      "AutoGluon will gauge predictive performance using evaluation metric: 'root_mean_squared_error'\n",
=======
      "\t\t('float', []) : 6 | ['V', 'I', 'P', 'V_avg_five', 'V_avg_one', ...]\n",
      "\t0.7s = Fit runtime\n",
      "\t6 features in original data used to generate 6 features in processed data.\n",
      "\tTrain Data (Processed) Memory Usage: 20.24 MB (0.0% of available memory)\n",
      "Data preprocessing and feature engineering runtime = 0.76s ...\n",
      "AutoGluon will gauge predictive performance using evaluation metric: 'mean_squared_error'\n",
>>>>>>> 75eb1cba7ef0ba9763eb55573919065141b4d0c4
      "\tThis metric's sign has been flipped to adhere to being higher_is_better. The metric score can be multiplied by -1 to get the metric value.\n",
      "\tTo change this, specify the eval_metric parameter of Predictor()\n",
      "AutoGluon will fit 2 stack levels (L1 to L2) ...\n",
      "Fitting 11 L1 models ...\n",
<<<<<<< HEAD
      "Fitting model: KNeighborsUnif_BAG_L1 ... Training model for up to 39.51s of the 59.28s of remaining time.\n",
      "\tNot enough time to generate out-of-fold predictions for model. Estimated time required was 100.95s compared to 50.56s of available time.\n",
      "\tTime limit exceeded... Skipping KNeighborsUnif_BAG_L1.\n",
      "Fitting model: KNeighborsDist_BAG_L1 ... Training model for up to 32.36s of the 52.13s of remaining time.\n",
      "\t-3.5434\t = Validation score   (-root_mean_squared_error)\n",
      "\t0.84s\t = Training   runtime\n",
      "\t1.56s\t = Validation runtime\n",
      "Fitting model: LightGBMXT_BAG_L1 ... Training model for up to 29.78s of the 49.55s of remaining time.\n",
      "\tFitting 8 child models (S1F1 - S1F8) | Fitting with ParallelLocalFoldFittingStrategy\n",
      "\t-2.2222\t = Validation score   (-root_mean_squared_error)\n",
      "\t21.34s\t = Training   runtime\n",
      "\t16.02s\t = Validation runtime\n",
      "Completed 1/20 k-fold bagging repeats ...\n",
      "Fitting model: WeightedEnsemble_L2 ... Training model for up to 59.28s of the 13.47s of remaining time.\n",
      "\t-2.2049\t = Validation score   (-root_mean_squared_error)\n",
      "\t4.32s\t = Training   runtime\n",
      "\t0.01s\t = Validation runtime\n",
      "Fitting 9 L2 models ...\n",
      "Fitting model: LightGBMXT_BAG_L2 ... Training model for up to 9.1s of the 9.08s of remaining time.\n",
      "\tFitting 8 child models (S1F1 - S1F8) | Fitting with ParallelLocalFoldFittingStrategy\n",
      "\t-2.2544\t = Validation score   (-root_mean_squared_error)\n",
      "\t8.24s\t = Training   runtime\n",
      "\t3.07s\t = Validation runtime\n",
      "Completed 1/20 k-fold bagging repeats ...\n",
      "Fitting model: WeightedEnsemble_L3 ... Training model for up to 59.28s of the -6.0s of remaining time.\n",
      "\t-2.2544\t = Validation score   (-root_mean_squared_error)\n",
      "\t0.05s\t = Training   runtime\n",
      "\t0.02s\t = Validation runtime\n",
      "AutoGluon training complete, total runtime = 66.13s ... Best model: \"WeightedEnsemble_L2\"\n",
      "TabularPredictor saved. To load, use: predictor = TabularPredictor.load(\"AutogluonModels\\ag-20230420_142527\\\")\n"
=======
      "Fitting model: KNeighborsUnif_BAG_L1 ... Training model for up to 39.48s of the 59.23s of remaining time.\n",
      "\tNot enough time to generate out-of-fold predictions for model. Estimated time required was 98.84s compared to 50.27s of available time.\n",
      "\tTime limit exceeded... Skipping KNeighborsUnif_BAG_L1.\n",
      "Fitting model: KNeighborsDist_BAG_L1 ... Training model for up to 28.64s of the 48.39s of remaining time.\n",
      "\tNot enough time to generate out-of-fold predictions for model. Estimated time required was 108.32s compared to 36.13s of available time.\n",
      "\tTime limit exceeded... Skipping KNeighborsDist_BAG_L1.\n",
      "Fitting model: LightGBMXT_BAG_L1 ... Training model for up to 17.51s of the 37.26s of remaining time.\n",
      "\tFitting 8 child models (S1F1 - S1F8) | Fitting with ParallelLocalFoldFittingStrategy\n",
      "\t-3.8844\t = Validation score   (-mean_squared_error)\n",
      "\t14.43s\t = Training   runtime\n",
      "\t13.52s\t = Validation runtime\n",
      "Completed 1/20 k-fold bagging repeats ...\n",
      "Fitting model: WeightedEnsemble_L2 ... Training model for up to 59.24s of the 9.18s of remaining time.\n",
      "\t-3.8844\t = Validation score   (-mean_squared_error)\n",
      "\t0.01s\t = Training   runtime\n",
      "\t0.0s\t = Validation runtime\n",
      "Fitting 9 L2 models ...\n",
      "Fitting model: LightGBMXT_BAG_L2 ... Training model for up to 0.24s of the 0.23s of remaining time.\n",
      "\tFitting 8 child models (S1F1 - S1F8) | Fitting with ParallelLocalFoldFittingStrategy\n",
      "\t-545.0518\t = Validation score   (-mean_squared_error)\n",
      "\t0.73s\t = Training   runtime\n",
      "\t0.03s\t = Validation runtime\n",
      "Completed 1/20 k-fold bagging repeats ...\n",
      "Fitting model: WeightedEnsemble_L3 ... Training model for up to 59.24s of the -12.09s of remaining time.\n",
      "\t-545.0518\t = Validation score   (-mean_squared_error)\n",
      "\t0.01s\t = Training   runtime\n",
      "\t0.01s\t = Validation runtime\n",
      "AutoGluon training complete, total runtime = 81.46s ... Best model: \"WeightedEnsemble_L2\"\n",
      "Deleting model LightGBMXT_BAG_L2. All files under AutogluonModels/ag-20230415_174220/models/LightGBMXT_BAG_L2/ will be removed.\n",
      "Deleting model WeightedEnsemble_L3. All files under AutogluonModels/ag-20230415_174220/models/WeightedEnsemble_L3/ will be removed.\n",
      "TabularPredictor saved. To load, use: predictor = TabularPredictor.load(\"AutogluonModels/ag-20230415_174220/\")\n"
>>>>>>> 75eb1cba7ef0ba9763eb55573919065141b4d0c4
     ]
    }
   ],
   "source": [
    "time_limit = 60  # train various models for x minutes\n",
    "\n",
    "predictor = TabularPredictor(label=label,eval_metric='mean_squared_error').fit(\n",
    "    train_data, \n",
    "    time_limit=time_limit, \n",
    "    presets=['best_quality','optimize_for_deployment']\n",
    ")\n",
    "\n"
   ]
  },
  {
   "cell_type": "code",
<<<<<<< HEAD
   "execution_count": 6,
=======
   "execution_count": 24,
>>>>>>> 75eb1cba7ef0ba9763eb55573919065141b4d0c4
   "metadata": {},
   "outputs": [
    {
     "name": "stderr",
     "output_type": "stream",
     "text": [
      "Loaded data from: Data/phil_socdata_test1.csv | Columns = 8 / 8 | Rows = 18307 -> 18307\n",
      "Loaded data from: Data/phil_socdata_test2.csv | Columns = 8 / 8 | Rows = 5617 -> 5617\n"
     ]
    },
    {
     "data": {
      "text/plain": [
<<<<<<< HEAD
       "0    53.823978\n",
       "1    52.944302\n",
       "2    52.948433\n",
       "3    53.094688\n",
       "4    53.096321\n",
       "Name: SOC, dtype: float32"
      ]
     },
     "execution_count": 6,
=======
       "0    50.307056\n",
       "1    49.949825\n",
       "2    49.949825\n",
       "3    50.540142\n",
       "4    50.540142\n",
       "Name: SOC, dtype: float32"
      ]
     },
     "execution_count": 24,
>>>>>>> 75eb1cba7ef0ba9763eb55573919065141b4d0c4
     "metadata": {},
     "output_type": "execute_result"
    }
   ],
   "source": [
    "# import test data from Data/phil_socdata_test.csv, normalize (between 0 and 1) and standardize\n",
    "test_data1 = TabularDataset(f'Data/phil_socdata_test1.csv')\n",
    "test_data2 = TabularDataset(f'Data/phil_socdata_test2.csv')\n",
    "\n",
    "y_pred1= predictor.predict(test_data1.drop(columns=[label]))\n",
    "y_pred1.head()\n",
    "\n",
    "y_pred2= predictor.predict(test_data2.drop(columns=[label]))\n",
    "y_pred2.head()"
   ]
  },
  {
   "cell_type": "code",
<<<<<<< HEAD
   "execution_count": 7,
=======
   "execution_count": 25,
>>>>>>> 75eb1cba7ef0ba9763eb55573919065141b4d0c4
   "metadata": {},
   "outputs": [
    {
     "name": "stderr",
     "output_type": "stream",
     "text": [
      "c:\\Users\\kwitv\\Documents\\MARC\\Range-Estimation-MARC\\venv\\lib\\site-packages\\autogluon\\tabular\\predictor\\predictor.py:1420: FutureWarning: Calling `predictor.predict_proba` when problem_type=regression will raise an AssertionError starting in AutoGluon v0.8. Please call `predictor.predict` instead.\n",
      "  warnings.warn(\n"
     ]
    },
    {
     "data": {
      "text/plain": [
<<<<<<< HEAD
       "{'root_mean_squared_error': -2.1604760649039982,\n",
       " 'mean_squared_error': -4.667656827023065,\n",
       " 'mean_absolute_error': -1.683928318813988,\n",
       " 'r2': 0.992781395239354,\n",
       " 'pearsonr': 0.9981430226798744,\n",
       " 'median_absolute_error': -1.300621032011719}"
      ]
     },
     "execution_count": 7,
=======
       "{'mean_squared_error': -4.581466513750035,\n",
       " 'root_mean_squared_error': -2.140436056916916,\n",
       " 'mean_absolute_error': -1.6648037272267027,\n",
       " 'r2': 0.9929146899156276,\n",
       " 'pearsonr': 0.9982876157882918,\n",
       " 'median_absolute_error': -1.3406753551367245}"
      ]
     },
     "execution_count": 25,
>>>>>>> 75eb1cba7ef0ba9763eb55573919065141b4d0c4
     "metadata": {},
     "output_type": "execute_result"
    }
   ],
   "source": [
    "predictor.evaluate(test_data1, silent=True)"
   ]
  },
  {
   "cell_type": "code",
<<<<<<< HEAD
   "execution_count": 8,
=======
   "execution_count": 26,
>>>>>>> 75eb1cba7ef0ba9763eb55573919065141b4d0c4
   "metadata": {},
   "outputs": [
    {
     "name": "stderr",
     "output_type": "stream",
     "text": [
      "c:\\Users\\kwitv\\Documents\\MARC\\Range-Estimation-MARC\\venv\\lib\\site-packages\\autogluon\\tabular\\predictor\\predictor.py:1420: FutureWarning: Calling `predictor.predict_proba` when problem_type=regression will raise an AssertionError starting in AutoGluon v0.8. Please call `predictor.predict` instead.\n",
      "  warnings.warn(\n"
     ]
    },
    {
     "data": {
      "text/plain": [
<<<<<<< HEAD
       "{'root_mean_squared_error': -1.208816180006668,\n",
       " 'mean_squared_error': -1.4612365570459132,\n",
       " 'mean_absolute_error': -0.937381278554752,\n",
       " 'r2': 0.99200822543625,\n",
       " 'pearsonr': 0.996133702163627,\n",
       " 'median_absolute_error': -0.7591133141601532}"
      ]
     },
     "execution_count": 8,
=======
       "{'mean_squared_error': -1.398577496027333,\n",
       " 'root_mean_squared_error': -1.1826146862048235,\n",
       " 'mean_absolute_error': -0.8574618260044922,\n",
       " 'r2': 0.9923509194974013,\n",
       " 'pearsonr': 0.9962154486804569,\n",
       " 'median_absolute_error': -0.615955349433591}"
      ]
     },
     "execution_count": 26,
>>>>>>> 75eb1cba7ef0ba9763eb55573919065141b4d0c4
     "metadata": {},
     "output_type": "execute_result"
    }
   ],
   "source": [
    "predictor.evaluate(test_data2, silent=True)"
   ]
  },
  {
   "cell_type": "code",
<<<<<<< HEAD
   "execution_count": 9,
=======
   "execution_count": 27,
>>>>>>> 75eb1cba7ef0ba9763eb55573919065141b4d0c4
   "metadata": {},
   "outputs": [
    {
     "data": {
      "text/html": [
       "<div>\n",
       "<style scoped>\n",
       "    .dataframe tbody tr th:only-of-type {\n",
       "        vertical-align: middle;\n",
       "    }\n",
       "\n",
       "    .dataframe tbody tr th {\n",
       "        vertical-align: top;\n",
       "    }\n",
       "\n",
       "    .dataframe thead th {\n",
       "        text-align: right;\n",
       "    }\n",
       "</style>\n",
       "<table border=\"1\" class=\"dataframe\">\n",
       "  <thead>\n",
       "    <tr style=\"text-align: right;\">\n",
       "      <th></th>\n",
       "      <th>model</th>\n",
       "      <th>score_test</th>\n",
       "      <th>score_val</th>\n",
       "      <th>pred_time_test</th>\n",
       "      <th>pred_time_val</th>\n",
       "      <th>fit_time</th>\n",
       "      <th>pred_time_test_marginal</th>\n",
       "      <th>pred_time_val_marginal</th>\n",
       "      <th>fit_time_marginal</th>\n",
       "      <th>stack_level</th>\n",
       "      <th>can_infer</th>\n",
       "      <th>fit_order</th>\n",
       "    </tr>\n",
       "  </thead>\n",
       "  <tbody>\n",
       "    <tr>\n",
       "      <th>0</th>\n",
       "      <td>LightGBMXT_BAG_L1</td>\n",
<<<<<<< HEAD
       "      <td>-2.150676</td>\n",
       "      <td>-2.222207</td>\n",
       "      <td>0.973866</td>\n",
       "      <td>16.016972</td>\n",
       "      <td>21.344382</td>\n",
       "      <td>0.973866</td>\n",
       "      <td>16.016972</td>\n",
       "      <td>21.344382</td>\n",
=======
       "      <td>-4.581467</td>\n",
       "      <td>-3.884412</td>\n",
       "      <td>0.765576</td>\n",
       "      <td>13.521142</td>\n",
       "      <td>14.430364</td>\n",
       "      <td>0.765576</td>\n",
       "      <td>13.521142</td>\n",
       "      <td>14.430364</td>\n",
>>>>>>> 75eb1cba7ef0ba9763eb55573919065141b4d0c4
       "      <td>1</td>\n",
       "      <td>True</td>\n",
       "      <td>2</td>\n",
       "    </tr>\n",
       "    <tr>\n",
       "      <th>1</th>\n",
       "      <td>WeightedEnsemble_L2</td>\n",
<<<<<<< HEAD
       "      <td>-2.160476</td>\n",
       "      <td>-2.204917</td>\n",
       "      <td>1.081098</td>\n",
       "      <td>17.588987</td>\n",
       "      <td>26.511069</td>\n",
       "      <td>0.001994</td>\n",
       "      <td>0.008975</td>\n",
       "      <td>4.323821</td>\n",
=======
       "      <td>-4.581467</td>\n",
       "      <td>-3.884412</td>\n",
       "      <td>0.767494</td>\n",
       "      <td>13.524966</td>\n",
       "      <td>14.437875</td>\n",
       "      <td>0.001918</td>\n",
       "      <td>0.003824</td>\n",
       "      <td>0.007511</td>\n",
>>>>>>> 75eb1cba7ef0ba9763eb55573919065141b4d0c4
       "      <td>2</td>\n",
       "      <td>True</td>\n",
       "      <td>3</td>\n",
       "    </tr>\n",
<<<<<<< HEAD
       "    <tr>\n",
       "      <th>2</th>\n",
       "      <td>LightGBMXT_BAG_L2</td>\n",
       "      <td>-2.313192</td>\n",
       "      <td>-2.254367</td>\n",
       "      <td>1.325461</td>\n",
       "      <td>20.646791</td>\n",
       "      <td>30.423747</td>\n",
       "      <td>0.246357</td>\n",
       "      <td>3.066779</td>\n",
       "      <td>8.236498</td>\n",
       "      <td>2</td>\n",
       "      <td>True</td>\n",
       "      <td>4</td>\n",
       "    </tr>\n",
       "    <tr>\n",
       "      <th>3</th>\n",
       "      <td>WeightedEnsemble_L3</td>\n",
       "      <td>-2.313192</td>\n",
       "      <td>-2.254367</td>\n",
       "      <td>1.327456</td>\n",
       "      <td>20.662746</td>\n",
       "      <td>30.469167</td>\n",
       "      <td>0.001995</td>\n",
       "      <td>0.015955</td>\n",
       "      <td>0.045420</td>\n",
       "      <td>3</td>\n",
       "      <td>True</td>\n",
       "      <td>5</td>\n",
       "    </tr>\n",
       "    <tr>\n",
       "      <th>4</th>\n",
       "      <td>KNeighborsDist_BAG_L1</td>\n",
       "      <td>-3.790115</td>\n",
       "      <td>-3.543409</td>\n",
       "      <td>0.105238</td>\n",
       "      <td>1.563040</td>\n",
       "      <td>0.842867</td>\n",
       "      <td>0.105238</td>\n",
       "      <td>1.563040</td>\n",
       "      <td>0.842867</td>\n",
       "      <td>1</td>\n",
       "      <td>True</td>\n",
       "      <td>1</td>\n",
       "    </tr>\n",
=======
>>>>>>> 75eb1cba7ef0ba9763eb55573919065141b4d0c4
       "  </tbody>\n",
       "</table>\n",
       "</div>"
      ],
      "text/plain": [
<<<<<<< HEAD
       "                   model  score_test  score_val  pred_time_test  \\\n",
       "0      LightGBMXT_BAG_L1   -2.150676  -2.222207        0.973866   \n",
       "1    WeightedEnsemble_L2   -2.160476  -2.204917        1.081098   \n",
       "2      LightGBMXT_BAG_L2   -2.313192  -2.254367        1.325461   \n",
       "3    WeightedEnsemble_L3   -2.313192  -2.254367        1.327456   \n",
       "4  KNeighborsDist_BAG_L1   -3.790115  -3.543409        0.105238   \n",
       "\n",
       "   pred_time_val   fit_time  pred_time_test_marginal  pred_time_val_marginal  \\\n",
       "0      16.016972  21.344382                 0.973866               16.016972   \n",
       "1      17.588987  26.511069                 0.001994                0.008975   \n",
       "2      20.646791  30.423747                 0.246357                3.066779   \n",
       "3      20.662746  30.469167                 0.001995                0.015955   \n",
       "4       1.563040   0.842867                 0.105238                1.563040   \n",
       "\n",
       "   fit_time_marginal  stack_level  can_infer  fit_order  \n",
       "0          21.344382            1       True          2  \n",
       "1           4.323821            2       True          3  \n",
       "2           8.236498            2       True          4  \n",
       "3           0.045420            3       True          5  \n",
       "4           0.842867            1       True          1  "
      ]
     },
     "execution_count": 9,
=======
       "                 model  score_test  score_val  pred_time_test  pred_time_val  \\\n",
       "0    LightGBMXT_BAG_L1   -4.581467  -3.884412        0.765576      13.521142   \n",
       "1  WeightedEnsemble_L2   -4.581467  -3.884412        0.767494      13.524966   \n",
       "\n",
       "    fit_time  pred_time_test_marginal  pred_time_val_marginal  \\\n",
       "0  14.430364                 0.765576               13.521142   \n",
       "1  14.437875                 0.001918                0.003824   \n",
       "\n",
       "   fit_time_marginal  stack_level  can_infer  fit_order  \n",
       "0          14.430364            1       True          1  \n",
       "1           0.007511            2       True          2  "
      ]
     },
     "execution_count": 27,
>>>>>>> 75eb1cba7ef0ba9763eb55573919065141b4d0c4
     "metadata": {},
     "output_type": "execute_result"
    }
   ],
   "source": [
    "predictor.leaderboard(test_data1, silent=True)"
   ]
  },
  {
   "cell_type": "code",
<<<<<<< HEAD
   "execution_count": 10,
=======
   "execution_count": 28,
>>>>>>> 75eb1cba7ef0ba9763eb55573919065141b4d0c4
   "metadata": {},
   "outputs": [
    {
     "data": {
      "text/html": [
       "<div>\n",
       "<style scoped>\n",
       "    .dataframe tbody tr th:only-of-type {\n",
       "        vertical-align: middle;\n",
       "    }\n",
       "\n",
       "    .dataframe tbody tr th {\n",
       "        vertical-align: top;\n",
       "    }\n",
       "\n",
       "    .dataframe thead th {\n",
       "        text-align: right;\n",
       "    }\n",
       "</style>\n",
       "<table border=\"1\" class=\"dataframe\">\n",
       "  <thead>\n",
       "    <tr style=\"text-align: right;\">\n",
       "      <th></th>\n",
       "      <th>model</th>\n",
       "      <th>score_test</th>\n",
       "      <th>score_val</th>\n",
       "      <th>pred_time_test</th>\n",
       "      <th>pred_time_val</th>\n",
       "      <th>fit_time</th>\n",
       "      <th>pred_time_test_marginal</th>\n",
       "      <th>pred_time_val_marginal</th>\n",
       "      <th>fit_time_marginal</th>\n",
       "      <th>stack_level</th>\n",
       "      <th>can_infer</th>\n",
       "      <th>fit_order</th>\n",
       "    </tr>\n",
       "  </thead>\n",
       "  <tbody>\n",
       "    <tr>\n",
       "      <th>0</th>\n",
       "      <td>LightGBMXT_BAG_L1</td>\n",
<<<<<<< HEAD
       "      <td>-1.158523</td>\n",
       "      <td>-2.222207</td>\n",
       "      <td>0.368046</td>\n",
       "      <td>16.016972</td>\n",
       "      <td>21.344382</td>\n",
       "      <td>0.368046</td>\n",
       "      <td>16.016972</td>\n",
       "      <td>21.344382</td>\n",
=======
       "      <td>-1.398577</td>\n",
       "      <td>-3.884412</td>\n",
       "      <td>0.413919</td>\n",
       "      <td>13.521142</td>\n",
       "      <td>14.430364</td>\n",
       "      <td>0.413919</td>\n",
       "      <td>13.521142</td>\n",
       "      <td>14.430364</td>\n",
>>>>>>> 75eb1cba7ef0ba9763eb55573919065141b4d0c4
       "      <td>1</td>\n",
       "      <td>True</td>\n",
       "      <td>2</td>\n",
       "    </tr>\n",
       "    <tr>\n",
       "      <th>1</th>\n",
       "      <td>WeightedEnsemble_L2</td>\n",
<<<<<<< HEAD
       "      <td>-1.208816</td>\n",
       "      <td>-2.204917</td>\n",
       "      <td>0.422900</td>\n",
       "      <td>17.588987</td>\n",
       "      <td>26.511069</td>\n",
       "      <td>0.001995</td>\n",
       "      <td>0.008975</td>\n",
       "      <td>4.323821</td>\n",
=======
       "      <td>-1.398577</td>\n",
       "      <td>-3.884412</td>\n",
       "      <td>0.415628</td>\n",
       "      <td>13.524966</td>\n",
       "      <td>14.437875</td>\n",
       "      <td>0.001709</td>\n",
       "      <td>0.003824</td>\n",
       "      <td>0.007511</td>\n",
>>>>>>> 75eb1cba7ef0ba9763eb55573919065141b4d0c4
       "      <td>2</td>\n",
       "      <td>True</td>\n",
       "      <td>3</td>\n",
       "    </tr>\n",
<<<<<<< HEAD
       "    <tr>\n",
       "      <th>2</th>\n",
       "      <td>LightGBMXT_BAG_L2</td>\n",
       "      <td>-1.333325</td>\n",
       "      <td>-2.254367</td>\n",
       "      <td>0.527129</td>\n",
       "      <td>20.646791</td>\n",
       "      <td>30.423747</td>\n",
       "      <td>0.106223</td>\n",
       "      <td>3.066779</td>\n",
       "      <td>8.236498</td>\n",
       "      <td>2</td>\n",
       "      <td>True</td>\n",
       "      <td>4</td>\n",
       "    </tr>\n",
       "    <tr>\n",
       "      <th>3</th>\n",
       "      <td>WeightedEnsemble_L3</td>\n",
       "      <td>-1.333325</td>\n",
       "      <td>-2.254367</td>\n",
       "      <td>0.529123</td>\n",
       "      <td>20.662746</td>\n",
       "      <td>30.469167</td>\n",
       "      <td>0.001995</td>\n",
       "      <td>0.015955</td>\n",
       "      <td>0.045420</td>\n",
       "      <td>3</td>\n",
       "      <td>True</td>\n",
       "      <td>5</td>\n",
       "    </tr>\n",
       "    <tr>\n",
       "      <th>4</th>\n",
       "      <td>KNeighborsDist_BAG_L1</td>\n",
       "      <td>-4.212411</td>\n",
       "      <td>-3.543409</td>\n",
       "      <td>0.052860</td>\n",
       "      <td>1.563040</td>\n",
       "      <td>0.842867</td>\n",
       "      <td>0.052860</td>\n",
       "      <td>1.563040</td>\n",
       "      <td>0.842867</td>\n",
       "      <td>1</td>\n",
       "      <td>True</td>\n",
       "      <td>1</td>\n",
       "    </tr>\n",
=======
>>>>>>> 75eb1cba7ef0ba9763eb55573919065141b4d0c4
       "  </tbody>\n",
       "</table>\n",
       "</div>"
      ],
      "text/plain": [
<<<<<<< HEAD
       "                   model  score_test  score_val  pred_time_test  \\\n",
       "0      LightGBMXT_BAG_L1   -1.158523  -2.222207        0.368046   \n",
       "1    WeightedEnsemble_L2   -1.208816  -2.204917        0.422900   \n",
       "2      LightGBMXT_BAG_L2   -1.333325  -2.254367        0.527129   \n",
       "3    WeightedEnsemble_L3   -1.333325  -2.254367        0.529123   \n",
       "4  KNeighborsDist_BAG_L1   -4.212411  -3.543409        0.052860   \n",
       "\n",
       "   pred_time_val   fit_time  pred_time_test_marginal  pred_time_val_marginal  \\\n",
       "0      16.016972  21.344382                 0.368046               16.016972   \n",
       "1      17.588987  26.511069                 0.001995                0.008975   \n",
       "2      20.646791  30.423747                 0.106223                3.066779   \n",
       "3      20.662746  30.469167                 0.001995                0.015955   \n",
       "4       1.563040   0.842867                 0.052860                1.563040   \n",
       "\n",
       "   fit_time_marginal  stack_level  can_infer  fit_order  \n",
       "0          21.344382            1       True          2  \n",
       "1           4.323821            2       True          3  \n",
       "2           8.236498            2       True          4  \n",
       "3           0.045420            3       True          5  \n",
       "4           0.842867            1       True          1  "
      ]
     },
     "execution_count": 10,
=======
       "                 model  score_test  score_val  pred_time_test  pred_time_val  \\\n",
       "0    LightGBMXT_BAG_L1   -1.398577  -3.884412        0.413919      13.521142   \n",
       "1  WeightedEnsemble_L2   -1.398577  -3.884412        0.415628      13.524966   \n",
       "\n",
       "    fit_time  pred_time_test_marginal  pred_time_val_marginal  \\\n",
       "0  14.430364                 0.413919               13.521142   \n",
       "1  14.437875                 0.001709                0.003824   \n",
       "\n",
       "   fit_time_marginal  stack_level  can_infer  fit_order  \n",
       "0          14.430364            1       True          1  \n",
       "1           0.007511            2       True          2  "
      ]
     },
     "execution_count": 28,
>>>>>>> 75eb1cba7ef0ba9763eb55573919065141b4d0c4
     "metadata": {},
     "output_type": "execute_result"
    }
   ],
   "source": [
    "predictor.leaderboard(test_data2, silent=True)"
   ]
  },
  {
   "cell_type": "code",
<<<<<<< HEAD
   "execution_count": 11,
=======
   "execution_count": 29,
>>>>>>> 75eb1cba7ef0ba9763eb55573919065141b4d0c4
   "metadata": {},
   "outputs": [
    {
     "data": {
<<<<<<< HEAD
      "image/png": "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",
=======
      "image/png": "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",
>>>>>>> 75eb1cba7ef0ba9763eb55573919065141b4d0c4
      "text/plain": [
       "<Figure size 640x480 with 1 Axes>"
      ]
     },
     "metadata": {},
     "output_type": "display_data"
    }
   ],
   "source": [
    "#plots the predicted vs actual values of the top performing model using matplotlib\n",
    "import matplotlib.pyplot as plt\n",
    "plt.plot(y_pred1, label=\"Predictions\")\n",
    "plt.plot(test_data1[label], label=\"True Values\")\n",
    "plt.legend()\n",
    "plt.show()"
   ]
  },
  {
   "cell_type": "code",
<<<<<<< HEAD
   "execution_count": 12,
=======
   "execution_count": 30,
>>>>>>> 75eb1cba7ef0ba9763eb55573919065141b4d0c4
   "metadata": {},
   "outputs": [
    {
     "data": {
<<<<<<< HEAD
      "image/png": "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",
=======
      "image/png": "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",
>>>>>>> 75eb1cba7ef0ba9763eb55573919065141b4d0c4
      "text/plain": [
       "<Figure size 640x480 with 1 Axes>"
      ]
     },
     "metadata": {},
     "output_type": "display_data"
    }
   ],
   "source": [
    "plt.plot(y_pred2, label=\"Predictions\")\n",
    "plt.plot(test_data2[label], label=\"True Values\")\n",
    "plt.legend()\n",
    "plt.show()"
   ]
  },
  {
   "cell_type": "code",
<<<<<<< HEAD
   "execution_count": 13,
=======
   "execution_count": 31,
>>>>>>> 75eb1cba7ef0ba9763eb55573919065141b4d0c4
   "metadata": {},
   "outputs": [
    {
     "name": "stdout",
     "output_type": "stream",
     "text": [
<<<<<<< HEAD
      "Test data 1 RMSE 2.1604760649039982\n",
      "Test data 2 RMSE 1.208816180006668\n"
=======
      "Test data 1 RMSE 2.140436056916916\n",
      "Test data 2 RMSE 1.1826146862048235\n"
>>>>>>> 75eb1cba7ef0ba9763eb55573919065141b4d0c4
     ]
    }
   ],
   "source": [
    "mse_test = np.mean(((y_pred1 - test_data1[label])**2))\n",
    "rmse_test = math.sqrt(mse_test)\n",
    "print(\"Test data 1 RMSE\", rmse_test)\n",
    "mse_test = np.mean(((y_pred2 - test_data2[label])**2))\n",
    "rmse_test = math.sqrt(mse_test)\n",
    "print(\"Test data 2 RMSE\", rmse_test)"
   ]
  },
  {
   "cell_type": "code",
<<<<<<< HEAD
   "execution_count": 14,
=======
   "execution_count": 32,
>>>>>>> 75eb1cba7ef0ba9763eb55573919065141b4d0c4
   "metadata": {},
   "outputs": [
    {
     "name": "stderr",
     "output_type": "stream",
     "text": [
      "These features in provided data are not utilized by the predictor and will be ignored: ['T']\n",
<<<<<<< HEAD
      "Computing feature importance via permutation shuffling for 5 features using 5000 rows with 5 shuffle sets...\n",
      "\t9.98s\t= Expected runtime (2.0s per shuffle set)\n",
      "\t8.63s\t= Actual runtime (Completed 5 of 5 shuffle sets)\n"
=======
      "Computing feature importance via permutation shuffling for 6 features using 5000 rows with 5 shuffle sets...\n",
      "\t16.77s\t= Expected runtime (3.35s per shuffle set)\n",
      "\t7.04s\t= Actual runtime (Completed 5 of 5 shuffle sets)\n"
>>>>>>> 75eb1cba7ef0ba9763eb55573919065141b4d0c4
     ]
    },
    {
     "data": {
      "text/html": [
       "<div>\n",
       "<style scoped>\n",
       "    .dataframe tbody tr th:only-of-type {\n",
       "        vertical-align: middle;\n",
       "    }\n",
       "\n",
       "    .dataframe tbody tr th {\n",
       "        vertical-align: top;\n",
       "    }\n",
       "\n",
       "    .dataframe thead th {\n",
       "        text-align: right;\n",
       "    }\n",
       "</style>\n",
       "<table border=\"1\" class=\"dataframe\">\n",
       "  <thead>\n",
       "    <tr style=\"text-align: right;\">\n",
       "      <th></th>\n",
       "      <th>importance</th>\n",
       "      <th>stddev</th>\n",
       "      <th>p_value</th>\n",
       "      <th>n</th>\n",
       "      <th>p99_high</th>\n",
       "      <th>p99_low</th>\n",
       "    </tr>\n",
       "  </thead>\n",
       "  <tbody>\n",
       "    <tr>\n",
<<<<<<< HEAD
       "      <th>V</th>\n",
       "      <td>19.696603</td>\n",
       "      <td>0.184323</td>\n",
       "      <td>9.201999e-10</td>\n",
       "      <td>5</td>\n",
       "      <td>20.076126</td>\n",
       "      <td>19.317080</td>\n",
       "    </tr>\n",
       "    <tr>\n",
       "      <th>V_avg</th>\n",
       "      <td>15.413170</td>\n",
       "      <td>0.171168</td>\n",
       "      <td>1.824855e-09</td>\n",
       "      <td>5</td>\n",
       "      <td>15.765607</td>\n",
       "      <td>15.060734</td>\n",
       "    </tr>\n",
       "    <tr>\n",
       "      <th>I_avg</th>\n",
       "      <td>3.602961</td>\n",
       "      <td>0.071589</td>\n",
       "      <td>1.869411e-08</td>\n",
       "      <td>5</td>\n",
       "      <td>3.750364</td>\n",
       "      <td>3.455558</td>\n",
       "    </tr>\n",
       "    <tr>\n",
       "      <th>P</th>\n",
       "      <td>1.262484</td>\n",
       "      <td>0.008102</td>\n",
       "      <td>2.035645e-10</td>\n",
       "      <td>5</td>\n",
       "      <td>1.279167</td>\n",
       "      <td>1.245801</td>\n",
       "    </tr>\n",
       "    <tr>\n",
       "      <th>I</th>\n",
       "      <td>0.111797</td>\n",
       "      <td>0.011622</td>\n",
       "      <td>1.381709e-05</td>\n",
       "      <td>5</td>\n",
       "      <td>0.135728</td>\n",
       "      <td>0.087867</td>\n",
=======
       "      <th>V_avg_five</th>\n",
       "      <td>675.752061</td>\n",
       "      <td>12.661969</td>\n",
       "      <td>1.478541e-08</td>\n",
       "      <td>5</td>\n",
       "      <td>701.823230</td>\n",
       "      <td>649.680892</td>\n",
       "    </tr>\n",
       "    <tr>\n",
       "      <th>V</th>\n",
       "      <td>295.095673</td>\n",
       "      <td>7.127422</td>\n",
       "      <td>4.080581e-08</td>\n",
       "      <td>5</td>\n",
       "      <td>309.771133</td>\n",
       "      <td>280.420213</td>\n",
       "    </tr>\n",
       "    <tr>\n",
       "      <th>V_avg_one</th>\n",
       "      <td>84.649480</td>\n",
       "      <td>1.239164</td>\n",
       "      <td>5.509024e-09</td>\n",
       "      <td>5</td>\n",
       "      <td>87.200935</td>\n",
       "      <td>82.098025</td>\n",
       "    </tr>\n",
       "    <tr>\n",
       "      <th>I_avg</th>\n",
       "      <td>36.400014</td>\n",
       "      <td>1.133039</td>\n",
       "      <td>1.125108e-07</td>\n",
       "      <td>5</td>\n",
       "      <td>38.732957</td>\n",
       "      <td>34.067070</td>\n",
       "    </tr>\n",
       "    <tr>\n",
       "      <th>P</th>\n",
       "      <td>4.138757</td>\n",
       "      <td>0.087156</td>\n",
       "      <td>2.358460e-08</td>\n",
       "      <td>5</td>\n",
       "      <td>4.318211</td>\n",
       "      <td>3.959302</td>\n",
       "    </tr>\n",
       "    <tr>\n",
       "      <th>I</th>\n",
       "      <td>1.465996</td>\n",
       "      <td>0.021916</td>\n",
       "      <td>5.991373e-09</td>\n",
       "      <td>5</td>\n",
       "      <td>1.511120</td>\n",
       "      <td>1.420872</td>\n",
>>>>>>> 75eb1cba7ef0ba9763eb55573919065141b4d0c4
       "    </tr>\n",
       "  </tbody>\n",
       "</table>\n",
       "</div>"
      ],
      "text/plain": [
<<<<<<< HEAD
       "       importance    stddev       p_value  n   p99_high    p99_low\n",
       "V       19.696603  0.184323  9.201999e-10  5  20.076126  19.317080\n",
       "V_avg   15.413170  0.171168  1.824855e-09  5  15.765607  15.060734\n",
       "I_avg    3.602961  0.071589  1.869411e-08  5   3.750364   3.455558\n",
       "P        1.262484  0.008102  2.035645e-10  5   1.279167   1.245801\n",
       "I        0.111797  0.011622  1.381709e-05  5   0.135728   0.087867"
      ]
     },
     "execution_count": 14,
=======
       "            importance     stddev       p_value  n    p99_high     p99_low\n",
       "V_avg_five  675.752061  12.661969  1.478541e-08  5  701.823230  649.680892\n",
       "V           295.095673   7.127422  4.080581e-08  5  309.771133  280.420213\n",
       "V_avg_one    84.649480   1.239164  5.509024e-09  5   87.200935   82.098025\n",
       "I_avg        36.400014   1.133039  1.125108e-07  5   38.732957   34.067070\n",
       "P             4.138757   0.087156  2.358460e-08  5    4.318211    3.959302\n",
       "I             1.465996   0.021916  5.991373e-09  5    1.511120    1.420872"
      ]
     },
     "execution_count": 32,
>>>>>>> 75eb1cba7ef0ba9763eb55573919065141b4d0c4
     "metadata": {},
     "output_type": "execute_result"
    }
   ],
   "source": [
    "predictor.feature_importance(test_data1)"
   ]
  },
  {
   "cell_type": "code",
<<<<<<< HEAD
   "execution_count": 15,
=======
   "execution_count": 33,
>>>>>>> 75eb1cba7ef0ba9763eb55573919065141b4d0c4
   "metadata": {},
   "outputs": [
    {
     "name": "stderr",
     "output_type": "stream",
     "text": [
      "These features in provided data are not utilized by the predictor and will be ignored: ['T']\n",
<<<<<<< HEAD
      "Computing feature importance via permutation shuffling for 5 features using 5000 rows with 5 shuffle sets...\n",
      "\t10.75s\t= Expected runtime (2.15s per shuffle set)\n",
      "\t9.03s\t= Actual runtime (Completed 5 of 5 shuffle sets)\n"
=======
      "Computing feature importance via permutation shuffling for 6 features using 5000 rows with 5 shuffle sets...\n",
      "\t13.15s\t= Expected runtime (2.63s per shuffle set)\n",
      "\t6.81s\t= Actual runtime (Completed 5 of 5 shuffle sets)\n"
>>>>>>> 75eb1cba7ef0ba9763eb55573919065141b4d0c4
     ]
    },
    {
     "data": {
      "text/html": [
       "<div>\n",
       "<style scoped>\n",
       "    .dataframe tbody tr th:only-of-type {\n",
       "        vertical-align: middle;\n",
       "    }\n",
       "\n",
       "    .dataframe tbody tr th {\n",
       "        vertical-align: top;\n",
       "    }\n",
       "\n",
       "    .dataframe thead th {\n",
       "        text-align: right;\n",
       "    }\n",
       "</style>\n",
       "<table border=\"1\" class=\"dataframe\">\n",
       "  <thead>\n",
       "    <tr style=\"text-align: right;\">\n",
       "      <th></th>\n",
       "      <th>importance</th>\n",
       "      <th>stddev</th>\n",
       "      <th>p_value</th>\n",
       "      <th>n</th>\n",
       "      <th>p99_high</th>\n",
       "      <th>p99_low</th>\n",
       "    </tr>\n",
       "  </thead>\n",
       "  <tbody>\n",
       "    <tr>\n",
<<<<<<< HEAD
       "      <th>V_avg</th>\n",
       "      <td>9.769836</td>\n",
       "      <td>0.221263</td>\n",
       "      <td>3.154793e-08</td>\n",
       "      <td>5</td>\n",
       "      <td>10.225420</td>\n",
       "      <td>9.314252</td>\n",
       "    </tr>\n",
       "    <tr>\n",
       "      <th>V</th>\n",
       "      <td>8.648777</td>\n",
       "      <td>0.169681</td>\n",
       "      <td>1.776931e-08</td>\n",
       "      <td>5</td>\n",
       "      <td>8.998152</td>\n",
       "      <td>8.299402</td>\n",
       "    </tr>\n",
       "    <tr>\n",
       "      <th>I_avg</th>\n",
       "      <td>4.321768</td>\n",
       "      <td>0.032510</td>\n",
       "      <td>3.842351e-10</td>\n",
       "      <td>5</td>\n",
       "      <td>4.388708</td>\n",
       "      <td>4.254828</td>\n",
       "    </tr>\n",
       "    <tr>\n",
       "      <th>P</th>\n",
       "      <td>2.325155</td>\n",
       "      <td>0.008827</td>\n",
       "      <td>2.492644e-11</td>\n",
       "      <td>5</td>\n",
       "      <td>2.343330</td>\n",
       "      <td>2.306980</td>\n",
       "    </tr>\n",
       "    <tr>\n",
       "      <th>I</th>\n",
       "      <td>0.352466</td>\n",
       "      <td>0.009532</td>\n",
       "      <td>6.413142e-08</td>\n",
       "      <td>5</td>\n",
       "      <td>0.372093</td>\n",
       "      <td>0.332839</td>\n",
=======
       "      <th>V_avg_five</th>\n",
       "      <td>210.141072</td>\n",
       "      <td>8.613706</td>\n",
       "      <td>3.380067e-07</td>\n",
       "      <td>5</td>\n",
       "      <td>227.876812</td>\n",
       "      <td>192.405333</td>\n",
       "    </tr>\n",
       "    <tr>\n",
       "      <th>I_avg</th>\n",
       "      <td>37.618426</td>\n",
       "      <td>0.525852</td>\n",
       "      <td>4.580556e-09</td>\n",
       "      <td>5</td>\n",
       "      <td>38.701162</td>\n",
       "      <td>36.535690</td>\n",
       "    </tr>\n",
       "    <tr>\n",
       "      <th>V</th>\n",
       "      <td>33.420285</td>\n",
       "      <td>1.312610</td>\n",
       "      <td>2.849646e-07</td>\n",
       "      <td>5</td>\n",
       "      <td>36.122967</td>\n",
       "      <td>30.717603</td>\n",
       "    </tr>\n",
       "    <tr>\n",
       "      <th>V_avg_one</th>\n",
       "      <td>16.785205</td>\n",
       "      <td>0.697160</td>\n",
       "      <td>3.562922e-07</td>\n",
       "      <td>5</td>\n",
       "      <td>18.220667</td>\n",
       "      <td>15.349743</td>\n",
       "    </tr>\n",
       "    <tr>\n",
       "      <th>P</th>\n",
       "      <td>5.135252</td>\n",
       "      <td>0.100829</td>\n",
       "      <td>1.782627e-08</td>\n",
       "      <td>5</td>\n",
       "      <td>5.342861</td>\n",
       "      <td>4.927643</td>\n",
       "    </tr>\n",
       "    <tr>\n",
       "      <th>I</th>\n",
       "      <td>0.969579</td>\n",
       "      <td>0.032027</td>\n",
       "      <td>1.426594e-07</td>\n",
       "      <td>5</td>\n",
       "      <td>1.035524</td>\n",
       "      <td>0.903635</td>\n",
>>>>>>> 75eb1cba7ef0ba9763eb55573919065141b4d0c4
       "    </tr>\n",
       "  </tbody>\n",
       "</table>\n",
       "</div>"
      ],
      "text/plain": [
<<<<<<< HEAD
       "       importance    stddev       p_value  n   p99_high   p99_low\n",
       "V_avg    9.769836  0.221263  3.154793e-08  5  10.225420  9.314252\n",
       "V        8.648777  0.169681  1.776931e-08  5   8.998152  8.299402\n",
       "I_avg    4.321768  0.032510  3.842351e-10  5   4.388708  4.254828\n",
       "P        2.325155  0.008827  2.492644e-11  5   2.343330  2.306980\n",
       "I        0.352466  0.009532  6.413142e-08  5   0.372093  0.332839"
      ]
     },
     "execution_count": 15,
=======
       "            importance    stddev       p_value  n    p99_high     p99_low\n",
       "V_avg_five  210.141072  8.613706  3.380067e-07  5  227.876812  192.405333\n",
       "I_avg        37.618426  0.525852  4.580556e-09  5   38.701162   36.535690\n",
       "V            33.420285  1.312610  2.849646e-07  5   36.122967   30.717603\n",
       "V_avg_one    16.785205  0.697160  3.562922e-07  5   18.220667   15.349743\n",
       "P             5.135252  0.100829  1.782627e-08  5    5.342861    4.927643\n",
       "I             0.969579  0.032027  1.426594e-07  5    1.035524    0.903635"
      ]
     },
     "execution_count": 33,
>>>>>>> 75eb1cba7ef0ba9763eb55573919065141b4d0c4
     "metadata": {},
     "output_type": "execute_result"
    },
    {
     "name": "stderr",
     "output_type": "stream",
     "text": [
      "Exception in thread 2023-04-20 10:39:59,546\tERROR import_thread.py:75 -- ImportThread: <_MultiThreadedRendezvous of RPC that terminated with:\n",
      "\tstatus = StatusCode.UNKNOWN\n",
      "\tdetails = \"Stream removed\"\n",
      "\tdebug_error_string = \"UNKNOWN:Error received from peer ipv4:127.0.0.1:63428 {grpc_message:\"Stream removed\", grpc_status:2, created_time:\"2023-04-20T14:39:59.556013748+00:00\"}\"\n",
      ">\n",
      "ray_listen_error_messages:\n",
      "Traceback (most recent call last):\n",
      "  File \"C:\\Program Files\\WindowsApps\\PythonSoftwareFoundation.Python.3.10_3.10.3056.0_x64__qbz5n2kfra8p0\\lib\\threading.py\", line 1016, in _bootstrap_inner\n",
      "    self.run()\n",
      "  File \"C:\\Program Files\\WindowsApps\\PythonSoftwareFoundation.Python.3.10_3.10.3056.0_x64__qbz5n2kfra8p0\\lib\\threading.py\", line 953, in run\n",
      "    self._target(*self._args, **self._kwargs)\n",
      "  File \"c:\\Users\\kwitv\\Documents\\MARC\\Range-Estimation-MARC\\venv\\lib\\site-packages\\ray\\_private\\worker.py\", line 1836, in listen_error_messages\n",
      "    _, error_data = worker.gcs_error_subscriber.poll()\n",
      "  File \"c:\\Users\\kwitv\\Documents\\MARC\\Range-Estimation-MARC\\venv\\lib\\site-packages\\ray\\_private\\gcs_pubsub.py\", line 323, in poll\n",
      "    self._poll_locked(timeout=timeout)\n",
      "  File \"c:\\Users\\kwitv\\Documents\\MARC\\Range-Estimation-MARC\\venv\\lib\\site-packages\\ray\\_private\\gcs_pubsub.py\", line 255, in _poll_locked\n",
      "    fut.result(timeout=1)\n",
      "  File \"c:\\Users\\kwitv\\Documents\\MARC\\Range-Estimation-MARC\\venv\\lib\\site-packages\\grpc\\_channel.py\", line 797, in result\n",
      "    raise self\n",
      "grpc._channel._MultiThreadedRendezvous: <_MultiThreadedRendezvous of RPC that terminated with:\n",
      "\tstatus = StatusCode.UNKNOWN\n",
      "\tdetails = \"Stream removed\"\n",
      "\tdebug_error_string = \"UNKNOWN:Error received from peer ipv4:127.0.0.1:63428 {grpc_message:\"Stream removed\", grpc_status:2, created_time:\"2023-04-20T14:39:59.55632597+00:00\"}\"\n",
      ">\n"
     ]
    }
   ],
   "source": [
    "predictor.feature_importance(test_data2)"
   ]
  },
  {
   "cell_type": "code",
   "execution_count": 34,
   "metadata": {},
   "outputs": [],
   "source": [
    "# save the model to the Models folder\n",
    "predictor.save('Models/autogluon_SOC')\n",
    "\n"
   ]
  },
  {
   "cell_type": "code",
   "execution_count": 39,
   "metadata": {},
   "outputs": [],
   "source": [
    "import pandas as pd\n",
    "\n",
    "# save predicted values and actual values to a new df\n",
    "df = pd.DataFrame({'Predicted': y_pred1, 'Actual': test_data1[label]})\n",
    "\n",
    "# save the df to a csv file\n",
    "df.to_csv('Data/autogluon_soc_pred1.csv', index=False)\n",
    "\n",
    "# save predicted values and actual values to a new df\n",
    "df = pd.DataFrame({'Predicted': y_pred2, 'Actual': test_data2[label]})\n",
    "\n",
    "# save the df to a csv file\n",
    "df.to_csv('Data/autogluon_soc_pred2.csv', index=False)"
   ]
  }
 ],
 "metadata": {
  "kernelspec": {
   "display_name": "venv",
   "language": "python",
   "name": "python3"
  },
  "language_info": {
   "codemirror_mode": {
    "name": "ipython",
    "version": 3
   },
   "file_extension": ".py",
   "mimetype": "text/x-python",
   "name": "python",
   "nbconvert_exporter": "python",
   "pygments_lexer": "ipython3",
   "version": "3.10.11"
  },
  "orig_nbformat": 4
 },
 "nbformat": 4,
 "nbformat_minor": 2
}
