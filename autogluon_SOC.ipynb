{
 "cells": [
  {
   "cell_type": "code",
   "execution_count": 91,
   "metadata": {},
   "outputs": [],
   "source": [
    "from autogluon.tabular import TabularDataset, TabularPredictor\n",
    "from ray import tune\n",
    "import numpy as np\n",
    "import math"
   ]
  },
  {
   "cell_type": "code",
   "execution_count": 92,
   "metadata": {},
   "outputs": [
    {
     "name": "stderr",
     "output_type": "stream",
     "text": [
      "Loaded data from: Data/phil_socdata_train.csv | Columns = 6 / 6 | Rows = 421709 -> 421709\n"
     ]
    },
    {
     "data": {
      "text/html": [
       "<div>\n",
       "<style scoped>\n",
       "    .dataframe tbody tr th:only-of-type {\n",
       "        vertical-align: middle;\n",
       "    }\n",
       "\n",
       "    .dataframe tbody tr th {\n",
       "        vertical-align: top;\n",
       "    }\n",
       "\n",
       "    .dataframe thead th {\n",
       "        text-align: right;\n",
       "    }\n",
       "</style>\n",
       "<table border=\"1\" class=\"dataframe\">\n",
       "  <thead>\n",
       "    <tr style=\"text-align: right;\">\n",
       "      <th></th>\n",
       "      <th>SOC</th>\n",
       "      <th>V</th>\n",
       "      <th>I</th>\n",
       "      <th>T</th>\n",
       "      <th>V_avg</th>\n",
       "      <th>I_avg</th>\n",
       "    </tr>\n",
       "  </thead>\n",
       "  <tbody>\n",
       "    <tr>\n",
       "      <th>0</th>\n",
       "      <td>100.000031</td>\n",
       "      <td>400.125</td>\n",
       "      <td>-1.50</td>\n",
       "      <td>16.5</td>\n",
       "      <td>400.125</td>\n",
       "      <td>-1.50</td>\n",
       "    </tr>\n",
       "    <tr>\n",
       "      <th>1</th>\n",
       "      <td>100.000031</td>\n",
       "      <td>400.125</td>\n",
       "      <td>-1.56</td>\n",
       "      <td>16.5</td>\n",
       "      <td>400.125</td>\n",
       "      <td>-1.53</td>\n",
       "    </tr>\n",
       "    <tr>\n",
       "      <th>2</th>\n",
       "      <td>100.000031</td>\n",
       "      <td>400.125</td>\n",
       "      <td>-1.62</td>\n",
       "      <td>16.5</td>\n",
       "      <td>400.125</td>\n",
       "      <td>-1.56</td>\n",
       "    </tr>\n",
       "    <tr>\n",
       "      <th>3</th>\n",
       "      <td>100.000031</td>\n",
       "      <td>400.125</td>\n",
       "      <td>-1.68</td>\n",
       "      <td>16.5</td>\n",
       "      <td>400.125</td>\n",
       "      <td>-1.59</td>\n",
       "    </tr>\n",
       "    <tr>\n",
       "      <th>4</th>\n",
       "      <td>100.000031</td>\n",
       "      <td>400.125</td>\n",
       "      <td>-1.74</td>\n",
       "      <td>16.5</td>\n",
       "      <td>400.125</td>\n",
       "      <td>-1.62</td>\n",
       "    </tr>\n",
       "  </tbody>\n",
       "</table>\n",
       "</div>"
      ],
      "text/plain": [
       "          SOC        V     I     T    V_avg  I_avg\n",
       "0  100.000031  400.125 -1.50  16.5  400.125  -1.50\n",
       "1  100.000031  400.125 -1.56  16.5  400.125  -1.53\n",
       "2  100.000031  400.125 -1.62  16.5  400.125  -1.56\n",
       "3  100.000031  400.125 -1.68  16.5  400.125  -1.59\n",
       "4  100.000031  400.125 -1.74  16.5  400.125  -1.62"
      ]
     },
     "execution_count": 92,
     "metadata": {},
     "output_type": "execute_result"
    }
   ],
   "source": [
    "#import data from Data/phil_socdata_train.csv, normalize (between 0 and 1) and standardize\n",
    "train_data = TabularDataset('Data/phil_socdata_train.csv')\n",
    "\n",
    "# drop the \"T\" column as it doesnt help with the prediction\n",
    "train_data = train_data.drop(labels=['T'],axis=1)\n",
    "train_data.head()\n"
   ]
  },
  {
   "cell_type": "code",
   "execution_count": 93,
   "metadata": {},
   "outputs": [
    {
     "data": {
      "text/plain": [
       "count    421709.000000\n",
       "mean         68.186101\n",
       "std          24.503003\n",
       "min           0.000000\n",
       "25%          49.019623\n",
       "50%          73.333359\n",
       "75%          89.019638\n",
       "max         100.000031\n",
       "Name: SOC, dtype: float64"
      ]
     },
     "execution_count": 93,
     "metadata": {},
     "output_type": "execute_result"
    }
   ],
   "source": [
    "label = 'SOC'\n",
    "train_data[label].describe()"
   ]
  },
  {
   "cell_type": "code",
   "execution_count": 94,
   "metadata": {},
   "outputs": [
    {
     "name": "stderr",
     "output_type": "stream",
     "text": [
      "No path specified. Models will be saved in: \"AutogluonModels/ag-20230405_190132/\"\n",
      "Presets specified: ['best_quality']\n",
      "Stack configuration (auto_stack=True): num_stack_levels=1, num_bag_folds=8, num_bag_sets=20\n",
      "Beginning AutoGluon training ... Time limit = 60s\n",
      "AutoGluon will save models to \"AutogluonModels/ag-20230405_190132/\"\n",
      "AutoGluon Version:  0.7.0\n",
      "Python Version:     3.10.8\n",
      "Operating System:   Linux\n",
      "Platform Machine:   x86_64\n",
      "Platform Version:   #148-Ubuntu SMP Mon Oct 17 16:02:06 UTC 2022\n",
      "Train Data Rows:    421709\n",
      "Train Data Columns: 5\n",
      "Label Column: SOC\n",
      "Preprocessing data ...\n",
      "AutoGluon infers your prediction problem is: 'regression' (because dtype of label-column == float and many unique label-values observed).\n",
      "\tLabel info (max, min, mean, stddev): (100.000030517578, 0.0, 68.1861, 24.503)\n",
      "\tIf 'regression' is not the correct problem_type, please manually specify the problem_type parameter during predictor init (You may specify problem_type as one of: ['binary', 'multiclass', 'regression'])\n",
      "Using Feature Generators to preprocess the data ...\n",
      "Fitting AutoMLPipelineFeatureGenerator...\n",
      "\tAvailable Memory:                    527563.11 MB\n",
      "\tTrain Data (Original)  Memory Usage: 16.87 MB (0.0% of available memory)\n",
      "\tInferring data type of each feature based on column values. Set feature_metadata_in to manually specify special dtypes of the features.\n",
      "\tStage 1 Generators:\n",
      "\t\tFitting AsTypeFeatureGenerator...\n",
      "\tStage 2 Generators:\n",
      "\t\tFitting FillNaFeatureGenerator...\n",
      "\tStage 3 Generators:\n",
      "\t\tFitting IdentityFeatureGenerator...\n",
      "\tStage 4 Generators:\n",
      "\t\tFitting DropUniqueFeatureGenerator...\n",
      "\tTypes of features in original data (raw dtype, special dtypes):\n",
      "\t\t('float', []) : 5 | ['V', 'I', 'T', 'V_avg', 'I_avg']\n",
      "\tTypes of features in processed data (raw dtype, special dtypes):\n",
      "\t\t('float', []) : 5 | ['V', 'I', 'T', 'V_avg', 'I_avg']\n",
      "\t0.6s = Fit runtime\n",
      "\t5 features in original data used to generate 5 features in processed data.\n",
      "\tTrain Data (Processed) Memory Usage: 16.87 MB (0.0% of available memory)\n",
      "Data preprocessing and feature engineering runtime = 0.61s ...\n",
      "AutoGluon will gauge predictive performance using evaluation metric: 'root_mean_squared_error'\n",
      "\tThis metric's sign has been flipped to adhere to being higher_is_better. The metric score can be multiplied by -1 to get the metric value.\n",
      "\tTo change this, specify the eval_metric parameter of Predictor()\n",
      "AutoGluon will fit 2 stack levels (L1 to L2) ...\n",
      "Fitting 11 L1 models ...\n",
      "Fitting model: KNeighborsUnif_BAG_L1 ... Training model for up to 39.58s of the 59.39s of remaining time.\n",
      "\tNot enough time to generate out-of-fold predictions for model. Estimated time required was 90.37s compared to 50.49s of available time.\n",
      "\tTime limit exceeded... Skipping KNeighborsUnif_BAG_L1.\n",
      "Fitting model: KNeighborsDist_BAG_L1 ... Training model for up to 38.41s of the 58.22s of remaining time.\n",
      "\tNot enough time to generate out-of-fold predictions for model. Estimated time required was 108.66s compared to 48.96s of available time.\n",
      "\tTime limit exceeded... Skipping KNeighborsDist_BAG_L1.\n",
      "Fitting model: LightGBMXT_BAG_L1 ... Training model for up to 37.21s of the 57.01s of remaining time.\n",
      "\tFitting 8 child models (S1F1 - S1F8) | Fitting with ParallelLocalFoldFittingStrategy\n",
      "\t-1.3653\t = Validation score   (-root_mean_squared_error)\n",
      "\t30.73s\t = Training   runtime\n",
      "\t53.81s\t = Validation runtime\n",
      "Completed 1/20 k-fold bagging repeats ...\n",
      "Fitting model: WeightedEnsemble_L2 ... Training model for up to 59.39s of the 16.84s of remaining time.\n",
      "\t-1.3653\t = Validation score   (-root_mean_squared_error)\n",
      "\t0.01s\t = Training   runtime\n",
      "\t0.0s\t = Validation runtime\n",
      "Fitting 9 L2 models ...\n",
      "Fitting model: LightGBMXT_BAG_L2 ... Training model for up to 16.82s of the 16.81s of remaining time.\n",
      "\tFitting 8 child models (S1F1 - S1F8) | Fitting with ParallelLocalFoldFittingStrategy\n",
      "\t-1.166\t = Validation score   (-root_mean_squared_error)\n",
      "\t13.76s\t = Training   runtime\n",
      "\t17.93s\t = Validation runtime\n",
      "Completed 1/20 k-fold bagging repeats ...\n",
      "Fitting model: WeightedEnsemble_L3 ... Training model for up to 59.39s of the -1.38s of remaining time.\n",
      "\t-1.166\t = Validation score   (-root_mean_squared_error)\n",
      "\t0.01s\t = Training   runtime\n",
      "\t0.01s\t = Validation runtime\n",
      "AutoGluon training complete, total runtime = 61.45s ... Best model: \"WeightedEnsemble_L3\"\n",
      "TabularPredictor saved. To load, use: predictor = TabularPredictor.load(\"AutogluonModels/ag-20230405_190132/\")\n"
     ]
    }
   ],
   "source": [
    "time_limit = 60  # train various models for x minutes\n",
    "\n",
    "predictor = TabularPredictor(label=label).fit(\n",
    "    train_data, \n",
    "    time_limit=time_limit, \n",
    "    presets='best_quality'\n",
    ")\n",
    "\n"
   ]
  },
  {
   "cell_type": "code",
   "execution_count": 95,
   "metadata": {},
   "outputs": [
    {
     "name": "stderr",
     "output_type": "stream",
     "text": [
      "Loaded data from: Data/phil_socdata_test1.csv | Columns = 6 / 6 | Rows = 5617 -> 5617\n",
      "Loaded data from: Data/phil_socdata_test2.csv | Columns = 6 / 6 | Rows = 18307 -> 18307\n"
     ]
    },
    {
     "data": {
      "text/plain": [
       "0    98.870476\n",
       "1    98.870476\n",
       "2    98.870476\n",
       "3    98.870476\n",
       "4    98.870476\n",
       "Name: SOC, dtype: float32"
      ]
     },
     "execution_count": 95,
     "metadata": {},
     "output_type": "execute_result"
    }
   ],
   "source": [
    "# import test data from Data/phil_socdata_test.csv, normalize (between 0 and 1) and standardize\n",
    "test_data1 = TabularDataset(f'Data/phil_socdata_test1.csv')\n",
    "test_data2 = TabularDataset(f'Data/phil_socdata_test2.csv')\n",
    "\n",
    "y_pred1= predictor.predict(test_data1.drop(columns=[label]))\n",
    "y_pred1.head()\n",
    "\n",
    "y_pred2= predictor.predict(test_data2.drop(columns=[label]))\n",
    "y_pred2.head()"
   ]
  },
  {
   "cell_type": "code",
   "execution_count": 96,
   "metadata": {},
   "outputs": [
    {
     "name": "stderr",
     "output_type": "stream",
     "text": [
      "/home/witvoetk/anaconda3/envs/tf/lib/python3.10/site-packages/autogluon/tabular/predictor/predictor.py:1420: FutureWarning: Calling `predictor.predict_proba` when problem_type=regression will raise an AssertionError starting in AutoGluon v0.8. Please call `predictor.predict` instead.\n",
      "  warnings.warn(\n"
     ]
    },
    {
     "data": {
      "text/plain": [
       "{'root_mean_squared_error': -2.2046877637171143,\n",
       " 'mean_squared_error': -4.86064813548397,\n",
       " 'mean_absolute_error': -1.5501796099558316,\n",
       " 'r2': 0.9734162111225643,\n",
       " 'pearsonr': 0.99086299386547,\n",
       " 'median_absolute_error': -1.1150093034960946}"
      ]
     },
     "execution_count": 96,
     "metadata": {},
     "output_type": "execute_result"
    }
   ],
   "source": [
    "predictor.evaluate(test_data1, silent=True)"
   ]
  },
  {
   "cell_type": "code",
   "execution_count": 97,
   "metadata": {},
   "outputs": [
    {
     "name": "stderr",
     "output_type": "stream",
     "text": [
      "/home/witvoetk/anaconda3/envs/tf/lib/python3.10/site-packages/autogluon/tabular/predictor/predictor.py:1420: FutureWarning: Calling `predictor.predict_proba` when problem_type=regression will raise an AssertionError starting in AutoGluon v0.8. Please call `predictor.predict` instead.\n",
      "  warnings.warn(\n"
     ]
    },
    {
     "data": {
      "text/plain": [
       "{'root_mean_squared_error': -2.1920326960999734,\n",
       " 'mean_squared_error': -4.8050073407713185,\n",
       " 'mean_absolute_error': -1.5490273820260583,\n",
       " 'r2': 0.9925689805076882,\n",
       " 'pearsonr': 0.9979813518456417,\n",
       " 'median_absolute_error': -1.0696563764160132}"
      ]
     },
     "execution_count": 97,
     "metadata": {},
     "output_type": "execute_result"
    }
   ],
   "source": [
    "predictor.evaluate(test_data2, silent=True)"
   ]
  },
  {
   "cell_type": "code",
   "execution_count": 98,
   "metadata": {},
   "outputs": [
    {
     "data": {
      "text/html": [
       "<div>\n",
       "<style scoped>\n",
       "    .dataframe tbody tr th:only-of-type {\n",
       "        vertical-align: middle;\n",
       "    }\n",
       "\n",
       "    .dataframe tbody tr th {\n",
       "        vertical-align: top;\n",
       "    }\n",
       "\n",
       "    .dataframe thead th {\n",
       "        text-align: right;\n",
       "    }\n",
       "</style>\n",
       "<table border=\"1\" class=\"dataframe\">\n",
       "  <thead>\n",
       "    <tr style=\"text-align: right;\">\n",
       "      <th></th>\n",
       "      <th>model</th>\n",
       "      <th>score_test</th>\n",
       "      <th>score_val</th>\n",
       "      <th>pred_time_test</th>\n",
       "      <th>pred_time_val</th>\n",
       "      <th>fit_time</th>\n",
       "      <th>pred_time_test_marginal</th>\n",
       "      <th>pred_time_val_marginal</th>\n",
       "      <th>fit_time_marginal</th>\n",
       "      <th>stack_level</th>\n",
       "      <th>can_infer</th>\n",
       "      <th>fit_order</th>\n",
       "    </tr>\n",
       "  </thead>\n",
       "  <tbody>\n",
       "    <tr>\n",
       "      <th>0</th>\n",
       "      <td>LightGBMXT_BAG_L1</td>\n",
       "      <td>-1.906501</td>\n",
       "      <td>-1.365286</td>\n",
       "      <td>1.056135</td>\n",
       "      <td>53.810334</td>\n",
       "      <td>30.729506</td>\n",
       "      <td>1.056135</td>\n",
       "      <td>53.810334</td>\n",
       "      <td>30.729506</td>\n",
       "      <td>1</td>\n",
       "      <td>True</td>\n",
       "      <td>1</td>\n",
       "    </tr>\n",
       "    <tr>\n",
       "      <th>1</th>\n",
       "      <td>WeightedEnsemble_L2</td>\n",
       "      <td>-1.906501</td>\n",
       "      <td>-1.365286</td>\n",
       "      <td>1.057476</td>\n",
       "      <td>53.813781</td>\n",
       "      <td>30.735392</td>\n",
       "      <td>0.001341</td>\n",
       "      <td>0.003447</td>\n",
       "      <td>0.005885</td>\n",
       "      <td>2</td>\n",
       "      <td>True</td>\n",
       "      <td>2</td>\n",
       "    </tr>\n",
       "    <tr>\n",
       "      <th>2</th>\n",
       "      <td>LightGBMXT_BAG_L2</td>\n",
       "      <td>-2.204688</td>\n",
       "      <td>-1.165953</td>\n",
       "      <td>1.503800</td>\n",
       "      <td>71.739376</td>\n",
       "      <td>44.489804</td>\n",
       "      <td>0.447665</td>\n",
       "      <td>17.929042</td>\n",
       "      <td>13.760298</td>\n",
       "      <td>2</td>\n",
       "      <td>True</td>\n",
       "      <td>3</td>\n",
       "    </tr>\n",
       "    <tr>\n",
       "      <th>3</th>\n",
       "      <td>WeightedEnsemble_L3</td>\n",
       "      <td>-2.204688</td>\n",
       "      <td>-1.165953</td>\n",
       "      <td>1.505004</td>\n",
       "      <td>71.744381</td>\n",
       "      <td>44.497479</td>\n",
       "      <td>0.001203</td>\n",
       "      <td>0.005005</td>\n",
       "      <td>0.007675</td>\n",
       "      <td>3</td>\n",
       "      <td>True</td>\n",
       "      <td>4</td>\n",
       "    </tr>\n",
       "  </tbody>\n",
       "</table>\n",
       "</div>"
      ],
      "text/plain": [
       "                 model  score_test  score_val  pred_time_test  pred_time_val  \\\n",
       "0    LightGBMXT_BAG_L1   -1.906501  -1.365286        1.056135      53.810334   \n",
       "1  WeightedEnsemble_L2   -1.906501  -1.365286        1.057476      53.813781   \n",
       "2    LightGBMXT_BAG_L2   -2.204688  -1.165953        1.503800      71.739376   \n",
       "3  WeightedEnsemble_L3   -2.204688  -1.165953        1.505004      71.744381   \n",
       "\n",
       "    fit_time  pred_time_test_marginal  pred_time_val_marginal  \\\n",
       "0  30.729506                 1.056135               53.810334   \n",
       "1  30.735392                 0.001341                0.003447   \n",
       "2  44.489804                 0.447665               17.929042   \n",
       "3  44.497479                 0.001203                0.005005   \n",
       "\n",
       "   fit_time_marginal  stack_level  can_infer  fit_order  \n",
       "0          30.729506            1       True          1  \n",
       "1           0.005885            2       True          2  \n",
       "2          13.760298            2       True          3  \n",
       "3           0.007675            3       True          4  "
      ]
     },
     "execution_count": 98,
     "metadata": {},
     "output_type": "execute_result"
    }
   ],
   "source": [
    "predictor.leaderboard(test_data1, silent=True)"
   ]
  },
  {
   "cell_type": "code",
   "execution_count": 99,
   "metadata": {},
   "outputs": [
    {
     "data": {
      "text/html": [
       "<div>\n",
       "<style scoped>\n",
       "    .dataframe tbody tr th:only-of-type {\n",
       "        vertical-align: middle;\n",
       "    }\n",
       "\n",
       "    .dataframe tbody tr th {\n",
       "        vertical-align: top;\n",
       "    }\n",
       "\n",
       "    .dataframe thead th {\n",
       "        text-align: right;\n",
       "    }\n",
       "</style>\n",
       "<table border=\"1\" class=\"dataframe\">\n",
       "  <thead>\n",
       "    <tr style=\"text-align: right;\">\n",
       "      <th></th>\n",
       "      <th>model</th>\n",
       "      <th>score_test</th>\n",
       "      <th>score_val</th>\n",
       "      <th>pred_time_test</th>\n",
       "      <th>pred_time_val</th>\n",
       "      <th>fit_time</th>\n",
       "      <th>pred_time_test_marginal</th>\n",
       "      <th>pred_time_val_marginal</th>\n",
       "      <th>fit_time_marginal</th>\n",
       "      <th>stack_level</th>\n",
       "      <th>can_infer</th>\n",
       "      <th>fit_order</th>\n",
       "    </tr>\n",
       "  </thead>\n",
       "  <tbody>\n",
       "    <tr>\n",
       "      <th>0</th>\n",
       "      <td>LightGBMXT_BAG_L1</td>\n",
       "      <td>-2.149653</td>\n",
       "      <td>-1.365286</td>\n",
       "      <td>2.085970</td>\n",
       "      <td>53.810334</td>\n",
       "      <td>30.729506</td>\n",
       "      <td>2.085970</td>\n",
       "      <td>53.810334</td>\n",
       "      <td>30.729506</td>\n",
       "      <td>1</td>\n",
       "      <td>True</td>\n",
       "      <td>1</td>\n",
       "    </tr>\n",
       "    <tr>\n",
       "      <th>1</th>\n",
       "      <td>WeightedEnsemble_L2</td>\n",
       "      <td>-2.149653</td>\n",
       "      <td>-1.365286</td>\n",
       "      <td>2.087335</td>\n",
       "      <td>53.813781</td>\n",
       "      <td>30.735392</td>\n",
       "      <td>0.001364</td>\n",
       "      <td>0.003447</td>\n",
       "      <td>0.005885</td>\n",
       "      <td>2</td>\n",
       "      <td>True</td>\n",
       "      <td>2</td>\n",
       "    </tr>\n",
       "    <tr>\n",
       "      <th>2</th>\n",
       "      <td>LightGBMXT_BAG_L2</td>\n",
       "      <td>-2.192033</td>\n",
       "      <td>-1.165953</td>\n",
       "      <td>3.009794</td>\n",
       "      <td>71.739376</td>\n",
       "      <td>44.489804</td>\n",
       "      <td>0.923824</td>\n",
       "      <td>17.929042</td>\n",
       "      <td>13.760298</td>\n",
       "      <td>2</td>\n",
       "      <td>True</td>\n",
       "      <td>3</td>\n",
       "    </tr>\n",
       "    <tr>\n",
       "      <th>3</th>\n",
       "      <td>WeightedEnsemble_L3</td>\n",
       "      <td>-2.192033</td>\n",
       "      <td>-1.165953</td>\n",
       "      <td>3.012696</td>\n",
       "      <td>71.744381</td>\n",
       "      <td>44.497479</td>\n",
       "      <td>0.002902</td>\n",
       "      <td>0.005005</td>\n",
       "      <td>0.007675</td>\n",
       "      <td>3</td>\n",
       "      <td>True</td>\n",
       "      <td>4</td>\n",
       "    </tr>\n",
       "  </tbody>\n",
       "</table>\n",
       "</div>"
      ],
      "text/plain": [
       "                 model  score_test  score_val  pred_time_test  pred_time_val  \\\n",
       "0    LightGBMXT_BAG_L1   -2.149653  -1.365286        2.085970      53.810334   \n",
       "1  WeightedEnsemble_L2   -2.149653  -1.365286        2.087335      53.813781   \n",
       "2    LightGBMXT_BAG_L2   -2.192033  -1.165953        3.009794      71.739376   \n",
       "3  WeightedEnsemble_L3   -2.192033  -1.165953        3.012696      71.744381   \n",
       "\n",
       "    fit_time  pred_time_test_marginal  pred_time_val_marginal  \\\n",
       "0  30.729506                 2.085970               53.810334   \n",
       "1  30.735392                 0.001364                0.003447   \n",
       "2  44.489804                 0.923824               17.929042   \n",
       "3  44.497479                 0.002902                0.005005   \n",
       "\n",
       "   fit_time_marginal  stack_level  can_infer  fit_order  \n",
       "0          30.729506            1       True          1  \n",
       "1           0.005885            2       True          2  \n",
       "2          13.760298            2       True          3  \n",
       "3           0.007675            3       True          4  "
      ]
     },
     "execution_count": 99,
     "metadata": {},
     "output_type": "execute_result"
    }
   ],
   "source": [
    "predictor.leaderboard(test_data2, silent=True)"
   ]
  },
  {
   "cell_type": "code",
   "execution_count": 100,
   "metadata": {},
   "outputs": [
    {
     "data": {
      "image/png": "[encoded data removed]",
      "text/plain": [
       "<Figure size 640x480 with 1 Axes>"
      ]
     },
     "metadata": {},
     "output_type": "display_data"
    }
   ],
   "source": [
    "#plots the predicted vs actual values of the top performing model using matplotlib\n",
    "import matplotlib.pyplot as plt\n",
    "plt.plot(y_pred1, label=\"Predictions\")\n",
    "plt.plot(test_data1[label], label=\"True Values\")\n",
    "plt.legend()\n",
    "plt.show()"
   ]
  },
  {
   "cell_type": "code",
   "execution_count": 101,
   "metadata": {},
   "outputs": [
    {
     "data": {
      "image/png": "[encoded data removed]",
      "text/plain": [
       "<Figure size 640x480 with 1 Axes>"
      ]
     },
     "metadata": {},
     "output_type": "display_data"
    }
   ],
   "source": [
    "plt.plot(y_pred2, label=\"Predictions\")\n",
    "plt.plot(test_data2[label], label=\"True Values\")\n",
    "plt.legend()\n",
    "plt.show()"
   ]
  },
  {
   "cell_type": "code",
   "execution_count": 102,
   "metadata": {},
   "outputs": [
    {
     "name": "stdout",
     "output_type": "stream",
     "text": [
      "Test data 1 RMSE 2.2046877637171143\n",
      "Test data 2 RMSE 2.1920326960999734\n"
     ]
    }
   ],
   "source": [
    "mse_test = np.mean(((y_pred1 - test_data1[label])**2))\n",
    "rmse_test = math.sqrt(mse_test)\n",
    "print(\"Test data 1 RMSE\", rmse_test)\n",
    "mse_test = np.mean(((y_pred2 - test_data2[label])**2))\n",
    "rmse_test = math.sqrt(mse_test)\n",
    "print(\"Test data 2 RMSE\", rmse_test)"
   ]
  },
  {
   "cell_type": "code",
   "execution_count": 103,
   "metadata": {},
   "outputs": [
    {
     "name": "stderr",
     "output_type": "stream",
     "text": [
      "Computing feature importance via permutation shuffling for 5 features using 5000 rows with 5 shuffle sets...\n",
      "\t40.75s\t= Expected runtime (8.15s per shuffle set)\n",
      "\t25.41s\t= Actual runtime (Completed 5 of 5 shuffle sets)\n"
     ]
    },
    {
     "data": {
      "text/html": [
       "<div>\n",
       "<style scoped>\n",
       "    .dataframe tbody tr th:only-of-type {\n",
       "        vertical-align: middle;\n",
       "    }\n",
       "\n",
       "    .dataframe tbody tr th {\n",
       "        vertical-align: top;\n",
       "    }\n",
       "\n",
       "    .dataframe thead th {\n",
       "        text-align: right;\n",
       "    }\n",
       "</style>\n",
       "<table border=\"1\" class=\"dataframe\">\n",
       "  <thead>\n",
       "    <tr style=\"text-align: right;\">\n",
       "      <th></th>\n",
       "      <th>importance</th>\n",
       "      <th>stddev</th>\n",
       "      <th>p_value</th>\n",
       "      <th>n</th>\n",
       "      <th>p99_high</th>\n",
       "      <th>p99_low</th>\n",
       "    </tr>\n",
       "  </thead>\n",
       "  <tbody>\n",
       "    <tr>\n",
       "      <th>V_avg</th>\n",
       "      <td>14.216962</td>\n",
       "      <td>0.329433</td>\n",
       "      <td>3.457084e-08</td>\n",
       "      <td>5</td>\n",
       "      <td>14.895268</td>\n",
       "      <td>13.538655</td>\n",
       "    </tr>\n",
       "    <tr>\n",
       "      <th>I_avg</th>\n",
       "      <td>3.710503</td>\n",
       "      <td>0.028994</td>\n",
       "      <td>4.473684e-10</td>\n",
       "      <td>5</td>\n",
       "      <td>3.770203</td>\n",
       "      <td>3.650803</td>\n",
       "    </tr>\n",
       "    <tr>\n",
       "      <th>V</th>\n",
       "      <td>3.123500</td>\n",
       "      <td>0.055465</td>\n",
       "      <td>1.192618e-08</td>\n",
       "      <td>5</td>\n",
       "      <td>3.237703</td>\n",
       "      <td>3.009297</td>\n",
       "    </tr>\n",
       "    <tr>\n",
       "      <th>I</th>\n",
       "      <td>1.298425</td>\n",
       "      <td>0.027384</td>\n",
       "      <td>2.372631e-08</td>\n",
       "      <td>5</td>\n",
       "      <td>1.354808</td>\n",
       "      <td>1.242041</td>\n",
       "    </tr>\n",
       "    <tr>\n",
       "      <th>T</th>\n",
       "      <td>-0.329771</td>\n",
       "      <td>0.018898</td>\n",
       "      <td>9.999987e-01</td>\n",
       "      <td>5</td>\n",
       "      <td>-0.290861</td>\n",
       "      <td>-0.368682</td>\n",
       "    </tr>\n",
       "  </tbody>\n",
       "</table>\n",
       "</div>"
      ],
      "text/plain": [
       "       importance    stddev       p_value  n   p99_high    p99_low\n",
       "V_avg   14.216962  0.329433  3.457084e-08  5  14.895268  13.538655\n",
       "I_avg    3.710503  0.028994  4.473684e-10  5   3.770203   3.650803\n",
       "V        3.123500  0.055465  1.192618e-08  5   3.237703   3.009297\n",
       "I        1.298425  0.027384  2.372631e-08  5   1.354808   1.242041\n",
       "T       -0.329771  0.018898  9.999987e-01  5  -0.290861  -0.368682"
      ]
     },
     "execution_count": 103,
     "metadata": {},
     "output_type": "execute_result"
    }
   ],
   "source": [
    "predictor.feature_importance(test_data1)"
   ]
  },
  {
   "cell_type": "code",
   "execution_count": 104,
   "metadata": {},
   "outputs": [
    {
     "name": "stderr",
     "output_type": "stream",
     "text": [
      "Computing feature importance via permutation shuffling for 5 features using 5000 rows with 5 shuffle sets...\n",
      "\t42.18s\t= Expected runtime (8.44s per shuffle set)\n",
      "\t25.66s\t= Actual runtime (Completed 5 of 5 shuffle sets)\n"
     ]
    },
    {
     "data": {
      "text/html": [
       "<div>\n",
       "<style scoped>\n",
       "    .dataframe tbody tr th:only-of-type {\n",
       "        vertical-align: middle;\n",
       "    }\n",
       "\n",
       "    .dataframe tbody tr th {\n",
       "        vertical-align: top;\n",
       "    }\n",
       "\n",
       "    .dataframe thead th {\n",
       "        text-align: right;\n",
       "    }\n",
       "</style>\n",
       "<table border=\"1\" class=\"dataframe\">\n",
       "  <thead>\n",
       "    <tr style=\"text-align: right;\">\n",
       "      <th></th>\n",
       "      <th>importance</th>\n",
       "      <th>stddev</th>\n",
       "      <th>p_value</th>\n",
       "      <th>n</th>\n",
       "      <th>p99_high</th>\n",
       "      <th>p99_low</th>\n",
       "    </tr>\n",
       "  </thead>\n",
       "  <tbody>\n",
       "    <tr>\n",
       "      <th>V_avg</th>\n",
       "      <td>22.701013</td>\n",
       "      <td>0.211608</td>\n",
       "      <td>9.058928e-10</td>\n",
       "      <td>5</td>\n",
       "      <td>23.136716</td>\n",
       "      <td>22.265309</td>\n",
       "    </tr>\n",
       "    <tr>\n",
       "      <th>V</th>\n",
       "      <td>13.018320</td>\n",
       "      <td>0.263529</td>\n",
       "      <td>2.013901e-08</td>\n",
       "      <td>5</td>\n",
       "      <td>13.560930</td>\n",
       "      <td>12.475710</td>\n",
       "    </tr>\n",
       "    <tr>\n",
       "      <th>I_avg</th>\n",
       "      <td>4.163572</td>\n",
       "      <td>0.127487</td>\n",
       "      <td>1.053517e-07</td>\n",
       "      <td>5</td>\n",
       "      <td>4.426070</td>\n",
       "      <td>3.901074</td>\n",
       "    </tr>\n",
       "    <tr>\n",
       "      <th>I</th>\n",
       "      <td>1.025777</td>\n",
       "      <td>0.014993</td>\n",
       "      <td>5.474576e-09</td>\n",
       "      <td>5</td>\n",
       "      <td>1.056647</td>\n",
       "      <td>0.994907</td>\n",
       "    </tr>\n",
       "    <tr>\n",
       "      <th>T</th>\n",
       "      <td>0.118000</td>\n",
       "      <td>0.007555</td>\n",
       "      <td>2.005252e-06</td>\n",
       "      <td>5</td>\n",
       "      <td>0.133555</td>\n",
       "      <td>0.102444</td>\n",
       "    </tr>\n",
       "  </tbody>\n",
       "</table>\n",
       "</div>"
      ],
      "text/plain": [
       "       importance    stddev       p_value  n   p99_high    p99_low\n",
       "V_avg   22.701013  0.211608  9.058928e-10  5  23.136716  22.265309\n",
       "V       13.018320  0.263529  2.013901e-08  5  13.560930  12.475710\n",
       "I_avg    4.163572  0.127487  1.053517e-07  5   4.426070   3.901074\n",
       "I        1.025777  0.014993  5.474576e-09  5   1.056647   0.994907\n",
       "T        0.118000  0.007555  2.005252e-06  5   0.133555   0.102444"
      ]
     },
     "execution_count": 104,
     "metadata": {},
     "output_type": "execute_result"
    }
   ],
   "source": [
    "predictor.feature_importance(test_data2)"
   ]
  }
 ],
 "metadata": {
  "kernelspec": {
   "display_name": "venv",
   "language": "python",
   "name": "python3"
  },
  "language_info": {
   "codemirror_mode": {
    "name": "ipython",
    "version": 3
   },
   "file_extension": ".py",
   "mimetype": "text/x-python",
   "name": "python",
   "nbconvert_exporter": "python",
   "pygments_lexer": "ipython3",
   "version": "3.10.8"
  },
  "orig_nbformat": 4
 },
 "nbformat": 4,
 "nbformat_minor": 2
}
