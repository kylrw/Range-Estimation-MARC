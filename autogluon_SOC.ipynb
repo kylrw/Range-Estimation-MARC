{
 "cells": [
  {
   "cell_type": "code",
   "execution_count": 60,
   "metadata": {},
   "outputs": [],
   "source": [
    "from autogluon.tabular import TabularDataset, TabularPredictor\n",
    "from ray import tune\n",
    "import numpy as np\n",
    "import math"
   ]
  },
  {
   "cell_type": "code",
   "execution_count": 61,
   "metadata": {},
   "outputs": [
    {
     "name": "stderr",
     "output_type": "stream",
     "text": [
      "Loaded data from: Data/phil_socdata_train.csv | Columns = 4 / 4 | Rows = 427326 -> 427326\n"
     ]
    },
    {
     "data": {
      "text/html": [
       "<div>\n",
       "<style scoped>\n",
       "    .dataframe tbody tr th:only-of-type {\n",
       "        vertical-align: middle;\n",
       "    }\n",
       "\n",
       "    .dataframe tbody tr th {\n",
       "        vertical-align: top;\n",
       "    }\n",
       "\n",
       "    .dataframe thead th {\n",
       "        text-align: right;\n",
       "    }\n",
       "</style>\n",
       "<table border=\"1\" class=\"dataframe\">\n",
       "  <thead>\n",
       "    <tr style=\"text-align: right;\">\n",
       "      <th></th>\n",
       "      <th>SOC</th>\n",
       "      <th>V</th>\n",
       "      <th>I</th>\n",
       "      <th>T</th>\n",
       "    </tr>\n",
       "  </thead>\n",
       "  <tbody>\n",
       "    <tr>\n",
       "      <th>0</th>\n",
       "      <td>100.000031</td>\n",
       "      <td>400.125</td>\n",
       "      <td>-1.50</td>\n",
       "      <td>16.5</td>\n",
       "    </tr>\n",
       "    <tr>\n",
       "      <th>1</th>\n",
       "      <td>100.000031</td>\n",
       "      <td>400.125</td>\n",
       "      <td>-1.56</td>\n",
       "      <td>16.5</td>\n",
       "    </tr>\n",
       "    <tr>\n",
       "      <th>2</th>\n",
       "      <td>100.000031</td>\n",
       "      <td>400.125</td>\n",
       "      <td>-1.62</td>\n",
       "      <td>16.5</td>\n",
       "    </tr>\n",
       "    <tr>\n",
       "      <th>3</th>\n",
       "      <td>100.000031</td>\n",
       "      <td>400.125</td>\n",
       "      <td>-1.68</td>\n",
       "      <td>16.5</td>\n",
       "    </tr>\n",
       "    <tr>\n",
       "      <th>4</th>\n",
       "      <td>100.000031</td>\n",
       "      <td>400.125</td>\n",
       "      <td>-1.74</td>\n",
       "      <td>16.5</td>\n",
       "    </tr>\n",
       "  </tbody>\n",
       "</table>\n",
       "</div>"
      ],
      "text/plain": [
       "          SOC        V     I     T\n",
       "0  100.000031  400.125 -1.50  16.5\n",
       "1  100.000031  400.125 -1.56  16.5\n",
       "2  100.000031  400.125 -1.62  16.5\n",
       "3  100.000031  400.125 -1.68  16.5\n",
       "4  100.000031  400.125 -1.74  16.5"
      ]
     },
     "execution_count": 61,
     "metadata": {},
     "output_type": "execute_result"
    }
   ],
   "source": [
    "#import data from Data/phil_socdata_train.csv, normalize (between 0 and 1) and standardize\n",
    "train_data = TabularDataset('Data/phil_socdata_train.csv')\n",
    "#train_data = train_data.apply(lambda x: (x - np.min(x)) / (np.max(x) - np.min(x))) #normalize \n",
    "#train_data = train_data.apply(lambda x: (x - np.mean(x)) / np.std(x)) #standardize\n",
    "train_data.head()\n"
   ]
  },
  {
   "cell_type": "code",
   "execution_count": 62,
   "metadata": {},
   "outputs": [],
   "source": [
    "#train_data = TabularDataset(f'Data/phil_socdata_train.csv')\n",
    "#train_data.head()"
   ]
  },
  {
   "cell_type": "code",
   "execution_count": 63,
   "metadata": {},
   "outputs": [
    {
     "data": {
      "text/plain": [
       "count    427326.000000\n",
       "mean         67.759531\n",
       "std          24.669208\n",
       "min           0.000000\n",
       "25%          48.627468\n",
       "50%          72.941200\n",
       "75%          88.627480\n",
       "max         100.000031\n",
       "Name: SOC, dtype: float64"
      ]
     },
     "execution_count": 63,
     "metadata": {},
     "output_type": "execute_result"
    }
   ],
   "source": [
    "label = 'SOC'\n",
    "train_data[label].describe()"
   ]
  },
  {
   "cell_type": "code",
   "execution_count": 70,
   "metadata": {},
   "outputs": [
    {
     "name": "stderr",
     "output_type": "stream",
     "text": [
      "No path specified. Models will be saved in: \"AutogluonModels/ag-20230402_004030/\"\n",
      "Presets specified: ['best_quality']\n",
      "Warning: hyperparameter tuning is currently experimental and may cause the process to hang.\n",
      "Stack configuration (auto_stack=True): num_stack_levels=1, num_bag_folds=8, num_bag_sets=20\n",
      "Beginning AutoGluon training ... Time limit = 60s\n",
      "AutoGluon will save models to \"AutogluonModels/ag-20230402_004030/\"\n",
      "AutoGluon Version:  0.7.0\n",
      "Python Version:     3.10.8\n",
      "Operating System:   Linux\n",
      "Platform Machine:   x86_64\n",
      "Platform Version:   #148-Ubuntu SMP Mon Oct 17 16:02:06 UTC 2022\n",
      "Train Data Rows:    427326\n",
      "Train Data Columns: 3\n",
      "Label Column: SOC\n",
      "Preprocessing data ...\n",
      "AutoGluon infers your prediction problem is: 'regression' (because dtype of label-column == float and many unique label-values observed).\n",
      "\tLabel info (max, min, mean, stddev): (100.000030517578, 0.0, 67.75953, 24.66921)\n",
      "\tIf 'regression' is not the correct problem_type, please manually specify the problem_type parameter during predictor init (You may specify problem_type as one of: ['binary', 'multiclass', 'regression'])\n",
      "Using Feature Generators to preprocess the data ...\n",
      "Fitting AutoMLPipelineFeatureGenerator...\n",
      "\tAvailable Memory:                    532308.91 MB\n",
      "\tTrain Data (Original)  Memory Usage: 10.26 MB (0.0% of available memory)\n",
      "\tInferring data type of each feature based on column values. Set feature_metadata_in to manually specify special dtypes of the features.\n",
      "\tStage 1 Generators:\n",
      "\t\tFitting AsTypeFeatureGenerator...\n",
      "\tStage 2 Generators:\n",
      "\t\tFitting FillNaFeatureGenerator...\n",
      "\tStage 3 Generators:\n",
      "\t\tFitting IdentityFeatureGenerator...\n",
      "\tStage 4 Generators:\n",
      "\t\tFitting DropUniqueFeatureGenerator...\n",
      "\tTypes of features in original data (raw dtype, special dtypes):\n",
      "\t\t('float', []) : 3 | ['V', 'I', 'T']\n",
      "\tTypes of features in processed data (raw dtype, special dtypes):\n",
      "\t\t('float', []) : 3 | ['V', 'I', 'T']\n",
      "\t0.5s = Fit runtime\n",
      "\t3 features in original data used to generate 3 features in processed data.\n",
      "\tTrain Data (Processed) Memory Usage: 10.26 MB (0.0% of available memory)\n",
      "Data preprocessing and feature engineering runtime = 0.52s ...\n",
      "AutoGluon will gauge predictive performance using evaluation metric: 'root_mean_squared_error'\n",
      "\tThis metric's sign has been flipped to adhere to being higher_is_better. The metric score can be multiplied by -1 to get the metric value.\n",
      "\tTo change this, specify the eval_metric parameter of Predictor()\n",
      "AutoGluon will fit 2 stack levels (L1 to L2) ...\n",
      "Fitting 11 L1 models ...\n",
      "Hyperparameter tuning model: KNeighborsUnif_BAG_L1 ... Tuning model for up to 3.24s of the 59.48s of remaining time.\n",
      "Warning: Exception caused KNeighborsUnif_BAG_L1 to fail during hyperparameter tuning... Skipping this model.\n",
      "Traceback (most recent call last):\n",
      "  File \"/home/witvoetk/anaconda3/envs/tf/lib/python3.10/site-packages/autogluon/core/trainer/abstract_trainer.py\", line 1761, in _train_single_full\n",
      "    hpo_models, hpo_results = model.hyperparameter_tune(\n",
      "  File \"/home/witvoetk/anaconda3/envs/tf/lib/python3.10/site-packages/autogluon/core/models/abstract/abstract_model.py\", line 1250, in hyperparameter_tune\n",
      "    hpo_executor.initialize(hyperparameter_tune_kwargs, default_num_trials=default_num_trials, time_limit=time_limit)\n",
      "  File \"/home/witvoetk/anaconda3/envs/tf/lib/python3.10/site-packages/autogluon/core/hpo/executors.py\", line 455, in initialize\n",
      "    hyperparameter_tune_kwargs = scheduler_factory(hyperparameter_tune_kwargs, num_trials=num_trials, nthreads_per_trial='auto', ngpus_per_trial='auto')\n",
      "  File \"/home/witvoetk/anaconda3/envs/tf/lib/python3.10/site-packages/autogluon/core/scheduler/scheduler_factory.py\", line 76, in scheduler_factory\n",
      "    raise ValueError(f\"Required key 'scheduler' is not present in hyperparameter_tune_kwargs: {hyperparameter_tune_kwargs}\")\n",
      "ValueError: Required key 'scheduler' is not present in hyperparameter_tune_kwargs: {'searcher': 'bayes'}\n",
      "Required key 'scheduler' is not present in hyperparameter_tune_kwargs: {'searcher': 'bayes'}\n",
      "Hyperparameter tuning model: KNeighborsDist_BAG_L1 ... Tuning model for up to 3.24s of the 59.47s of remaining time.\n",
      "Warning: Exception caused KNeighborsDist_BAG_L1 to fail during hyperparameter tuning... Skipping this model.\n",
      "Traceback (most recent call last):\n",
      "  File \"/home/witvoetk/anaconda3/envs/tf/lib/python3.10/site-packages/autogluon/core/trainer/abstract_trainer.py\", line 1761, in _train_single_full\n",
      "    hpo_models, hpo_results = model.hyperparameter_tune(\n",
      "  File \"/home/witvoetk/anaconda3/envs/tf/lib/python3.10/site-packages/autogluon/core/models/abstract/abstract_model.py\", line 1250, in hyperparameter_tune\n",
      "    hpo_executor.initialize(hyperparameter_tune_kwargs, default_num_trials=default_num_trials, time_limit=time_limit)\n",
      "  File \"/home/witvoetk/anaconda3/envs/tf/lib/python3.10/site-packages/autogluon/core/hpo/executors.py\", line 455, in initialize\n",
      "    hyperparameter_tune_kwargs = scheduler_factory(hyperparameter_tune_kwargs, num_trials=num_trials, nthreads_per_trial='auto', ngpus_per_trial='auto')\n",
      "  File \"/home/witvoetk/anaconda3/envs/tf/lib/python3.10/site-packages/autogluon/core/scheduler/scheduler_factory.py\", line 76, in scheduler_factory\n",
      "    raise ValueError(f\"Required key 'scheduler' is not present in hyperparameter_tune_kwargs: {hyperparameter_tune_kwargs}\")\n",
      "ValueError: Required key 'scheduler' is not present in hyperparameter_tune_kwargs: {'searcher': 'bayes'}\n",
      "Required key 'scheduler' is not present in hyperparameter_tune_kwargs: {'searcher': 'bayes'}\n",
      "Hyperparameter tuning model: LightGBMXT_BAG_L1 ... Tuning model for up to 3.24s of the 59.47s of remaining time.\n",
      "Warning: Exception caused LightGBMXT_BAG_L1 to fail during hyperparameter tuning... Skipping this model.\n",
      "Traceback (most recent call last):\n",
      "  File \"/home/witvoetk/anaconda3/envs/tf/lib/python3.10/site-packages/autogluon/core/trainer/abstract_trainer.py\", line 1761, in _train_single_full\n",
      "    hpo_models, hpo_results = model.hyperparameter_tune(\n",
      "  File \"/home/witvoetk/anaconda3/envs/tf/lib/python3.10/site-packages/autogluon/core/models/abstract/abstract_model.py\", line 1250, in hyperparameter_tune\n",
      "    hpo_executor.initialize(hyperparameter_tune_kwargs, default_num_trials=default_num_trials, time_limit=time_limit)\n",
      "  File \"/home/witvoetk/anaconda3/envs/tf/lib/python3.10/site-packages/autogluon/core/hpo/executors.py\", line 455, in initialize\n",
      "    hyperparameter_tune_kwargs = scheduler_factory(hyperparameter_tune_kwargs, num_trials=num_trials, nthreads_per_trial='auto', ngpus_per_trial='auto')\n",
      "  File \"/home/witvoetk/anaconda3/envs/tf/lib/python3.10/site-packages/autogluon/core/scheduler/scheduler_factory.py\", line 76, in scheduler_factory\n",
      "    raise ValueError(f\"Required key 'scheduler' is not present in hyperparameter_tune_kwargs: {hyperparameter_tune_kwargs}\")\n",
      "ValueError: Required key 'scheduler' is not present in hyperparameter_tune_kwargs: {'searcher': 'bayes'}\n",
      "Required key 'scheduler' is not present in hyperparameter_tune_kwargs: {'searcher': 'bayes'}\n",
      "Hyperparameter tuning model: LightGBM_BAG_L1 ... Tuning model for up to 3.24s of the 59.46s of remaining time.\n",
      "Warning: Exception caused LightGBM_BAG_L1 to fail during hyperparameter tuning... Skipping this model.\n",
      "Traceback (most recent call last):\n",
      "  File \"/home/witvoetk/anaconda3/envs/tf/lib/python3.10/site-packages/autogluon/core/trainer/abstract_trainer.py\", line 1761, in _train_single_full\n",
      "    hpo_models, hpo_results = model.hyperparameter_tune(\n",
      "  File \"/home/witvoetk/anaconda3/envs/tf/lib/python3.10/site-packages/autogluon/core/models/abstract/abstract_model.py\", line 1250, in hyperparameter_tune\n",
      "    hpo_executor.initialize(hyperparameter_tune_kwargs, default_num_trials=default_num_trials, time_limit=time_limit)\n",
      "  File \"/home/witvoetk/anaconda3/envs/tf/lib/python3.10/site-packages/autogluon/core/hpo/executors.py\", line 455, in initialize\n",
      "    hyperparameter_tune_kwargs = scheduler_factory(hyperparameter_tune_kwargs, num_trials=num_trials, nthreads_per_trial='auto', ngpus_per_trial='auto')\n",
      "  File \"/home/witvoetk/anaconda3/envs/tf/lib/python3.10/site-packages/autogluon/core/scheduler/scheduler_factory.py\", line 76, in scheduler_factory\n",
      "    raise ValueError(f\"Required key 'scheduler' is not present in hyperparameter_tune_kwargs: {hyperparameter_tune_kwargs}\")\n",
      "ValueError: Required key 'scheduler' is not present in hyperparameter_tune_kwargs: {'searcher': 'bayes'}\n",
      "Required key 'scheduler' is not present in hyperparameter_tune_kwargs: {'searcher': 'bayes'}\n",
      "Hyperparameter tuning model: RandomForestMSE_BAG_L1 ... Tuning model for up to 3.24s of the 59.46s of remaining time.\n",
      "Warning: Exception caused RandomForestMSE_BAG_L1 to fail during hyperparameter tuning... Skipping this model.\n",
      "Traceback (most recent call last):\n",
      "  File \"/home/witvoetk/anaconda3/envs/tf/lib/python3.10/site-packages/autogluon/core/trainer/abstract_trainer.py\", line 1761, in _train_single_full\n",
      "    hpo_models, hpo_results = model.hyperparameter_tune(\n",
      "  File \"/home/witvoetk/anaconda3/envs/tf/lib/python3.10/site-packages/autogluon/core/models/abstract/abstract_model.py\", line 1250, in hyperparameter_tune\n",
      "    hpo_executor.initialize(hyperparameter_tune_kwargs, default_num_trials=default_num_trials, time_limit=time_limit)\n",
      "  File \"/home/witvoetk/anaconda3/envs/tf/lib/python3.10/site-packages/autogluon/core/hpo/executors.py\", line 455, in initialize\n",
      "    hyperparameter_tune_kwargs = scheduler_factory(hyperparameter_tune_kwargs, num_trials=num_trials, nthreads_per_trial='auto', ngpus_per_trial='auto')\n",
      "  File \"/home/witvoetk/anaconda3/envs/tf/lib/python3.10/site-packages/autogluon/core/scheduler/scheduler_factory.py\", line 76, in scheduler_factory\n",
      "    raise ValueError(f\"Required key 'scheduler' is not present in hyperparameter_tune_kwargs: {hyperparameter_tune_kwargs}\")\n",
      "ValueError: Required key 'scheduler' is not present in hyperparameter_tune_kwargs: {'searcher': 'bayes'}\n",
      "Required key 'scheduler' is not present in hyperparameter_tune_kwargs: {'searcher': 'bayes'}\n",
      "Hyperparameter tuning model: CatBoost_BAG_L1 ... Tuning model for up to 3.24s of the 59.46s of remaining time.\n",
      "Warning: Exception caused CatBoost_BAG_L1 to fail during hyperparameter tuning... Skipping this model.\n",
      "Traceback (most recent call last):\n",
      "  File \"/home/witvoetk/anaconda3/envs/tf/lib/python3.10/site-packages/autogluon/core/trainer/abstract_trainer.py\", line 1761, in _train_single_full\n",
      "    hpo_models, hpo_results = model.hyperparameter_tune(\n",
      "  File \"/home/witvoetk/anaconda3/envs/tf/lib/python3.10/site-packages/autogluon/core/models/abstract/abstract_model.py\", line 1250, in hyperparameter_tune\n",
      "    hpo_executor.initialize(hyperparameter_tune_kwargs, default_num_trials=default_num_trials, time_limit=time_limit)\n",
      "  File \"/home/witvoetk/anaconda3/envs/tf/lib/python3.10/site-packages/autogluon/core/hpo/executors.py\", line 455, in initialize\n",
      "    hyperparameter_tune_kwargs = scheduler_factory(hyperparameter_tune_kwargs, num_trials=num_trials, nthreads_per_trial='auto', ngpus_per_trial='auto')\n",
      "  File \"/home/witvoetk/anaconda3/envs/tf/lib/python3.10/site-packages/autogluon/core/scheduler/scheduler_factory.py\", line 76, in scheduler_factory\n",
      "    raise ValueError(f\"Required key 'scheduler' is not present in hyperparameter_tune_kwargs: {hyperparameter_tune_kwargs}\")\n",
      "ValueError: Required key 'scheduler' is not present in hyperparameter_tune_kwargs: {'searcher': 'bayes'}\n",
      "Required key 'scheduler' is not present in hyperparameter_tune_kwargs: {'searcher': 'bayes'}\n",
      "Hyperparameter tuning model: ExtraTreesMSE_BAG_L1 ... Tuning model for up to 3.24s of the 59.45s of remaining time.\n",
      "Warning: Exception caused ExtraTreesMSE_BAG_L1 to fail during hyperparameter tuning... Skipping this model.\n",
      "Traceback (most recent call last):\n",
      "  File \"/home/witvoetk/anaconda3/envs/tf/lib/python3.10/site-packages/autogluon/core/trainer/abstract_trainer.py\", line 1761, in _train_single_full\n",
      "    hpo_models, hpo_results = model.hyperparameter_tune(\n",
      "  File \"/home/witvoetk/anaconda3/envs/tf/lib/python3.10/site-packages/autogluon/core/models/abstract/abstract_model.py\", line 1250, in hyperparameter_tune\n",
      "    hpo_executor.initialize(hyperparameter_tune_kwargs, default_num_trials=default_num_trials, time_limit=time_limit)\n",
      "  File \"/home/witvoetk/anaconda3/envs/tf/lib/python3.10/site-packages/autogluon/core/hpo/executors.py\", line 455, in initialize\n",
      "    hyperparameter_tune_kwargs = scheduler_factory(hyperparameter_tune_kwargs, num_trials=num_trials, nthreads_per_trial='auto', ngpus_per_trial='auto')\n",
      "  File \"/home/witvoetk/anaconda3/envs/tf/lib/python3.10/site-packages/autogluon/core/scheduler/scheduler_factory.py\", line 76, in scheduler_factory\n",
      "    raise ValueError(f\"Required key 'scheduler' is not present in hyperparameter_tune_kwargs: {hyperparameter_tune_kwargs}\")\n",
      "ValueError: Required key 'scheduler' is not present in hyperparameter_tune_kwargs: {'searcher': 'bayes'}\n",
      "Required key 'scheduler' is not present in hyperparameter_tune_kwargs: {'searcher': 'bayes'}\n",
      "Hyperparameter tuning model: NeuralNetFastAI_BAG_L1 ... Tuning model for up to 3.24s of the 59.45s of remaining time.\n",
      "Warning: Exception caused NeuralNetFastAI_BAG_L1 to fail during hyperparameter tuning... Skipping this model.\n",
      "Traceback (most recent call last):\n",
      "  File \"/home/witvoetk/anaconda3/envs/tf/lib/python3.10/site-packages/autogluon/core/trainer/abstract_trainer.py\", line 1761, in _train_single_full\n",
      "    hpo_models, hpo_results = model.hyperparameter_tune(\n",
      "  File \"/home/witvoetk/anaconda3/envs/tf/lib/python3.10/site-packages/autogluon/core/models/abstract/abstract_model.py\", line 1250, in hyperparameter_tune\n",
      "    hpo_executor.initialize(hyperparameter_tune_kwargs, default_num_trials=default_num_trials, time_limit=time_limit)\n",
      "  File \"/home/witvoetk/anaconda3/envs/tf/lib/python3.10/site-packages/autogluon/core/hpo/executors.py\", line 307, in initialize\n",
      "    hyperparameter_tune_kwargs['scheduler'],\n",
      "KeyError: 'scheduler'\n",
      "'scheduler'\n",
      "Hyperparameter tuning model: XGBoost_BAG_L1 ... Tuning model for up to 3.24s of the 59.45s of remaining time.\n",
      "Warning: Exception caused XGBoost_BAG_L1 to fail during hyperparameter tuning... Skipping this model.\n",
      "Traceback (most recent call last):\n",
      "  File \"/home/witvoetk/anaconda3/envs/tf/lib/python3.10/site-packages/autogluon/core/trainer/abstract_trainer.py\", line 1761, in _train_single_full\n",
      "    hpo_models, hpo_results = model.hyperparameter_tune(\n",
      "  File \"/home/witvoetk/anaconda3/envs/tf/lib/python3.10/site-packages/autogluon/core/models/abstract/abstract_model.py\", line 1250, in hyperparameter_tune\n",
      "    hpo_executor.initialize(hyperparameter_tune_kwargs, default_num_trials=default_num_trials, time_limit=time_limit)\n",
      "  File \"/home/witvoetk/anaconda3/envs/tf/lib/python3.10/site-packages/autogluon/core/hpo/executors.py\", line 455, in initialize\n",
      "    hyperparameter_tune_kwargs = scheduler_factory(hyperparameter_tune_kwargs, num_trials=num_trials, nthreads_per_trial='auto', ngpus_per_trial='auto')\n",
      "  File \"/home/witvoetk/anaconda3/envs/tf/lib/python3.10/site-packages/autogluon/core/scheduler/scheduler_factory.py\", line 76, in scheduler_factory\n",
      "    raise ValueError(f\"Required key 'scheduler' is not present in hyperparameter_tune_kwargs: {hyperparameter_tune_kwargs}\")\n",
      "ValueError: Required key 'scheduler' is not present in hyperparameter_tune_kwargs: {'searcher': 'bayes'}\n",
      "Required key 'scheduler' is not present in hyperparameter_tune_kwargs: {'searcher': 'bayes'}\n",
      "Hyperparameter tuning model: NeuralNetTorch_BAG_L1 ... Tuning model for up to 3.24s of the 59.44s of remaining time.\n",
      "Warning: Exception caused NeuralNetTorch_BAG_L1 to fail during hyperparameter tuning... Skipping this model.\n",
      "Traceback (most recent call last):\n",
      "  File \"/home/witvoetk/anaconda3/envs/tf/lib/python3.10/site-packages/autogluon/core/trainer/abstract_trainer.py\", line 1761, in _train_single_full\n",
      "    hpo_models, hpo_results = model.hyperparameter_tune(\n",
      "  File \"/home/witvoetk/anaconda3/envs/tf/lib/python3.10/site-packages/autogluon/core/models/abstract/abstract_model.py\", line 1250, in hyperparameter_tune\n",
      "    hpo_executor.initialize(hyperparameter_tune_kwargs, default_num_trials=default_num_trials, time_limit=time_limit)\n",
      "  File \"/home/witvoetk/anaconda3/envs/tf/lib/python3.10/site-packages/autogluon/core/hpo/executors.py\", line 307, in initialize\n",
      "    hyperparameter_tune_kwargs['scheduler'],\n",
      "KeyError: 'scheduler'\n",
      "'scheduler'\n",
      "Fitting model: LightGBMLarge_BAG_L1 ... Training model for up to 3.24s of the 59.44s of remaining time.\n",
      "\tFitting 8 child models (S1F1 - S1F8) | Fitting with ParallelLocalFoldFittingStrategy\n",
      "\t-5.6115\t = Validation score   (-root_mean_squared_error)\n",
      "\t4.97s\t = Training   runtime\n",
      "\t1.07s\t = Validation runtime\n",
      "Repeating k-fold bagging: 2/20\n",
      "Fitting model: LightGBMLarge_BAG_L1 ... Training model for up to 22.97s of the 42.81s of remaining time.\n",
      "\tFitting 8 child models (S2F1 - S2F8) | Fitting with ParallelLocalFoldFittingStrategy\n",
      "\t-3.2348\t = Validation score   (-root_mean_squared_error)\n",
      "\t30.36s\t = Training   runtime\n",
      "\t20.04s\t = Validation runtime\n",
      "Completed 2/20 k-fold bagging repeats ...\n",
      "Fitting model: WeightedEnsemble_L2 ... Training model for up to 59.48s of the 3.23s of remaining time.\n",
      "\t-3.2348\t = Validation score   (-root_mean_squared_error)\n",
      "\t0.01s\t = Training   runtime\n",
      "\t0.01s\t = Validation runtime\n",
      "Fitting 9 L2 models ...\n",
      "Completed 1/20 k-fold bagging repeats ...\n",
      "No base models to train on, skipping auxiliary stack level 3...\n",
      "AutoGluon training complete, total runtime = 66.23s ... Best model: \"WeightedEnsemble_L2\"\n",
      "TabularPredictor saved. To load, use: predictor = TabularPredictor.load(\"AutogluonModels/ag-20230402_004030/\")\n"
     ]
    }
   ],
   "source": [
    "#predictor = TabularPredictor(label=label,eval_metric='root_mean_squared_error').fit(train_data, presets='best_quality',time_limit = 30)\n",
    "\n",
    "\n",
    "import autogluon.core as ag\n",
    "\n",
    "nn_options = {  # specifies non-default hyperparameter values for neural network models\n",
    "    'num_epochs': 1000,  # number of training epochs (controls training time of NN models)\n",
    "    #'learning_rate': ag.space.Real(1e-4, 1e-2, default=5e-4, log=True),  # learning rate used in training (real-valued hyperparameter searched on log-scale)\n",
    "    #'activation': ag.space.Categorical('relu', 'softrelu', 'tanh'),  # activation function used in NN (categorical hyperparameter, default = first entry)\n",
    "    #'dropout_prob': ag.space.Real(0.0, 0.5, default=0.1),  # dropout probability (real-valued hyperparameter)\n",
    "}\n",
    "\n",
    "gbm_options = {  # specifies non-default hyperparameter values for lightGBM gradient boosted trees\n",
    "    'num_boost_round': 100,  # number of boosting rounds (controls training time of GBM models)\n",
    "    #'num_leaves': ag.space.Int(lower=26, upper=66, default=36),  # number of leaves in trees (integer hyperparameter)\n",
    "}\n",
    "\n",
    "hyperparameters = {  # hyperparameters of each model type\n",
    "                   'GBM': gbm_options,\n",
    "                   'NN_TORCH': nn_options,  # NOTE: comment this line out if you get errors on Mac OSX\n",
    "                  }  # When these keys are missing from hyperparameters dict, no models of that type are trained\n",
    "\n",
    "time_limit = 60  # train various models for ~10 min\n",
    "num_trials = 50  # try at most 5 different hyperparameter configurations for each type of model\n",
    "search_strategy = 'auto'  # to tune hyperparameters using random search routine with a local scheduler\n",
    "\n",
    "hyperparameter_tune_kwargs = {  # HPO is not performed unless hyperparameter_tune_kwargs is specified\n",
    "    #'num_trials': num_trials,\n",
    "    #'scheduler' : 'local',\n",
    "    'searcher': \"bayes\",\n",
    "}\n",
    "\n",
    "\n",
    "\n",
    "predictor = TabularPredictor(label=label).fit(\n",
    "    train_data, \n",
    "    #time_limit=time_limit, \n",
    "    presets='best_quality',\n",
    "    #hyperparameters=hyperparameters, \n",
    "    #refit_full=True,set_best_to_refit_full=True,\n",
    "    auto_stack=True,\n",
    "    #save_space=True,\n",
    "    #hyperparameter_tune_kwargs=hyperparameter_tune_kwargs,\n",
    "    #hyperparameters='very_light',\n",
    "    ag_args_fit={'num_gpus': 1}\n",
    ")\n",
    "\n"
   ]
  },
  {
   "cell_type": "code",
   "execution_count": 71,
   "metadata": {},
   "outputs": [
    {
     "name": "stderr",
     "output_type": "stream",
     "text": [
      "Loaded data from: Data/phil_socdata_test.csv | Columns = 4 / 4 | Rows = 18307 -> 18307\n"
     ]
    },
    {
     "data": {
      "text/plain": [
       "0    95.287987\n",
       "1    95.287987\n",
       "2    95.287987\n",
       "3    95.287987\n",
       "4    95.287987\n",
       "Name: SOC, dtype: float32"
      ]
     },
     "execution_count": 71,
     "metadata": {},
     "output_type": "execute_result"
    }
   ],
   "source": [
    "# import test data from Data/phil_socdata_test.csv, normalize (between 0 and 1) and standardize\n",
    "test_data = TabularDataset(f'Data/phil_socdata_test.csv')\n",
    "#test_data = test_data.apply(lambda x: (x - np.min(x)) / (np.max(x) - np.min(x))) #normalize\n",
    "#test_data = test_data.apply(lambda x: (x - np.mean(x)) / np.std(x)) #standardize\n",
    "\n",
    "y_pred = predictor.predict(test_data.drop(columns=[label]))\n",
    "y_pred.head()"
   ]
  },
  {
   "cell_type": "code",
   "execution_count": 72,
   "metadata": {},
   "outputs": [
    {
     "name": "stderr",
     "output_type": "stream",
     "text": [
      "/home/witvoetk/anaconda3/envs/tf/lib/python3.10/site-packages/autogluon/tabular/predictor/predictor.py:1420: FutureWarning: Calling `predictor.predict_proba` when problem_type=regression will raise an AssertionError starting in AutoGluon v0.8. Please call `predictor.predict` instead.\n",
      "  warnings.warn(\n"
     ]
    },
    {
     "data": {
      "text/plain": [
       "{'root_mean_squared_error': -3.7095613334033684,\n",
       " 'mean_squared_error': -13.760845286281375,\n",
       " 'mean_absolute_error': -3.0074101844579157,\n",
       " 'r2': 0.9787186361433052,\n",
       " 'pearsonr': 0.9928085322772369,\n",
       " 'median_absolute_error': -2.74522400298828}"
      ]
     },
     "execution_count": 72,
     "metadata": {},
     "output_type": "execute_result"
    }
   ],
   "source": [
    "predictor.evaluate(test_data, silent=True)"
   ]
  },
  {
   "cell_type": "code",
   "execution_count": 73,
   "metadata": {},
   "outputs": [
    {
     "data": {
      "text/html": [
       "<div>\n",
       "<style scoped>\n",
       "    .dataframe tbody tr th:only-of-type {\n",
       "        vertical-align: middle;\n",
       "    }\n",
       "\n",
       "    .dataframe tbody tr th {\n",
       "        vertical-align: top;\n",
       "    }\n",
       "\n",
       "    .dataframe thead th {\n",
       "        text-align: right;\n",
       "    }\n",
       "</style>\n",
       "<table border=\"1\" class=\"dataframe\">\n",
       "  <thead>\n",
       "    <tr style=\"text-align: right;\">\n",
       "      <th></th>\n",
       "      <th>model</th>\n",
       "      <th>score_test</th>\n",
       "      <th>score_val</th>\n",
       "      <th>pred_time_test</th>\n",
       "      <th>pred_time_val</th>\n",
       "      <th>fit_time</th>\n",
       "      <th>pred_time_test_marginal</th>\n",
       "      <th>pred_time_val_marginal</th>\n",
       "      <th>fit_time_marginal</th>\n",
       "      <th>stack_level</th>\n",
       "      <th>can_infer</th>\n",
       "      <th>fit_order</th>\n",
       "    </tr>\n",
       "  </thead>\n",
       "  <tbody>\n",
       "    <tr>\n",
       "      <th>0</th>\n",
       "      <td>LightGBMLarge_BAG_L1</td>\n",
       "      <td>-3.709561</td>\n",
       "      <td>-3.234755</td>\n",
       "      <td>0.528319</td>\n",
       "      <td>20.041728</td>\n",
       "      <td>30.359292</td>\n",
       "      <td>0.528319</td>\n",
       "      <td>20.041728</td>\n",
       "      <td>30.359292</td>\n",
       "      <td>1</td>\n",
       "      <td>True</td>\n",
       "      <td>1</td>\n",
       "    </tr>\n",
       "    <tr>\n",
       "      <th>1</th>\n",
       "      <td>WeightedEnsemble_L2</td>\n",
       "      <td>-3.709561</td>\n",
       "      <td>-3.234755</td>\n",
       "      <td>0.530197</td>\n",
       "      <td>20.047119</td>\n",
       "      <td>30.368017</td>\n",
       "      <td>0.001878</td>\n",
       "      <td>0.005391</td>\n",
       "      <td>0.008726</td>\n",
       "      <td>2</td>\n",
       "      <td>True</td>\n",
       "      <td>2</td>\n",
       "    </tr>\n",
       "  </tbody>\n",
       "</table>\n",
       "</div>"
      ],
      "text/plain": [
       "                  model  score_test  score_val  pred_time_test  pred_time_val  \\\n",
       "0  LightGBMLarge_BAG_L1   -3.709561  -3.234755        0.528319      20.041728   \n",
       "1   WeightedEnsemble_L2   -3.709561  -3.234755        0.530197      20.047119   \n",
       "\n",
       "    fit_time  pred_time_test_marginal  pred_time_val_marginal  \\\n",
       "0  30.359292                 0.528319               20.041728   \n",
       "1  30.368017                 0.001878                0.005391   \n",
       "\n",
       "   fit_time_marginal  stack_level  can_infer  fit_order  \n",
       "0          30.359292            1       True          1  \n",
       "1           0.008726            2       True          2  "
      ]
     },
     "execution_count": 73,
     "metadata": {},
     "output_type": "execute_result"
    }
   ],
   "source": [
    "predictor.leaderboard(test_data, silent=True)"
   ]
  },
  {
   "cell_type": "code",
   "execution_count": 74,
   "metadata": {},
   "outputs": [
    {
     "data": {
      "image/png": "[encoded data removed]",
      "text/plain": [
       "<Figure size 640x480 with 1 Axes>"
      ]
     },
     "metadata": {},
     "output_type": "display_data"
    }
   ],
   "source": [
    "#plots the predicted vs actual values of the top performing model using matplotlib\n",
    "import matplotlib.pyplot as plt\n",
    "plt.plot(y_pred, label=\"Predictions\")\n",
    "plt.plot(test_data[label], label=\"True Values\")\n",
    "plt.legend()\n",
    "plt.show()"
   ]
  },
  {
   "cell_type": "code",
   "execution_count": 75,
   "metadata": {},
   "outputs": [
    {
     "data": {
      "image/png": "[encoded data removed]",
      "text/plain": [
       "<Figure size 640x480 with 1 Axes>"
      ]
     },
     "metadata": {},
     "output_type": "display_data"
    }
   ],
   "source": [
    "#smooths the predicted values using a moving average of 100 values and plots them against the actual values\n",
    "y_pred_smooth = y_pred.rolling(600).mean()\n",
    "plt.plot(y_pred_smooth, label=\"Predictions\")\n",
    "plt.plot(test_data[label], label=\"True Values\")\n",
    "plt.legend()\n",
    "plt.show()"
   ]
  },
  {
   "cell_type": "code",
   "execution_count": 76,
   "metadata": {},
   "outputs": [
    {
     "name": "stdout",
     "output_type": "stream",
     "text": [
      "test data rmse 3.7095613334033684\n"
     ]
    }
   ],
   "source": [
    "mse_test = np.mean(((y_pred - test_data[label])**2))\n",
    "rmse_test = math.sqrt(mse_test)\n",
    "print(\"test data rmse\", rmse_test)"
   ]
  },
  {
   "cell_type": "code",
   "execution_count": 77,
   "metadata": {},
   "outputs": [
    {
     "name": "stdout",
     "output_type": "stream",
     "text": [
      "test data rmse 3.4204423061511466\n"
     ]
    }
   ],
   "source": [
    "#rmse test of smoothed data\n",
    "mse_test = np.mean(((y_pred_smooth - test_data[label])**2))\n",
    "rmse_test = math.sqrt(mse_test)\n",
    "print(\"test data rmse\", rmse_test)"
   ]
  },
  {
   "cell_type": "code",
   "execution_count": 78,
   "metadata": {},
   "outputs": [
    {
     "name": "stderr",
     "output_type": "stream",
     "text": [
      "Computing feature importance via permutation shuffling for 3 features using 5000 rows with 5 shuffle sets...\n",
      "\t6.49s\t= Expected runtime (1.3s per shuffle set)\n",
      "\t3.72s\t= Actual runtime (Completed 5 of 5 shuffle sets)\n"
     ]
    },
    {
     "data": {
      "text/html": [
       "<div>\n",
       "<style scoped>\n",
       "    .dataframe tbody tr th:only-of-type {\n",
       "        vertical-align: middle;\n",
       "    }\n",
       "\n",
       "    .dataframe tbody tr th {\n",
       "        vertical-align: top;\n",
       "    }\n",
       "\n",
       "    .dataframe thead th {\n",
       "        text-align: right;\n",
       "    }\n",
       "</style>\n",
       "<table border=\"1\" class=\"dataframe\">\n",
       "  <thead>\n",
       "    <tr style=\"text-align: right;\">\n",
       "      <th></th>\n",
       "      <th>importance</th>\n",
       "      <th>stddev</th>\n",
       "      <th>p_value</th>\n",
       "      <th>n</th>\n",
       "      <th>p99_high</th>\n",
       "      <th>p99_low</th>\n",
       "    </tr>\n",
       "  </thead>\n",
       "  <tbody>\n",
       "    <tr>\n",
       "      <th>V</th>\n",
       "      <td>31.755675</td>\n",
       "      <td>0.233812</td>\n",
       "      <td>3.526373e-10</td>\n",
       "      <td>5</td>\n",
       "      <td>32.237096</td>\n",
       "      <td>31.274254</td>\n",
       "    </tr>\n",
       "    <tr>\n",
       "      <th>I</th>\n",
       "      <td>4.729630</td>\n",
       "      <td>0.146385</td>\n",
       "      <td>1.099767e-07</td>\n",
       "      <td>5</td>\n",
       "      <td>5.031038</td>\n",
       "      <td>4.428222</td>\n",
       "    </tr>\n",
       "    <tr>\n",
       "      <th>T</th>\n",
       "      <td>0.682845</td>\n",
       "      <td>0.021464</td>\n",
       "      <td>1.169869e-07</td>\n",
       "      <td>5</td>\n",
       "      <td>0.727039</td>\n",
       "      <td>0.638651</td>\n",
       "    </tr>\n",
       "  </tbody>\n",
       "</table>\n",
       "</div>"
      ],
      "text/plain": [
       "   importance    stddev       p_value  n   p99_high    p99_low\n",
       "V   31.755675  0.233812  3.526373e-10  5  32.237096  31.274254\n",
       "I    4.729630  0.146385  1.099767e-07  5   5.031038   4.428222\n",
       "T    0.682845  0.021464  1.169869e-07  5   0.727039   0.638651"
      ]
     },
     "execution_count": 78,
     "metadata": {},
     "output_type": "execute_result"
    }
   ],
   "source": [
    "predictor.feature_importance(test_data)"
   ]
  },
  {
   "cell_type": "code",
   "execution_count": 79,
   "metadata": {},
   "outputs": [
    {
     "name": "stdout",
     "output_type": "stream",
     "text": [
      "accuracy 0.017315780848855628\n",
      "accuracy_smooth 0.03408532255421424\n"
     ]
    }
   ],
   "source": [
    "#calculates the accuracy in percent of the smoothed predictions and normal predictions\n",
    "accuracy = 0\n",
    "accuracy_smooth = 0\n",
    "for i in range(len(y_pred)):\n",
    "    if abs(y_pred[i] - test_data[label][i]) < 0.1:\n",
    "        accuracy += 1\n",
    "    if abs(y_pred_smooth[i] - test_data[label][i]) < 0.1:\n",
    "        accuracy_smooth += 1\n",
    "\n",
    "print(\"accuracy\", accuracy/len(y_pred)) #accuracy of normal predictions in percent\n",
    "print(\"accuracy_smooth\", accuracy_smooth/len(y_pred_smooth))"
   ]
  }
 ],
 "metadata": {
  "kernelspec": {
   "display_name": "venv",
   "language": "python",
   "name": "python3"
  },
  "language_info": {
   "codemirror_mode": {
    "name": "ipython",
    "version": 3
   },
   "file_extension": ".py",
   "mimetype": "text/x-python",
   "name": "python",
   "nbconvert_exporter": "python",
   "pygments_lexer": "ipython3",
   "version": "3.10.8"
  },
  "orig_nbformat": 4
 },
 "nbformat": 4,
 "nbformat_minor": 2
}
