{
 "cells": [
  {
   "cell_type": "code",
   "execution_count": 45,
   "metadata": {},
   "outputs": [],
   "source": [
    "from autogluon.tabular import TabularDataset, TabularPredictor\n",
    "from ray import tune\n",
    "import numpy as np\n",
    "import math"
   ]
  },
  {
   "cell_type": "code",
   "execution_count": 73,
   "metadata": {},
   "outputs": [
    {
     "name": "stderr",
     "output_type": "stream",
     "text": [
      "Loaded data from: Data/phil_socdata_train.csv | Columns = 7 / 7 | Rows = 615989 -> 615989\n"
     ]
    },
    {
     "data": {
      "text/html": [
       "<div>\n",
       "<style scoped>\n",
       "    .dataframe tbody tr th:only-of-type {\n",
       "        vertical-align: middle;\n",
       "    }\n",
       "\n",
       "    .dataframe tbody tr th {\n",
       "        vertical-align: top;\n",
       "    }\n",
       "\n",
       "    .dataframe thead th {\n",
       "        text-align: right;\n",
       "    }\n",
       "</style>\n",
       "<table border=\"1\" class=\"dataframe\">\n",
       "  <thead>\n",
       "    <tr style=\"text-align: right;\">\n",
       "      <th></th>\n",
       "      <th>Timestep</th>\n",
       "      <th>SOC</th>\n",
       "      <th>V</th>\n",
       "      <th>I</th>\n",
       "      <th>V_avg</th>\n",
       "      <th>I_avg</th>\n",
       "    </tr>\n",
       "  </thead>\n",
       "  <tbody>\n",
       "    <tr>\n",
       "      <th>0</th>\n",
       "      <td>0</td>\n",
       "      <td>100.000031</td>\n",
       "      <td>400.125</td>\n",
       "      <td>-1.50</td>\n",
       "      <td>400.125</td>\n",
       "      <td>-1.50</td>\n",
       "    </tr>\n",
       "    <tr>\n",
       "      <th>1</th>\n",
       "      <td>1</td>\n",
       "      <td>100.000031</td>\n",
       "      <td>400.125</td>\n",
       "      <td>-1.56</td>\n",
       "      <td>400.125</td>\n",
       "      <td>-1.53</td>\n",
       "    </tr>\n",
       "    <tr>\n",
       "      <th>2</th>\n",
       "      <td>2</td>\n",
       "      <td>100.000031</td>\n",
       "      <td>400.125</td>\n",
       "      <td>-1.62</td>\n",
       "      <td>400.125</td>\n",
       "      <td>-1.56</td>\n",
       "    </tr>\n",
       "    <tr>\n",
       "      <th>3</th>\n",
       "      <td>3</td>\n",
       "      <td>100.000031</td>\n",
       "      <td>400.125</td>\n",
       "      <td>-1.68</td>\n",
       "      <td>400.125</td>\n",
       "      <td>-1.59</td>\n",
       "    </tr>\n",
       "    <tr>\n",
       "      <th>4</th>\n",
       "      <td>4</td>\n",
       "      <td>100.000031</td>\n",
       "      <td>400.125</td>\n",
       "      <td>-1.74</td>\n",
       "      <td>400.125</td>\n",
       "      <td>-1.62</td>\n",
       "    </tr>\n",
       "  </tbody>\n",
       "</table>\n",
       "</div>"
      ],
      "text/plain": [
       "   Timestep         SOC        V     I    V_avg  I_avg\n",
       "0         0  100.000031  400.125 -1.50  400.125  -1.50\n",
       "1         1  100.000031  400.125 -1.56  400.125  -1.53\n",
       "2         2  100.000031  400.125 -1.62  400.125  -1.56\n",
       "3         3  100.000031  400.125 -1.68  400.125  -1.59\n",
       "4         4  100.000031  400.125 -1.74  400.125  -1.62"
      ]
     },
     "execution_count": 73,
     "metadata": {},
     "output_type": "execute_result"
    }
   ],
   "source": [
    "#import data from Data/phil_socdata_train.csv, normalize (between 0 and 1) and standardize\n",
    "train_data = TabularDataset('Data/phil_socdata_train.csv')\n",
    "\n",
    "# drop the \"T\" column as it is not needed for training\n",
    "train_data = train_data.drop(labels=['T'],axis=1)\n",
    "train_data.head()\n"
   ]
  },
  {
   "cell_type": "code",
   "execution_count": 74,
   "metadata": {},
   "outputs": [
    {
     "data": {
      "text/plain": [
       "count    615989.000000\n",
       "mean         46.872227\n",
       "std          37.378184\n",
       "min           0.000000\n",
       "25%           0.844996\n",
       "50%          50.980408\n",
       "75%          82.352966\n",
       "max         100.000031\n",
       "Name: SOC, dtype: float64"
      ]
     },
     "execution_count": 74,
     "metadata": {},
     "output_type": "execute_result"
    }
   ],
   "source": [
    "label = 'SOC'\n",
    "train_data[label].describe()"
   ]
  },
  {
   "cell_type": "code",
   "execution_count": 97,
   "metadata": {},
   "outputs": [
    {
     "name": "stderr",
     "output_type": "stream",
     "text": [
      "No path specified. Models will be saved in: \"AutogluonModels/ag-20230405_045212/\"\n",
      "Presets specified: ['best_quality']\n",
      "Stack configuration (auto_stack=True): num_stack_levels=1, num_bag_folds=8, num_bag_sets=20\n",
      "Beginning AutoGluon training ... Time limit = 60s\n",
      "AutoGluon will save models to \"AutogluonModels/ag-20230405_045212/\"\n",
      "AutoGluon Version:  0.7.0\n",
      "Python Version:     3.10.8\n",
      "Operating System:   Linux\n",
      "Platform Machine:   x86_64\n",
      "Platform Version:   #148-Ubuntu SMP Mon Oct 17 16:02:06 UTC 2022\n",
      "Train Data Rows:    615989\n",
      "Train Data Columns: 5\n",
      "Label Column: SOC\n",
      "Preprocessing data ...\n",
      "AutoGluon infers your prediction problem is: 'regression' (because dtype of label-column == float and many unique label-values observed).\n",
      "\tLabel info (max, min, mean, stddev): (100.000030517578, 0.0, 46.87223, 37.37818)\n",
      "\tIf 'regression' is not the correct problem_type, please manually specify the problem_type parameter during predictor init (You may specify problem_type as one of: ['binary', 'multiclass', 'regression'])\n",
      "Using Feature Generators to preprocess the data ...\n",
      "Fitting AutoMLPipelineFeatureGenerator...\n",
      "\tAvailable Memory:                    512491.55 MB\n",
      "\tTrain Data (Original)  Memory Usage: 24.64 MB (0.0% of available memory)\n",
      "\tInferring data type of each feature based on column values. Set feature_metadata_in to manually specify special dtypes of the features.\n",
      "\tStage 1 Generators:\n",
      "\t\tFitting AsTypeFeatureGenerator...\n",
      "\tStage 2 Generators:\n",
      "\t\tFitting FillNaFeatureGenerator...\n",
      "\tStage 3 Generators:\n",
      "\t\tFitting IdentityFeatureGenerator...\n",
      "\tStage 4 Generators:\n",
      "\t\tFitting DropUniqueFeatureGenerator...\n",
      "\tTypes of features in original data (raw dtype, special dtypes):\n",
      "\t\t('float', []) : 4 | ['V', 'I', 'V_avg', 'I_avg']\n",
      "\t\t('int', [])   : 1 | ['Timestep']\n",
      "\tTypes of features in processed data (raw dtype, special dtypes):\n",
      "\t\t('float', []) : 4 | ['V', 'I', 'V_avg', 'I_avg']\n",
      "\t\t('int', [])   : 1 | ['Timestep']\n",
      "\t0.8s = Fit runtime\n",
      "\t5 features in original data used to generate 5 features in processed data.\n",
      "\tTrain Data (Processed) Memory Usage: 24.64 MB (0.0% of available memory)\n",
      "Data preprocessing and feature engineering runtime = 0.83s ...\n",
      "AutoGluon will gauge predictive performance using evaluation metric: 'root_mean_squared_error'\n",
      "\tThis metric's sign has been flipped to adhere to being higher_is_better. The metric score can be multiplied by -1 to get the metric value.\n",
      "\tTo change this, specify the eval_metric parameter of Predictor()\n",
      "AutoGluon will fit 2 stack levels (L1 to L2) ...\n",
      "Fitting 11 L1 models ...\n",
      "Fitting model: KNeighborsUnif_BAG_L1 ... Training model for up to 39.43s of the 59.16s of remaining time.\n",
      "\tNot enough time to generate out-of-fold predictions for model. Estimated time required was 105.77s compared to 50.27s of available time.\n",
      "\tTime limit exceeded... Skipping KNeighborsUnif_BAG_L1.\n",
      "Fitting model: KNeighborsDist_BAG_L1 ... Training model for up to 38.26s of the 57.99s of remaining time.\n",
      "\tNot enough time to generate out-of-fold predictions for model. Estimated time required was 126.99s compared to 48.39s of available time.\n",
      "\tTime limit exceeded... Skipping KNeighborsDist_BAG_L1.\n",
      "Fitting model: LightGBMXT_BAG_L1 ... Training model for up to 36.68s of the 56.41s of remaining time.\n",
      "\tFitting 8 child models (S1F1 - S1F8) | Fitting with ParallelLocalFoldFittingStrategy\n",
      "\t-1.2623\t = Validation score   (-root_mean_squared_error)\n",
      "\t30.03s\t = Training   runtime\n",
      "\t49.29s\t = Validation runtime\n",
      "Completed 1/20 k-fold bagging repeats ...\n",
      "Fitting model: WeightedEnsemble_L2 ... Training model for up to 59.17s of the 17.15s of remaining time.\n",
      "\t-1.2623\t = Validation score   (-root_mean_squared_error)\n",
      "\t0.01s\t = Training   runtime\n",
      "\t0.01s\t = Validation runtime\n",
      "Fitting 9 L2 models ...\n",
      "Fitting model: LightGBMXT_BAG_L2 ... Training model for up to 17.12s of the 17.1s of remaining time.\n",
      "\tFitting 8 child models (S1F1 - S1F8) | Fitting with ParallelLocalFoldFittingStrategy\n",
      "\t-1.2399\t = Validation score   (-root_mean_squared_error)\n",
      "\t14.06s\t = Training   runtime\n",
      "\t18.57s\t = Validation runtime\n",
      "Completed 1/20 k-fold bagging repeats ...\n",
      "Fitting model: WeightedEnsemble_L3 ... Training model for up to 59.17s of the -1.43s of remaining time.\n",
      "\t-1.2399\t = Validation score   (-root_mean_squared_error)\n",
      "\t0.01s\t = Training   runtime\n",
      "\t0.01s\t = Validation runtime\n",
      "AutoGluon training complete, total runtime = 61.49s ... Best model: \"WeightedEnsemble_L3\"\n",
      "TabularPredictor saved. To load, use: predictor = TabularPredictor.load(\"AutogluonModels/ag-20230405_045212/\")\n"
     ]
    }
   ],
   "source": [
    "minute = 60\n",
    "time_limit = minute  # train various models for ~10 minutes\n",
    "\n",
    "predictor = TabularPredictor(label=label).fit(\n",
    "    train_data, \n",
    "    time_limit=time_limit, \n",
    "    presets='best_quality'\n",
    ")\n",
    "\n"
   ]
  },
  {
   "cell_type": "code",
   "execution_count": 98,
   "metadata": {},
   "outputs": [
    {
     "name": "stderr",
     "output_type": "stream",
     "text": [
      "Loaded data from: Data/phil_socdata_test1.csv | Columns = 7 / 7 | Rows = 5617 -> 5617\n",
      "Loaded data from: Data/phil_socdata_test2.csv | Columns = 7 / 7 | Rows = 18307 -> 18307\n"
     ]
    },
    {
     "data": {
      "text/plain": [
       "0    100.166473\n",
       "1    100.024078\n",
       "2    100.024078\n",
       "3    100.024078\n",
       "4    100.024078\n",
       "Name: SOC, dtype: float32"
      ]
     },
     "execution_count": 98,
     "metadata": {},
     "output_type": "execute_result"
    }
   ],
   "source": [
    "# import test data from Data/phil_socdata_test.csv, normalize (between 0 and 1) and standardize\n",
    "test_data1 = TabularDataset(f'Data/phil_socdata_test1.csv')\n",
    "test_data2 = TabularDataset(f'Data/phil_socdata_test2.csv')\n",
    "\n",
    "y_pred1= predictor.predict(test_data1.drop(columns=[label]))\n",
    "y_pred1.head()\n",
    "\n",
    "y_pred2= predictor.predict(test_data2.drop(columns=[label]))\n",
    "y_pred2.head()"
   ]
  },
  {
   "cell_type": "code",
   "execution_count": 99,
   "metadata": {},
   "outputs": [
    {
     "name": "stderr",
     "output_type": "stream",
     "text": [
      "/home/witvoetk/anaconda3/envs/tf/lib/python3.10/site-packages/autogluon/tabular/predictor/predictor.py:1420: FutureWarning: Calling `predictor.predict_proba` when problem_type=regression will raise an AssertionError starting in AutoGluon v0.8. Please call `predictor.predict` instead.\n",
      "  warnings.warn(\n"
     ]
    },
    {
     "data": {
      "text/plain": [
       "{'root_mean_squared_error': -1.200160893595278,\n",
       " 'mean_squared_error': -1.4403861705154164,\n",
       " 'mean_absolute_error': -0.8176067478005581,\n",
       " 'r2': 0.9921222600789745,\n",
       " 'pearsonr': 0.9961195739360543,\n",
       " 'median_absolute_error': -0.5954093924999988}"
      ]
     },
     "execution_count": 99,
     "metadata": {},
     "output_type": "execute_result"
    }
   ],
   "source": [
    "predictor.evaluate(test_data1, silent=True)"
   ]
  },
  {
   "cell_type": "code",
   "execution_count": 100,
   "metadata": {},
   "outputs": [
    {
     "name": "stderr",
     "output_type": "stream",
     "text": [
      "/home/witvoetk/anaconda3/envs/tf/lib/python3.10/site-packages/autogluon/tabular/predictor/predictor.py:1420: FutureWarning: Calling `predictor.predict_proba` when problem_type=regression will raise an AssertionError starting in AutoGluon v0.8. Please call `predictor.predict` instead.\n",
      "  warnings.warn(\n"
     ]
    },
    {
     "data": {
      "text/plain": [
       "{'root_mean_squared_error': -2.8503046675975967,\n",
       " 'mean_squared_error': -8.124236698128646,\n",
       " 'mean_absolute_error': -2.238877817774125,\n",
       " 'r2': 0.9874357400556525,\n",
       " 'pearsonr': 0.9957151882594246,\n",
       " 'median_absolute_error': -1.9722595191113292}"
      ]
     },
     "execution_count": 100,
     "metadata": {},
     "output_type": "execute_result"
    }
   ],
   "source": [
    "predictor.evaluate(test_data2, silent=True)"
   ]
  },
  {
   "cell_type": "code",
   "execution_count": 101,
   "metadata": {},
   "outputs": [
    {
     "data": {
      "text/html": [
       "<div>\n",
       "<style scoped>\n",
       "    .dataframe tbody tr th:only-of-type {\n",
       "        vertical-align: middle;\n",
       "    }\n",
       "\n",
       "    .dataframe tbody tr th {\n",
       "        vertical-align: top;\n",
       "    }\n",
       "\n",
       "    .dataframe thead th {\n",
       "        text-align: right;\n",
       "    }\n",
       "</style>\n",
       "<table border=\"1\" class=\"dataframe\">\n",
       "  <thead>\n",
       "    <tr style=\"text-align: right;\">\n",
       "      <th></th>\n",
       "      <th>model</th>\n",
       "      <th>score_test</th>\n",
       "      <th>score_val</th>\n",
       "      <th>pred_time_test</th>\n",
       "      <th>pred_time_val</th>\n",
       "      <th>fit_time</th>\n",
       "      <th>pred_time_test_marginal</th>\n",
       "      <th>pred_time_val_marginal</th>\n",
       "      <th>fit_time_marginal</th>\n",
       "      <th>stack_level</th>\n",
       "      <th>can_infer</th>\n",
       "      <th>fit_order</th>\n",
       "    </tr>\n",
       "  </thead>\n",
       "  <tbody>\n",
       "    <tr>\n",
       "      <th>0</th>\n",
       "      <td>LightGBMXT_BAG_L2</td>\n",
       "      <td>-1.200161</td>\n",
       "      <td>-1.239897</td>\n",
       "      <td>1.310946</td>\n",
       "      <td>67.853015</td>\n",
       "      <td>44.094621</td>\n",
       "      <td>0.365399</td>\n",
       "      <td>18.565052</td>\n",
       "      <td>14.061228</td>\n",
       "      <td>2</td>\n",
       "      <td>True</td>\n",
       "      <td>3</td>\n",
       "    </tr>\n",
       "    <tr>\n",
       "      <th>1</th>\n",
       "      <td>WeightedEnsemble_L3</td>\n",
       "      <td>-1.200161</td>\n",
       "      <td>-1.239897</td>\n",
       "      <td>1.312340</td>\n",
       "      <td>67.859581</td>\n",
       "      <td>44.104844</td>\n",
       "      <td>0.001395</td>\n",
       "      <td>0.006567</td>\n",
       "      <td>0.010223</td>\n",
       "      <td>3</td>\n",
       "      <td>True</td>\n",
       "      <td>4</td>\n",
       "    </tr>\n",
       "    <tr>\n",
       "      <th>2</th>\n",
       "      <td>LightGBMXT_BAG_L1</td>\n",
       "      <td>-1.230244</td>\n",
       "      <td>-1.262322</td>\n",
       "      <td>0.945547</td>\n",
       "      <td>49.287963</td>\n",
       "      <td>30.033393</td>\n",
       "      <td>0.945547</td>\n",
       "      <td>49.287963</td>\n",
       "      <td>30.033393</td>\n",
       "      <td>1</td>\n",
       "      <td>True</td>\n",
       "      <td>1</td>\n",
       "    </tr>\n",
       "    <tr>\n",
       "      <th>3</th>\n",
       "      <td>WeightedEnsemble_L2</td>\n",
       "      <td>-1.230244</td>\n",
       "      <td>-1.262322</td>\n",
       "      <td>0.947206</td>\n",
       "      <td>49.293125</td>\n",
       "      <td>30.040489</td>\n",
       "      <td>0.001659</td>\n",
       "      <td>0.005162</td>\n",
       "      <td>0.007096</td>\n",
       "      <td>2</td>\n",
       "      <td>True</td>\n",
       "      <td>2</td>\n",
       "    </tr>\n",
       "  </tbody>\n",
       "</table>\n",
       "</div>"
      ],
      "text/plain": [
       "                 model  score_test  score_val  pred_time_test  pred_time_val  \\\n",
       "0    LightGBMXT_BAG_L2   -1.200161  -1.239897        1.310946      67.853015   \n",
       "1  WeightedEnsemble_L3   -1.200161  -1.239897        1.312340      67.859581   \n",
       "2    LightGBMXT_BAG_L1   -1.230244  -1.262322        0.945547      49.287963   \n",
       "3  WeightedEnsemble_L2   -1.230244  -1.262322        0.947206      49.293125   \n",
       "\n",
       "    fit_time  pred_time_test_marginal  pred_time_val_marginal  \\\n",
       "0  44.094621                 0.365399               18.565052   \n",
       "1  44.104844                 0.001395                0.006567   \n",
       "2  30.033393                 0.945547               49.287963   \n",
       "3  30.040489                 0.001659                0.005162   \n",
       "\n",
       "   fit_time_marginal  stack_level  can_infer  fit_order  \n",
       "0          14.061228            2       True          3  \n",
       "1           0.010223            3       True          4  \n",
       "2          30.033393            1       True          1  \n",
       "3           0.007096            2       True          2  "
      ]
     },
     "execution_count": 101,
     "metadata": {},
     "output_type": "execute_result"
    }
   ],
   "source": [
    "predictor.leaderboard(test_data1, silent=True)"
   ]
  },
  {
   "cell_type": "code",
   "execution_count": 102,
   "metadata": {},
   "outputs": [
    {
     "data": {
      "text/html": [
       "<div>\n",
       "<style scoped>\n",
       "    .dataframe tbody tr th:only-of-type {\n",
       "        vertical-align: middle;\n",
       "    }\n",
       "\n",
       "    .dataframe tbody tr th {\n",
       "        vertical-align: top;\n",
       "    }\n",
       "\n",
       "    .dataframe thead th {\n",
       "        text-align: right;\n",
       "    }\n",
       "</style>\n",
       "<table border=\"1\" class=\"dataframe\">\n",
       "  <thead>\n",
       "    <tr style=\"text-align: right;\">\n",
       "      <th></th>\n",
       "      <th>model</th>\n",
       "      <th>score_test</th>\n",
       "      <th>score_val</th>\n",
       "      <th>pred_time_test</th>\n",
       "      <th>pred_time_val</th>\n",
       "      <th>fit_time</th>\n",
       "      <th>pred_time_test_marginal</th>\n",
       "      <th>pred_time_val_marginal</th>\n",
       "      <th>fit_time_marginal</th>\n",
       "      <th>stack_level</th>\n",
       "      <th>can_infer</th>\n",
       "      <th>fit_order</th>\n",
       "    </tr>\n",
       "  </thead>\n",
       "  <tbody>\n",
       "    <tr>\n",
       "      <th>0</th>\n",
       "      <td>LightGBMXT_BAG_L2</td>\n",
       "      <td>-2.850305</td>\n",
       "      <td>-1.239897</td>\n",
       "      <td>2.299976</td>\n",
       "      <td>67.853015</td>\n",
       "      <td>44.094621</td>\n",
       "      <td>0.706421</td>\n",
       "      <td>18.565052</td>\n",
       "      <td>14.061228</td>\n",
       "      <td>2</td>\n",
       "      <td>True</td>\n",
       "      <td>3</td>\n",
       "    </tr>\n",
       "    <tr>\n",
       "      <th>1</th>\n",
       "      <td>WeightedEnsemble_L3</td>\n",
       "      <td>-2.850305</td>\n",
       "      <td>-1.239897</td>\n",
       "      <td>2.301996</td>\n",
       "      <td>67.859581</td>\n",
       "      <td>44.104844</td>\n",
       "      <td>0.002020</td>\n",
       "      <td>0.006567</td>\n",
       "      <td>0.010223</td>\n",
       "      <td>3</td>\n",
       "      <td>True</td>\n",
       "      <td>4</td>\n",
       "    </tr>\n",
       "    <tr>\n",
       "      <th>2</th>\n",
       "      <td>LightGBMXT_BAG_L1</td>\n",
       "      <td>-3.202380</td>\n",
       "      <td>-1.262322</td>\n",
       "      <td>1.593555</td>\n",
       "      <td>49.287963</td>\n",
       "      <td>30.033393</td>\n",
       "      <td>1.593555</td>\n",
       "      <td>49.287963</td>\n",
       "      <td>30.033393</td>\n",
       "      <td>1</td>\n",
       "      <td>True</td>\n",
       "      <td>1</td>\n",
       "    </tr>\n",
       "    <tr>\n",
       "      <th>3</th>\n",
       "      <td>WeightedEnsemble_L2</td>\n",
       "      <td>-3.202380</td>\n",
       "      <td>-1.262322</td>\n",
       "      <td>1.595240</td>\n",
       "      <td>49.293125</td>\n",
       "      <td>30.040489</td>\n",
       "      <td>0.001685</td>\n",
       "      <td>0.005162</td>\n",
       "      <td>0.007096</td>\n",
       "      <td>2</td>\n",
       "      <td>True</td>\n",
       "      <td>2</td>\n",
       "    </tr>\n",
       "  </tbody>\n",
       "</table>\n",
       "</div>"
      ],
      "text/plain": [
       "                 model  score_test  score_val  pred_time_test  pred_time_val  \\\n",
       "0    LightGBMXT_BAG_L2   -2.850305  -1.239897        2.299976      67.853015   \n",
       "1  WeightedEnsemble_L3   -2.850305  -1.239897        2.301996      67.859581   \n",
       "2    LightGBMXT_BAG_L1   -3.202380  -1.262322        1.593555      49.287963   \n",
       "3  WeightedEnsemble_L2   -3.202380  -1.262322        1.595240      49.293125   \n",
       "\n",
       "    fit_time  pred_time_test_marginal  pred_time_val_marginal  \\\n",
       "0  44.094621                 0.706421               18.565052   \n",
       "1  44.104844                 0.002020                0.006567   \n",
       "2  30.033393                 1.593555               49.287963   \n",
       "3  30.040489                 0.001685                0.005162   \n",
       "\n",
       "   fit_time_marginal  stack_level  can_infer  fit_order  \n",
       "0          14.061228            2       True          3  \n",
       "1           0.010223            3       True          4  \n",
       "2          30.033393            1       True          1  \n",
       "3           0.007096            2       True          2  "
      ]
     },
     "execution_count": 102,
     "metadata": {},
     "output_type": "execute_result"
    }
   ],
   "source": [
    "predictor.leaderboard(test_data2, silent=True)"
   ]
  },
  {
   "cell_type": "code",
   "execution_count": 103,
   "metadata": {},
   "outputs": [
    {
     "data": {
      "image/png": "[encoded data removed]",
      "text/plain": [
       "<Figure size 640x480 with 1 Axes>"
      ]
     },
     "metadata": {},
     "output_type": "display_data"
    }
   ],
   "source": [
    "#plots the predicted vs actual values of the top performing model using matplotlib\n",
    "import matplotlib.pyplot as plt\n",
    "plt.plot(y_pred1, label=\"Predictions\")\n",
    "plt.plot(test_data1[label], label=\"True Values\")\n",
    "plt.legend()\n",
    "plt.show()"
   ]
  },
  {
   "cell_type": "code",
   "execution_count": 104,
   "metadata": {},
   "outputs": [
    {
     "data": {
      "image/png": "[encoded data removed]",
      "text/plain": [
       "<Figure size 640x480 with 1 Axes>"
      ]
     },
     "metadata": {},
     "output_type": "display_data"
    }
   ],
   "source": [
    "plt.plot(y_pred2, label=\"Predictions\")\n",
    "plt.plot(test_data2[label], label=\"True Values\")\n",
    "plt.legend()\n",
    "plt.show()"
   ]
  },
  {
   "cell_type": "code",
   "execution_count": 105,
   "metadata": {},
   "outputs": [
    {
     "name": "stdout",
     "output_type": "stream",
     "text": [
      "Test data 1 RMSE 1.200160893595278\n",
      "Test data 2 RMSE 2.8503046675975967\n"
     ]
    }
   ],
   "source": [
    "mse_test = np.mean(((y_pred1 - test_data1[label])**2))\n",
    "rmse_test = math.sqrt(mse_test)\n",
    "print(\"Test data 1 RMSE\", rmse_test)\n",
    "mse_test = np.mean(((y_pred2 - test_data2[label])**2))\n",
    "rmse_test = math.sqrt(mse_test)\n",
    "print(\"Test data 2 RMSE\", rmse_test)"
   ]
  },
  {
   "cell_type": "code",
   "execution_count": 106,
   "metadata": {},
   "outputs": [
    {
     "name": "stderr",
     "output_type": "stream",
     "text": [
      "These features in provided data are not utilized by the predictor and will be ignored: ['T']\n",
      "Computing feature importance via permutation shuffling for 5 features using 5000 rows with 5 shuffle sets...\n",
      "\t32.45s\t= Expected runtime (6.49s per shuffle set)\n",
      "\t20.47s\t= Actual runtime (Completed 5 of 5 shuffle sets)\n"
     ]
    },
    {
     "data": {
      "text/html": [
       "<div>\n",
       "<style scoped>\n",
       "    .dataframe tbody tr th:only-of-type {\n",
       "        vertical-align: middle;\n",
       "    }\n",
       "\n",
       "    .dataframe tbody tr th {\n",
       "        vertical-align: top;\n",
       "    }\n",
       "\n",
       "    .dataframe thead th {\n",
       "        text-align: right;\n",
       "    }\n",
       "</style>\n",
       "<table border=\"1\" class=\"dataframe\">\n",
       "  <thead>\n",
       "    <tr style=\"text-align: right;\">\n",
       "      <th></th>\n",
       "      <th>importance</th>\n",
       "      <th>stddev</th>\n",
       "      <th>p_value</th>\n",
       "      <th>n</th>\n",
       "      <th>p99_high</th>\n",
       "      <th>p99_low</th>\n",
       "    </tr>\n",
       "  </thead>\n",
       "  <tbody>\n",
       "    <tr>\n",
       "      <th>V_avg</th>\n",
       "      <td>9.295749</td>\n",
       "      <td>0.186453</td>\n",
       "      <td>1.941289e-08</td>\n",
       "      <td>5</td>\n",
       "      <td>9.679659</td>\n",
       "      <td>8.911840</td>\n",
       "    </tr>\n",
       "    <tr>\n",
       "      <th>Timestep</th>\n",
       "      <td>6.839916</td>\n",
       "      <td>0.168528</td>\n",
       "      <td>4.418934e-08</td>\n",
       "      <td>5</td>\n",
       "      <td>7.186918</td>\n",
       "      <td>6.492914</td>\n",
       "    </tr>\n",
       "    <tr>\n",
       "      <th>V</th>\n",
       "      <td>2.544507</td>\n",
       "      <td>0.075922</td>\n",
       "      <td>9.500008e-08</td>\n",
       "      <td>5</td>\n",
       "      <td>2.700832</td>\n",
       "      <td>2.388183</td>\n",
       "    </tr>\n",
       "    <tr>\n",
       "      <th>I</th>\n",
       "      <td>0.685095</td>\n",
       "      <td>0.025504</td>\n",
       "      <td>2.300595e-07</td>\n",
       "      <td>5</td>\n",
       "      <td>0.737609</td>\n",
       "      <td>0.632581</td>\n",
       "    </tr>\n",
       "    <tr>\n",
       "      <th>I_avg</th>\n",
       "      <td>0.174707</td>\n",
       "      <td>0.018903</td>\n",
       "      <td>1.619322e-05</td>\n",
       "      <td>5</td>\n",
       "      <td>0.213629</td>\n",
       "      <td>0.135785</td>\n",
       "    </tr>\n",
       "  </tbody>\n",
       "</table>\n",
       "</div>"
      ],
      "text/plain": [
       "          importance    stddev       p_value  n  p99_high   p99_low\n",
       "V_avg       9.295749  0.186453  1.941289e-08  5  9.679659  8.911840\n",
       "Timestep    6.839916  0.168528  4.418934e-08  5  7.186918  6.492914\n",
       "V           2.544507  0.075922  9.500008e-08  5  2.700832  2.388183\n",
       "I           0.685095  0.025504  2.300595e-07  5  0.737609  0.632581\n",
       "I_avg       0.174707  0.018903  1.619322e-05  5  0.213629  0.135785"
      ]
     },
     "execution_count": 106,
     "metadata": {},
     "output_type": "execute_result"
    }
   ],
   "source": [
    "predictor.feature_importance(test_data1)"
   ]
  },
  {
   "cell_type": "code",
   "execution_count": 107,
   "metadata": {},
   "outputs": [
    {
     "name": "stderr",
     "output_type": "stream",
     "text": [
      "These features in provided data are not utilized by the predictor and will be ignored: ['T']\n",
      "Computing feature importance via permutation shuffling for 5 features using 5000 rows with 5 shuffle sets...\n",
      "\t30.78s\t= Expected runtime (6.16s per shuffle set)\n",
      "\t19.45s\t= Actual runtime (Completed 5 of 5 shuffle sets)\n"
     ]
    },
    {
     "data": {
      "text/html": [
       "<div>\n",
       "<style scoped>\n",
       "    .dataframe tbody tr th:only-of-type {\n",
       "        vertical-align: middle;\n",
       "    }\n",
       "\n",
       "    .dataframe tbody tr th {\n",
       "        vertical-align: top;\n",
       "    }\n",
       "\n",
       "    .dataframe thead th {\n",
       "        text-align: right;\n",
       "    }\n",
       "</style>\n",
       "<table border=\"1\" class=\"dataframe\">\n",
       "  <thead>\n",
       "    <tr style=\"text-align: right;\">\n",
       "      <th></th>\n",
       "      <th>importance</th>\n",
       "      <th>stddev</th>\n",
       "      <th>p_value</th>\n",
       "      <th>n</th>\n",
       "      <th>p99_high</th>\n",
       "      <th>p99_low</th>\n",
       "    </tr>\n",
       "  </thead>\n",
       "  <tbody>\n",
       "    <tr>\n",
       "      <th>V</th>\n",
       "      <td>11.964860</td>\n",
       "      <td>0.105134</td>\n",
       "      <td>7.152871e-10</td>\n",
       "      <td>5</td>\n",
       "      <td>12.181332</td>\n",
       "      <td>11.748387</td>\n",
       "    </tr>\n",
       "    <tr>\n",
       "      <th>Timestep</th>\n",
       "      <td>9.644161</td>\n",
       "      <td>0.224268</td>\n",
       "      <td>3.506561e-08</td>\n",
       "      <td>5</td>\n",
       "      <td>10.105932</td>\n",
       "      <td>9.182389</td>\n",
       "    </tr>\n",
       "    <tr>\n",
       "      <th>V_avg</th>\n",
       "      <td>9.272039</td>\n",
       "      <td>0.065492</td>\n",
       "      <td>2.986867e-10</td>\n",
       "      <td>5</td>\n",
       "      <td>9.406889</td>\n",
       "      <td>9.137190</td>\n",
       "    </tr>\n",
       "    <tr>\n",
       "      <th>I_avg</th>\n",
       "      <td>1.692217</td>\n",
       "      <td>0.034909</td>\n",
       "      <td>2.172068e-08</td>\n",
       "      <td>5</td>\n",
       "      <td>1.764096</td>\n",
       "      <td>1.620339</td>\n",
       "    </tr>\n",
       "    <tr>\n",
       "      <th>I</th>\n",
       "      <td>0.598595</td>\n",
       "      <td>0.024694</td>\n",
       "      <td>3.467629e-07</td>\n",
       "      <td>5</td>\n",
       "      <td>0.649440</td>\n",
       "      <td>0.547749</td>\n",
       "    </tr>\n",
       "  </tbody>\n",
       "</table>\n",
       "</div>"
      ],
      "text/plain": [
       "          importance    stddev       p_value  n   p99_high    p99_low\n",
       "V          11.964860  0.105134  7.152871e-10  5  12.181332  11.748387\n",
       "Timestep    9.644161  0.224268  3.506561e-08  5  10.105932   9.182389\n",
       "V_avg       9.272039  0.065492  2.986867e-10  5   9.406889   9.137190\n",
       "I_avg       1.692217  0.034909  2.172068e-08  5   1.764096   1.620339\n",
       "I           0.598595  0.024694  3.467629e-07  5   0.649440   0.547749"
      ]
     },
     "execution_count": 107,
     "metadata": {},
     "output_type": "execute_result"
    }
   ],
   "source": [
    "predictor.feature_importance(test_data2)"
   ]
  }
 ],
 "metadata": {
  "kernelspec": {
   "display_name": "venv",
   "language": "python",
   "name": "python3"
  },
  "language_info": {
   "codemirror_mode": {
    "name": "ipython",
    "version": 3
   },
   "file_extension": ".py",
   "mimetype": "text/x-python",
   "name": "python",
   "nbconvert_exporter": "python",
   "pygments_lexer": "ipython3",
   "version": "3.10.8"
  },
  "orig_nbformat": 4
 },
 "nbformat": 4,
 "nbformat_minor": 2
}
