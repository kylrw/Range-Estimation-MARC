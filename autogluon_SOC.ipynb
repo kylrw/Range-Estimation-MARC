{
 "cells": [
  {
   "cell_type": "code",
   "execution_count": 67,
   "metadata": {},
   "outputs": [],
   "source": [
    "from autogluon.tabular import TabularDataset, TabularPredictor\n",
    "from ray import tune\n",
    "import numpy as np\n",
    "import math"
   ]
  },
  {
   "cell_type": "code",
   "execution_count": 68,
   "metadata": {},
   "outputs": [
    {
     "name": "stderr",
     "output_type": "stream",
     "text": [
      "Loaded data from: Data/phil_socdata_train.csv | Columns = 7 / 7 | Rows = 421709 -> 421709\n"
     ]
    },
    {
     "data": {
      "text/html": [
       "<div>\n",
       "<style scoped>\n",
       "    .dataframe tbody tr th:only-of-type {\n",
       "        vertical-align: middle;\n",
       "    }\n",
       "\n",
       "    .dataframe tbody tr th {\n",
       "        vertical-align: top;\n",
       "    }\n",
       "\n",
       "    .dataframe thead th {\n",
       "        text-align: right;\n",
       "    }\n",
       "</style>\n",
       "<table border=\"1\" class=\"dataframe\">\n",
       "  <thead>\n",
       "    <tr style=\"text-align: right;\">\n",
       "      <th></th>\n",
       "      <th>SOC</th>\n",
       "      <th>V</th>\n",
       "      <th>I</th>\n",
       "      <th>P</th>\n",
       "      <th>V_avg</th>\n",
       "      <th>I_avg</th>\n",
       "    </tr>\n",
       "  </thead>\n",
       "  <tbody>\n",
       "    <tr>\n",
       "      <th>0</th>\n",
       "      <td>100.000031</td>\n",
       "      <td>400.125</td>\n",
       "      <td>-1.50</td>\n",
       "      <td>-600.187500</td>\n",
       "      <td>400.125</td>\n",
       "      <td>-1.50</td>\n",
       "    </tr>\n",
       "    <tr>\n",
       "      <th>1</th>\n",
       "      <td>100.000031</td>\n",
       "      <td>400.125</td>\n",
       "      <td>-1.56</td>\n",
       "      <td>-624.195042</td>\n",
       "      <td>400.125</td>\n",
       "      <td>-1.53</td>\n",
       "    </tr>\n",
       "    <tr>\n",
       "      <th>2</th>\n",
       "      <td>100.000031</td>\n",
       "      <td>400.125</td>\n",
       "      <td>-1.62</td>\n",
       "      <td>-648.202585</td>\n",
       "      <td>400.125</td>\n",
       "      <td>-1.56</td>\n",
       "    </tr>\n",
       "    <tr>\n",
       "      <th>3</th>\n",
       "      <td>100.000031</td>\n",
       "      <td>400.125</td>\n",
       "      <td>-1.68</td>\n",
       "      <td>-672.210127</td>\n",
       "      <td>400.125</td>\n",
       "      <td>-1.59</td>\n",
       "    </tr>\n",
       "    <tr>\n",
       "      <th>4</th>\n",
       "      <td>100.000031</td>\n",
       "      <td>400.125</td>\n",
       "      <td>-1.74</td>\n",
       "      <td>-696.217669</td>\n",
       "      <td>400.125</td>\n",
       "      <td>-1.62</td>\n",
       "    </tr>\n",
       "  </tbody>\n",
       "</table>\n",
       "</div>"
      ],
      "text/plain": [
       "          SOC        V     I           P    V_avg  I_avg\n",
       "0  100.000031  400.125 -1.50 -600.187500  400.125  -1.50\n",
       "1  100.000031  400.125 -1.56 -624.195042  400.125  -1.53\n",
       "2  100.000031  400.125 -1.62 -648.202585  400.125  -1.56\n",
       "3  100.000031  400.125 -1.68 -672.210127  400.125  -1.59\n",
       "4  100.000031  400.125 -1.74 -696.217669  400.125  -1.62"
      ]
     },
     "execution_count": 68,
     "metadata": {},
     "output_type": "execute_result"
    }
   ],
   "source": [
    "#import data from Data/phil_socdata_train.csv, normalize (between 0 and 1) and standardize\n",
    "train_data = TabularDataset('Data/phil_socdata_train.csv')\n",
    "\n",
    "# drop the \"T\" column as it doesnt help with the prediction\n",
    "train_data = train_data.drop(labels=['T'],axis=1)\n",
    "train_data.head()\n"
   ]
  },
  {
   "cell_type": "code",
   "execution_count": 69,
   "metadata": {},
   "outputs": [
    {
     "data": {
      "text/plain": [
       "count    421709.000000\n",
       "mean         68.186101\n",
       "std          24.503003\n",
       "min           0.000000\n",
       "25%          49.019623\n",
       "50%          73.333359\n",
       "75%          89.019638\n",
       "max         100.000031\n",
       "Name: SOC, dtype: float64"
      ]
     },
     "execution_count": 69,
     "metadata": {},
     "output_type": "execute_result"
    }
   ],
   "source": [
    "label = 'SOC'\n",
    "train_data[label].describe()"
   ]
  },
  {
   "cell_type": "code",
   "execution_count": 70,
   "metadata": {},
   "outputs": [
    {
     "name": "stderr",
     "output_type": "stream",
     "text": [
      "No path specified. Models will be saved in: \"AutogluonModels/ag-20230412_051505/\"\n",
      "Presets specified: ['best_quality']\n",
      "Stack configuration (auto_stack=True): num_stack_levels=1, num_bag_folds=8, num_bag_sets=20\n",
      "Beginning AutoGluon training ... Time limit = 60s\n",
      "AutoGluon will save models to \"AutogluonModels/ag-20230412_051505/\"\n",
      "AutoGluon Version:  0.7.0\n",
      "Python Version:     3.10.8\n",
      "Operating System:   Linux\n",
      "Platform Machine:   x86_64\n",
      "Platform Version:   #148-Ubuntu SMP Mon Oct 17 16:02:06 UTC 2022\n",
      "Train Data Rows:    421709\n",
      "Train Data Columns: 5\n",
      "Label Column: SOC\n",
      "Preprocessing data ...\n",
      "AutoGluon infers your prediction problem is: 'regression' (because dtype of label-column == float and many unique label-values observed).\n",
      "\tLabel info (max, min, mean, stddev): (100.000030517578, 0.0, 68.1861, 24.503)\n",
      "\tIf 'regression' is not the correct problem_type, please manually specify the problem_type parameter during predictor init (You may specify problem_type as one of: ['binary', 'multiclass', 'regression'])\n",
      "Using Feature Generators to preprocess the data ...\n",
      "Fitting AutoMLPipelineFeatureGenerator...\n",
      "\tAvailable Memory:                    531862.41 MB\n",
      "\tTrain Data (Original)  Memory Usage: 16.87 MB (0.0% of available memory)\n",
      "\tInferring data type of each feature based on column values. Set feature_metadata_in to manually specify special dtypes of the features.\n",
      "\tStage 1 Generators:\n",
      "\t\tFitting AsTypeFeatureGenerator...\n",
      "\tStage 2 Generators:\n",
      "\t\tFitting FillNaFeatureGenerator...\n",
      "\tStage 3 Generators:\n",
      "\t\tFitting IdentityFeatureGenerator...\n",
      "\tStage 4 Generators:\n",
      "\t\tFitting DropUniqueFeatureGenerator...\n",
      "\tTypes of features in original data (raw dtype, special dtypes):\n",
      "\t\t('float', []) : 5 | ['V', 'I', 'P', 'V_avg', 'I_avg']\n",
      "\tTypes of features in processed data (raw dtype, special dtypes):\n",
      "\t\t('float', []) : 5 | ['V', 'I', 'P', 'V_avg', 'I_avg']\n",
      "\t0.6s = Fit runtime\n",
      "\t5 features in original data used to generate 5 features in processed data.\n",
      "\tTrain Data (Processed) Memory Usage: 16.87 MB (0.0% of available memory)\n",
      "Data preprocessing and feature engineering runtime = 0.65s ...\n",
      "AutoGluon will gauge predictive performance using evaluation metric: 'root_mean_squared_error'\n",
      "\tThis metric's sign has been flipped to adhere to being higher_is_better. The metric score can be multiplied by -1 to get the metric value.\n",
      "\tTo change this, specify the eval_metric parameter of Predictor()\n",
      "AutoGluon will fit 2 stack levels (L1 to L2) ...\n",
      "Fitting 11 L1 models ...\n",
      "Fitting model: KNeighborsUnif_BAG_L1 ... Training model for up to 39.55s of the 59.34s of remaining time.\n",
      "\tNot enough time to generate out-of-fold predictions for model. Estimated time required was 93.68s compared to 50.5s of available time.\n",
      "\tTime limit exceeded... Skipping KNeighborsUnif_BAG_L1.\n",
      "Fitting model: KNeighborsDist_BAG_L1 ... Training model for up to 28.87s of the 48.66s of remaining time.\n",
      "\tNot enough time to generate out-of-fold predictions for model. Estimated time required was 92.78s compared to 36.68s of available time.\n",
      "\tTime limit exceeded... Skipping KNeighborsDist_BAG_L1.\n",
      "Fitting model: LightGBMXT_BAG_L1 ... Training model for up to 18.08s of the 37.87s of remaining time.\n",
      "\tFitting 8 child models (S1F1 - S1F8) | Fitting with ParallelLocalFoldFittingStrategy\n",
      "\t-2.0114\t = Validation score   (-root_mean_squared_error)\n",
      "\t14.96s\t = Training   runtime\n",
      "\t14.55s\t = Validation runtime\n",
      "Completed 1/20 k-fold bagging repeats ...\n",
      "Fitting model: WeightedEnsemble_L2 ... Training model for up to 59.35s of the 9.21s of remaining time.\n",
      "\t-2.0114\t = Validation score   (-root_mean_squared_error)\n",
      "\t0.02s\t = Training   runtime\n",
      "\t0.0s\t = Validation runtime\n",
      "Fitting 9 L2 models ...\n",
      "Fitting model: LightGBMXT_BAG_L2 ... Training model for up to 0.17s of the 0.16s of remaining time.\n",
      "\tFitting 8 child models (S1F1 - S1F8) | Fitting with ParallelLocalFoldFittingStrategy\n",
      "\t-23.3589\t = Validation score   (-root_mean_squared_error)\n",
      "\t0.83s\t = Training   runtime\n",
      "\t0.03s\t = Validation runtime\n",
      "Completed 1/20 k-fold bagging repeats ...\n",
      "Fitting model: WeightedEnsemble_L3 ... Training model for up to 59.35s of the -12.31s of remaining time.\n",
      "\t-23.3589\t = Validation score   (-root_mean_squared_error)\n",
      "\t0.02s\t = Training   runtime\n",
      "\t0.01s\t = Validation runtime\n",
      "AutoGluon training complete, total runtime = 81.71s ... Best model: \"WeightedEnsemble_L2\"\n",
      "TabularPredictor saved. To load, use: predictor = TabularPredictor.load(\"AutogluonModels/ag-20230412_051505/\")\n"
     ]
    }
   ],
   "source": [
    "time_limit = 60  # train various models for x minutes\n",
    "\n",
    "predictor = TabularPredictor(label=label).fit(\n",
    "    train_data, \n",
    "    time_limit=time_limit, \n",
    "    presets='best_quality'\n",
    ")\n",
    "\n"
   ]
  },
  {
   "cell_type": "code",
   "execution_count": 71,
   "metadata": {},
   "outputs": [
    {
     "name": "stderr",
     "output_type": "stream",
     "text": [
      "Loaded data from: Data/phil_socdata_test1.csv | Columns = 7 / 7 | Rows = 18307 -> 18307\n",
      "Loaded data from: Data/phil_socdata_test2.csv | Columns = 7 / 7 | Rows = 5617 -> 5617\n"
     ]
    },
    {
     "data": {
      "text/plain": [
       "0    50.852482\n",
       "1    50.354008\n",
       "2    50.354008\n",
       "3    50.825562\n",
       "4    50.825562\n",
       "Name: SOC, dtype: float32"
      ]
     },
     "execution_count": 71,
     "metadata": {},
     "output_type": "execute_result"
    }
   ],
   "source": [
    "# import test data from Data/phil_socdata_test.csv, normalize (between 0 and 1) and standardize\n",
    "test_data1 = TabularDataset(f'Data/phil_socdata_test1.csv')\n",
    "test_data2 = TabularDataset(f'Data/phil_socdata_test2.csv')\n",
    "\n",
    "y_pred1= predictor.predict(test_data1.drop(columns=[label]))\n",
    "y_pred1.head()\n",
    "\n",
    "y_pred2= predictor.predict(test_data2.drop(columns=[label]))\n",
    "y_pred2.head()"
   ]
  },
  {
   "cell_type": "code",
   "execution_count": 72,
   "metadata": {},
   "outputs": [
    {
     "name": "stderr",
     "output_type": "stream",
     "text": [
      "/home/witvoetk/anaconda3/envs/tf/lib/python3.10/site-packages/autogluon/tabular/predictor/predictor.py:1420: FutureWarning: Calling `predictor.predict_proba` when problem_type=regression will raise an AssertionError starting in AutoGluon v0.8. Please call `predictor.predict` instead.\n",
      "  warnings.warn(\n"
     ]
    },
    {
     "data": {
      "text/plain": [
       "{'root_mean_squared_error': -2.1621481337047506,\n",
       " 'mean_squared_error': -4.674884552082936,\n",
       " 'mean_absolute_error': -1.6890832279331054,\n",
       " 'r2': 0.992770217448771,\n",
       " 'pearsonr': 0.9982640204846892,\n",
       " 'median_absolute_error': -1.331333156240234}"
      ]
     },
     "execution_count": 72,
     "metadata": {},
     "output_type": "execute_result"
    }
   ],
   "source": [
    "predictor.evaluate(test_data1, silent=True)"
   ]
  },
  {
   "cell_type": "code",
   "execution_count": 73,
   "metadata": {},
   "outputs": [
    {
     "name": "stderr",
     "output_type": "stream",
     "text": [
      "/home/witvoetk/anaconda3/envs/tf/lib/python3.10/site-packages/autogluon/tabular/predictor/predictor.py:1420: FutureWarning: Calling `predictor.predict_proba` when problem_type=regression will raise an AssertionError starting in AutoGluon v0.8. Please call `predictor.predict` instead.\n",
      "  warnings.warn(\n"
     ]
    },
    {
     "data": {
      "text/plain": [
       "{'root_mean_squared_error': -1.2075354430352023,\n",
       " 'mean_squared_error': -1.4581418461862221,\n",
       " 'mean_absolute_error': -0.8715584910653124,\n",
       " 'r2': 0.9920251509856495,\n",
       " 'pearsonr': 0.9960225243028472,\n",
       " 'median_absolute_error': -0.6097984357421851}"
      ]
     },
     "execution_count": 73,
     "metadata": {},
     "output_type": "execute_result"
    }
   ],
   "source": [
    "predictor.evaluate(test_data2, silent=True)"
   ]
  },
  {
   "cell_type": "code",
   "execution_count": 74,
   "metadata": {},
   "outputs": [
    {
     "data": {
      "text/html": [
       "<div>\n",
       "<style scoped>\n",
       "    .dataframe tbody tr th:only-of-type {\n",
       "        vertical-align: middle;\n",
       "    }\n",
       "\n",
       "    .dataframe tbody tr th {\n",
       "        vertical-align: top;\n",
       "    }\n",
       "\n",
       "    .dataframe thead th {\n",
       "        text-align: right;\n",
       "    }\n",
       "</style>\n",
       "<table border=\"1\" class=\"dataframe\">\n",
       "  <thead>\n",
       "    <tr style=\"text-align: right;\">\n",
       "      <th></th>\n",
       "      <th>model</th>\n",
       "      <th>score_test</th>\n",
       "      <th>score_val</th>\n",
       "      <th>pred_time_test</th>\n",
       "      <th>pred_time_val</th>\n",
       "      <th>fit_time</th>\n",
       "      <th>pred_time_test_marginal</th>\n",
       "      <th>pred_time_val_marginal</th>\n",
       "      <th>fit_time_marginal</th>\n",
       "      <th>stack_level</th>\n",
       "      <th>can_infer</th>\n",
       "      <th>fit_order</th>\n",
       "    </tr>\n",
       "  </thead>\n",
       "  <tbody>\n",
       "    <tr>\n",
       "      <th>0</th>\n",
       "      <td>LightGBMXT_BAG_L1</td>\n",
       "      <td>-2.162148</td>\n",
       "      <td>-2.011363</td>\n",
       "      <td>0.846532</td>\n",
       "      <td>14.545468</td>\n",
       "      <td>14.960694</td>\n",
       "      <td>0.846532</td>\n",
       "      <td>14.545468</td>\n",
       "      <td>14.960694</td>\n",
       "      <td>1</td>\n",
       "      <td>True</td>\n",
       "      <td>1</td>\n",
       "    </tr>\n",
       "    <tr>\n",
       "      <th>1</th>\n",
       "      <td>WeightedEnsemble_L2</td>\n",
       "      <td>-2.162148</td>\n",
       "      <td>-2.011363</td>\n",
       "      <td>0.848635</td>\n",
       "      <td>14.549273</td>\n",
       "      <td>14.978608</td>\n",
       "      <td>0.002103</td>\n",
       "      <td>0.003806</td>\n",
       "      <td>0.017915</td>\n",
       "      <td>2</td>\n",
       "      <td>True</td>\n",
       "      <td>2</td>\n",
       "    </tr>\n",
       "    <tr>\n",
       "      <th>2</th>\n",
       "      <td>LightGBMXT_BAG_L2</td>\n",
       "      <td>-24.807850</td>\n",
       "      <td>-23.358851</td>\n",
       "      <td>0.863630</td>\n",
       "      <td>14.571899</td>\n",
       "      <td>15.791717</td>\n",
       "      <td>0.017097</td>\n",
       "      <td>0.026431</td>\n",
       "      <td>0.831023</td>\n",
       "      <td>2</td>\n",
       "      <td>True</td>\n",
       "      <td>3</td>\n",
       "    </tr>\n",
       "    <tr>\n",
       "      <th>3</th>\n",
       "      <td>WeightedEnsemble_L3</td>\n",
       "      <td>-24.807850</td>\n",
       "      <td>-23.358851</td>\n",
       "      <td>0.865225</td>\n",
       "      <td>14.577105</td>\n",
       "      <td>15.807261</td>\n",
       "      <td>0.001595</td>\n",
       "      <td>0.005207</td>\n",
       "      <td>0.015544</td>\n",
       "      <td>3</td>\n",
       "      <td>True</td>\n",
       "      <td>4</td>\n",
       "    </tr>\n",
       "  </tbody>\n",
       "</table>\n",
       "</div>"
      ],
      "text/plain": [
       "                 model  score_test  score_val  pred_time_test  pred_time_val  \\\n",
       "0    LightGBMXT_BAG_L1   -2.162148  -2.011363        0.846532      14.545468   \n",
       "1  WeightedEnsemble_L2   -2.162148  -2.011363        0.848635      14.549273   \n",
       "2    LightGBMXT_BAG_L2  -24.807850 -23.358851        0.863630      14.571899   \n",
       "3  WeightedEnsemble_L3  -24.807850 -23.358851        0.865225      14.577105   \n",
       "\n",
       "    fit_time  pred_time_test_marginal  pred_time_val_marginal  \\\n",
       "0  14.960694                 0.846532               14.545468   \n",
       "1  14.978608                 0.002103                0.003806   \n",
       "2  15.791717                 0.017097                0.026431   \n",
       "3  15.807261                 0.001595                0.005207   \n",
       "\n",
       "   fit_time_marginal  stack_level  can_infer  fit_order  \n",
       "0          14.960694            1       True          1  \n",
       "1           0.017915            2       True          2  \n",
       "2           0.831023            2       True          3  \n",
       "3           0.015544            3       True          4  "
      ]
     },
     "execution_count": 74,
     "metadata": {},
     "output_type": "execute_result"
    }
   ],
   "source": [
    "predictor.leaderboard(test_data1, silent=True)"
   ]
  },
  {
   "cell_type": "code",
   "execution_count": 75,
   "metadata": {},
   "outputs": [
    {
     "data": {
      "text/html": [
       "<div>\n",
       "<style scoped>\n",
       "    .dataframe tbody tr th:only-of-type {\n",
       "        vertical-align: middle;\n",
       "    }\n",
       "\n",
       "    .dataframe tbody tr th {\n",
       "        vertical-align: top;\n",
       "    }\n",
       "\n",
       "    .dataframe thead th {\n",
       "        text-align: right;\n",
       "    }\n",
       "</style>\n",
       "<table border=\"1\" class=\"dataframe\">\n",
       "  <thead>\n",
       "    <tr style=\"text-align: right;\">\n",
       "      <th></th>\n",
       "      <th>model</th>\n",
       "      <th>score_test</th>\n",
       "      <th>score_val</th>\n",
       "      <th>pred_time_test</th>\n",
       "      <th>pred_time_val</th>\n",
       "      <th>fit_time</th>\n",
       "      <th>pred_time_test_marginal</th>\n",
       "      <th>pred_time_val_marginal</th>\n",
       "      <th>fit_time_marginal</th>\n",
       "      <th>stack_level</th>\n",
       "      <th>can_infer</th>\n",
       "      <th>fit_order</th>\n",
       "    </tr>\n",
       "  </thead>\n",
       "  <tbody>\n",
       "    <tr>\n",
       "      <th>0</th>\n",
       "      <td>LightGBMXT_BAG_L1</td>\n",
       "      <td>-1.207535</td>\n",
       "      <td>-2.011363</td>\n",
       "      <td>0.431536</td>\n",
       "      <td>14.545468</td>\n",
       "      <td>14.960694</td>\n",
       "      <td>0.431536</td>\n",
       "      <td>14.545468</td>\n",
       "      <td>14.960694</td>\n",
       "      <td>1</td>\n",
       "      <td>True</td>\n",
       "      <td>1</td>\n",
       "    </tr>\n",
       "    <tr>\n",
       "      <th>1</th>\n",
       "      <td>WeightedEnsemble_L2</td>\n",
       "      <td>-1.207535</td>\n",
       "      <td>-2.011363</td>\n",
       "      <td>0.433230</td>\n",
       "      <td>14.549273</td>\n",
       "      <td>14.978608</td>\n",
       "      <td>0.001694</td>\n",
       "      <td>0.003806</td>\n",
       "      <td>0.017915</td>\n",
       "      <td>2</td>\n",
       "      <td>True</td>\n",
       "      <td>2</td>\n",
       "    </tr>\n",
       "    <tr>\n",
       "      <th>2</th>\n",
       "      <td>LightGBMXT_BAG_L2</td>\n",
       "      <td>-33.709929</td>\n",
       "      <td>-23.358851</td>\n",
       "      <td>0.443361</td>\n",
       "      <td>14.571899</td>\n",
       "      <td>15.791717</td>\n",
       "      <td>0.011825</td>\n",
       "      <td>0.026431</td>\n",
       "      <td>0.831023</td>\n",
       "      <td>2</td>\n",
       "      <td>True</td>\n",
       "      <td>3</td>\n",
       "    </tr>\n",
       "    <tr>\n",
       "      <th>3</th>\n",
       "      <td>WeightedEnsemble_L3</td>\n",
       "      <td>-33.709929</td>\n",
       "      <td>-23.358851</td>\n",
       "      <td>0.444883</td>\n",
       "      <td>14.577105</td>\n",
       "      <td>15.807261</td>\n",
       "      <td>0.001522</td>\n",
       "      <td>0.005207</td>\n",
       "      <td>0.015544</td>\n",
       "      <td>3</td>\n",
       "      <td>True</td>\n",
       "      <td>4</td>\n",
       "    </tr>\n",
       "  </tbody>\n",
       "</table>\n",
       "</div>"
      ],
      "text/plain": [
       "                 model  score_test  score_val  pred_time_test  pred_time_val  \\\n",
       "0    LightGBMXT_BAG_L1   -1.207535  -2.011363        0.431536      14.545468   \n",
       "1  WeightedEnsemble_L2   -1.207535  -2.011363        0.433230      14.549273   \n",
       "2    LightGBMXT_BAG_L2  -33.709929 -23.358851        0.443361      14.571899   \n",
       "3  WeightedEnsemble_L3  -33.709929 -23.358851        0.444883      14.577105   \n",
       "\n",
       "    fit_time  pred_time_test_marginal  pred_time_val_marginal  \\\n",
       "0  14.960694                 0.431536               14.545468   \n",
       "1  14.978608                 0.001694                0.003806   \n",
       "2  15.791717                 0.011825                0.026431   \n",
       "3  15.807261                 0.001522                0.005207   \n",
       "\n",
       "   fit_time_marginal  stack_level  can_infer  fit_order  \n",
       "0          14.960694            1       True          1  \n",
       "1           0.017915            2       True          2  \n",
       "2           0.831023            2       True          3  \n",
       "3           0.015544            3       True          4  "
      ]
     },
     "execution_count": 75,
     "metadata": {},
     "output_type": "execute_result"
    }
   ],
   "source": [
    "predictor.leaderboard(test_data2, silent=True)"
   ]
  },
  {
   "cell_type": "code",
   "execution_count": 76,
   "metadata": {},
   "outputs": [
    {
     "data": {
      "image/png": "[encoded data removed]",
      "text/plain": [
       "<Figure size 640x480 with 1 Axes>"
      ]
     },
     "metadata": {},
     "output_type": "display_data"
    }
   ],
   "source": [
    "#plots the predicted vs actual values of the top performing model using matplotlib\n",
    "import matplotlib.pyplot as plt\n",
    "plt.plot(y_pred1, label=\"Predictions\")\n",
    "plt.plot(test_data1[label], label=\"True Values\")\n",
    "plt.legend()\n",
    "plt.show()"
   ]
  },
  {
   "cell_type": "code",
   "execution_count": 77,
   "metadata": {},
   "outputs": [
    {
     "data": {
      "image/png": "[encoded data removed]",
      "text/plain": [
       "<Figure size 640x480 with 1 Axes>"
      ]
     },
     "metadata": {},
     "output_type": "display_data"
    }
   ],
   "source": [
    "plt.plot(y_pred2, label=\"Predictions\")\n",
    "plt.plot(test_data2[label], label=\"True Values\")\n",
    "plt.legend()\n",
    "plt.show()"
   ]
  },
  {
   "cell_type": "code",
   "execution_count": 78,
   "metadata": {},
   "outputs": [
    {
     "name": "stdout",
     "output_type": "stream",
     "text": [
      "Test data 1 RMSE 2.1621481337047506\n",
      "Test data 2 RMSE 1.2075354430352023\n"
     ]
    }
   ],
   "source": [
    "mse_test = np.mean(((y_pred1 - test_data1[label])**2))\n",
    "rmse_test = math.sqrt(mse_test)\n",
    "print(\"Test data 1 RMSE\", rmse_test)\n",
    "mse_test = np.mean(((y_pred2 - test_data2[label])**2))\n",
    "rmse_test = math.sqrt(mse_test)\n",
    "print(\"Test data 2 RMSE\", rmse_test)"
   ]
  },
  {
   "cell_type": "code",
   "execution_count": 79,
   "metadata": {},
   "outputs": [
    {
     "name": "stderr",
     "output_type": "stream",
     "text": [
      "These features in provided data are not utilized by the predictor and will be ignored: ['T']\n",
      "Computing feature importance via permutation shuffling for 5 features using 5000 rows with 5 shuffle sets...\n",
      "\t12.15s\t= Expected runtime (2.43s per shuffle set)\n",
      "\t6.54s\t= Actual runtime (Completed 5 of 5 shuffle sets)\n"
     ]
    },
    {
     "data": {
      "text/html": [
       "<div>\n",
       "<style scoped>\n",
       "    .dataframe tbody tr th:only-of-type {\n",
       "        vertical-align: middle;\n",
       "    }\n",
       "\n",
       "    .dataframe tbody tr th {\n",
       "        vertical-align: top;\n",
       "    }\n",
       "\n",
       "    .dataframe thead th {\n",
       "        text-align: right;\n",
       "    }\n",
       "</style>\n",
       "<table border=\"1\" class=\"dataframe\">\n",
       "  <thead>\n",
       "    <tr style=\"text-align: right;\">\n",
       "      <th></th>\n",
       "      <th>importance</th>\n",
       "      <th>stddev</th>\n",
       "      <th>p_value</th>\n",
       "      <th>n</th>\n",
       "      <th>p99_high</th>\n",
       "      <th>p99_low</th>\n",
       "    </tr>\n",
       "  </thead>\n",
       "  <tbody>\n",
       "    <tr>\n",
       "      <th>V_avg</th>\n",
       "      <td>22.895500</td>\n",
       "      <td>0.241814</td>\n",
       "      <td>1.492949e-09</td>\n",
       "      <td>5</td>\n",
       "      <td>23.393399</td>\n",
       "      <td>22.397601</td>\n",
       "    </tr>\n",
       "    <tr>\n",
       "      <th>V</th>\n",
       "      <td>15.469730</td>\n",
       "      <td>0.233518</td>\n",
       "      <td>6.228687e-09</td>\n",
       "      <td>5</td>\n",
       "      <td>15.950546</td>\n",
       "      <td>14.988914</td>\n",
       "    </tr>\n",
       "    <tr>\n",
       "      <th>I_avg</th>\n",
       "      <td>4.339484</td>\n",
       "      <td>0.101458</td>\n",
       "      <td>3.583089e-08</td>\n",
       "      <td>5</td>\n",
       "      <td>4.548387</td>\n",
       "      <td>4.130580</td>\n",
       "    </tr>\n",
       "    <tr>\n",
       "      <th>P</th>\n",
       "      <td>1.052621</td>\n",
       "      <td>0.017797</td>\n",
       "      <td>9.801655e-09</td>\n",
       "      <td>5</td>\n",
       "      <td>1.089265</td>\n",
       "      <td>1.015977</td>\n",
       "    </tr>\n",
       "    <tr>\n",
       "      <th>I</th>\n",
       "      <td>0.359091</td>\n",
       "      <td>0.006387</td>\n",
       "      <td>1.200162e-08</td>\n",
       "      <td>5</td>\n",
       "      <td>0.372241</td>\n",
       "      <td>0.345941</td>\n",
       "    </tr>\n",
       "  </tbody>\n",
       "</table>\n",
       "</div>"
      ],
      "text/plain": [
       "       importance    stddev       p_value  n   p99_high    p99_low\n",
       "V_avg   22.895500  0.241814  1.492949e-09  5  23.393399  22.397601\n",
       "V       15.469730  0.233518  6.228687e-09  5  15.950546  14.988914\n",
       "I_avg    4.339484  0.101458  3.583089e-08  5   4.548387   4.130580\n",
       "P        1.052621  0.017797  9.801655e-09  5   1.089265   1.015977\n",
       "I        0.359091  0.006387  1.200162e-08  5   0.372241   0.345941"
      ]
     },
     "execution_count": 79,
     "metadata": {},
     "output_type": "execute_result"
    }
   ],
   "source": [
    "predictor.feature_importance(test_data1)"
   ]
  },
  {
   "cell_type": "code",
   "execution_count": 80,
   "metadata": {},
   "outputs": [
    {
     "name": "stderr",
     "output_type": "stream",
     "text": [
      "These features in provided data are not utilized by the predictor and will be ignored: ['T']\n",
      "Computing feature importance via permutation shuffling for 5 features using 5000 rows with 5 shuffle sets...\n",
      "\t10.1s\t= Expected runtime (2.02s per shuffle set)\n",
      "\t6.3s\t= Actual runtime (Completed 5 of 5 shuffle sets)\n"
     ]
    },
    {
     "data": {
      "text/html": [
       "<div>\n",
       "<style scoped>\n",
       "    .dataframe tbody tr th:only-of-type {\n",
       "        vertical-align: middle;\n",
       "    }\n",
       "\n",
       "    .dataframe tbody tr th {\n",
       "        vertical-align: top;\n",
       "    }\n",
       "\n",
       "    .dataframe thead th {\n",
       "        text-align: right;\n",
       "    }\n",
       "</style>\n",
       "<table border=\"1\" class=\"dataframe\">\n",
       "  <thead>\n",
       "    <tr style=\"text-align: right;\">\n",
       "      <th></th>\n",
       "      <th>importance</th>\n",
       "      <th>stddev</th>\n",
       "      <th>p_value</th>\n",
       "      <th>n</th>\n",
       "      <th>p99_high</th>\n",
       "      <th>p99_low</th>\n",
       "    </tr>\n",
       "  </thead>\n",
       "  <tbody>\n",
       "    <tr>\n",
       "      <th>V_avg</th>\n",
       "      <td>13.856129</td>\n",
       "      <td>0.310555</td>\n",
       "      <td>3.026069e-08</td>\n",
       "      <td>5</td>\n",
       "      <td>14.495567</td>\n",
       "      <td>13.216691</td>\n",
       "    </tr>\n",
       "    <tr>\n",
       "      <th>V</th>\n",
       "      <td>5.321838</td>\n",
       "      <td>0.122426</td>\n",
       "      <td>3.358354e-08</td>\n",
       "      <td>5</td>\n",
       "      <td>5.573915</td>\n",
       "      <td>5.069760</td>\n",
       "    </tr>\n",
       "    <tr>\n",
       "      <th>I_avg</th>\n",
       "      <td>4.956518</td>\n",
       "      <td>0.036638</td>\n",
       "      <td>3.582548e-10</td>\n",
       "      <td>5</td>\n",
       "      <td>5.031957</td>\n",
       "      <td>4.881079</td>\n",
       "    </tr>\n",
       "    <tr>\n",
       "      <th>P</th>\n",
       "      <td>1.786866</td>\n",
       "      <td>0.017606</td>\n",
       "      <td>1.130755e-09</td>\n",
       "      <td>5</td>\n",
       "      <td>1.823116</td>\n",
       "      <td>1.750615</td>\n",
       "    </tr>\n",
       "    <tr>\n",
       "      <th>I</th>\n",
       "      <td>0.381096</td>\n",
       "      <td>0.015736</td>\n",
       "      <td>3.480251e-07</td>\n",
       "      <td>5</td>\n",
       "      <td>0.413496</td>\n",
       "      <td>0.348696</td>\n",
       "    </tr>\n",
       "  </tbody>\n",
       "</table>\n",
       "</div>"
      ],
      "text/plain": [
       "       importance    stddev       p_value  n   p99_high    p99_low\n",
       "V_avg   13.856129  0.310555  3.026069e-08  5  14.495567  13.216691\n",
       "V        5.321838  0.122426  3.358354e-08  5   5.573915   5.069760\n",
       "I_avg    4.956518  0.036638  3.582548e-10  5   5.031957   4.881079\n",
       "P        1.786866  0.017606  1.130755e-09  5   1.823116   1.750615\n",
       "I        0.381096  0.015736  3.480251e-07  5   0.413496   0.348696"
      ]
     },
     "execution_count": 80,
     "metadata": {},
     "output_type": "execute_result"
    }
   ],
   "source": [
    "predictor.feature_importance(test_data2)"
   ]
  }
 ],
 "metadata": {
  "kernelspec": {
   "display_name": "venv",
   "language": "python",
   "name": "python3"
  },
  "language_info": {
   "codemirror_mode": {
    "name": "ipython",
    "version": 3
   },
   "file_extension": ".py",
   "mimetype": "text/x-python",
   "name": "python",
   "nbconvert_exporter": "python",
   "pygments_lexer": "ipython3",
   "version": "3.10.8"
  },
  "orig_nbformat": 4
 },
 "nbformat": 4,
 "nbformat_minor": 2
}
