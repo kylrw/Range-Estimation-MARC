{
 "cells": [
  {
   "cell_type": "code",
   "execution_count": 3,
   "metadata": {},
   "outputs": [
    {
     "name": "stderr",
     "output_type": "stream",
     "text": [
      "/home/witvoetk/anaconda3/envs/tf/lib/python3.10/site-packages/tqdm/auto.py:21: TqdmWarning: IProgress not found. Please update jupyter and ipywidgets. See https://ipywidgets.readthedocs.io/en/stable/user_install.html\n",
      "  from .autonotebook import tqdm as notebook_tqdm\n"
     ]
    }
   ],
   "source": [
    "from autogluon.timeseries import TimeSeriesDataFrame, TimeSeriesPredictor\n",
    "import numpy as np\n",
    "import math"
   ]
  },
  {
   "cell_type": "code",
   "execution_count": 6,
   "metadata": {},
   "outputs": [
    {
     "ename": "ValueError",
     "evalue": "data must have a `timestamp` column",
     "output_type": "error",
     "traceback": [
      "\u001b[0;31m---------------------------------------------------------------------------\u001b[0m",
      "\u001b[0;31mValueError\u001b[0m                                Traceback (most recent call last)",
      "Cell \u001b[0;32mIn[6], line 1\u001b[0m\n\u001b[0;32m----> 1\u001b[0m train_data \u001b[39m=\u001b[39m TimeSeriesDataFrame\u001b[39m.\u001b[39;49mfrom_path(\u001b[39mf\u001b[39;49m\u001b[39m'\u001b[39;49m\u001b[39mData/phil_socdata_trainLSTM.csv\u001b[39;49m\u001b[39m'\u001b[39;49m)\n\u001b[1;32m      2\u001b[0m train_data\u001b[39m.\u001b[39mhead()\n",
      "File \u001b[0;32m~/anaconda3/envs/tf/lib/python3.10/site-packages/autogluon/timeseries/dataset/ts_dataframe.py:370\u001b[0m, in \u001b[0;36mTimeSeriesDataFrame.from_path\u001b[0;34m(cls, path, id_column, timestamp_column)\u001b[0m\n\u001b[1;32m    340\u001b[0m \u001b[39m\u001b[39m\u001b[39m\"\"\"Construct a ``TimeSeriesDataFrame`` from a CSV or Parquet file.\u001b[39;00m\n\u001b[1;32m    341\u001b[0m \n\u001b[1;32m    342\u001b[0m \u001b[39mParameters\u001b[39;00m\n\u001b[0;32m   (...)\u001b[0m\n\u001b[1;32m    367\u001b[0m \u001b[39m    A data frame in TimeSeriesDataFrame format.\u001b[39;00m\n\u001b[1;32m    368\u001b[0m \u001b[39m\"\"\"\u001b[39;00m\n\u001b[1;32m    369\u001b[0m df \u001b[39m=\u001b[39m load_pd\u001b[39m.\u001b[39mload(path)\n\u001b[0;32m--> 370\u001b[0m \u001b[39mreturn\u001b[39;00m \u001b[39mcls\u001b[39;49m\u001b[39m.\u001b[39;49mfrom_data_frame(df, id_column\u001b[39m=\u001b[39;49mid_column, timestamp_column\u001b[39m=\u001b[39;49mtimestamp_column)\n",
      "File \u001b[0;32m~/anaconda3/envs/tf/lib/python3.10/site-packages/autogluon/timeseries/dataset/ts_dataframe.py:409\u001b[0m, in \u001b[0;36mTimeSeriesDataFrame.from_data_frame\u001b[0;34m(cls, df, id_column, timestamp_column)\u001b[0m\n\u001b[1;32m    372\u001b[0m \u001b[39m@classmethod\u001b[39m\n\u001b[1;32m    373\u001b[0m \u001b[39mdef\u001b[39;00m \u001b[39mfrom_data_frame\u001b[39m(\n\u001b[1;32m    374\u001b[0m     \u001b[39mcls\u001b[39m,\n\u001b[0;32m   (...)\u001b[0m\n\u001b[1;32m    377\u001b[0m     timestamp_column: Optional[\u001b[39mstr\u001b[39m] \u001b[39m=\u001b[39m \u001b[39mNone\u001b[39;00m,\n\u001b[1;32m    378\u001b[0m ) \u001b[39m-\u001b[39m\u001b[39m>\u001b[39m TimeSeriesDataFrame:\n\u001b[1;32m    379\u001b[0m \u001b[39m    \u001b[39m\u001b[39m\"\"\"Construct a ``TimeSeriesDataFrame`` from a pandas DataFrame.\u001b[39;00m\n\u001b[1;32m    380\u001b[0m \n\u001b[1;32m    381\u001b[0m \u001b[39m    Parameters\u001b[39;00m\n\u001b[0;32m   (...)\u001b[0m\n\u001b[1;32m    406\u001b[0m \u001b[39m        A data frame in TimeSeriesDataFrame format.\u001b[39;00m\n\u001b[1;32m    407\u001b[0m \u001b[39m    \"\"\"\u001b[39;00m\n\u001b[1;32m    408\u001b[0m     \u001b[39mreturn\u001b[39;00m \u001b[39mcls\u001b[39m(\n\u001b[0;32m--> 409\u001b[0m         \u001b[39mcls\u001b[39;49m\u001b[39m.\u001b[39;49m_construct_pandas_frame_from_data_frame(df, id_column\u001b[39m=\u001b[39;49mid_column, timestamp_column\u001b[39m=\u001b[39;49mtimestamp_column)\n\u001b[1;32m    410\u001b[0m     )\n",
      "File \u001b[0;32m~/anaconda3/envs/tf/lib/python3.10/site-packages/autogluon/timeseries/dataset/ts_dataframe.py:330\u001b[0m, in \u001b[0;36mTimeSeriesDataFrame._construct_pandas_frame_from_data_frame\u001b[0;34m(cls, df, id_column, timestamp_column)\u001b[0m\n\u001b[1;32m    327\u001b[0m \u001b[39mif\u001b[39;00m TIMESTAMP \u001b[39min\u001b[39;00m df\u001b[39m.\u001b[39mcolumns:\n\u001b[1;32m    328\u001b[0m     df[TIMESTAMP] \u001b[39m=\u001b[39m pd\u001b[39m.\u001b[39mto_datetime(df[TIMESTAMP])\n\u001b[0;32m--> 330\u001b[0m \u001b[39mcls\u001b[39;49m\u001b[39m.\u001b[39;49m_validate_data_frame(df)\n\u001b[1;32m    331\u001b[0m \u001b[39mreturn\u001b[39;00m df\u001b[39m.\u001b[39mset_index([ITEMID, TIMESTAMP])\n",
      "File \u001b[0;32m~/anaconda3/envs/tf/lib/python3.10/site-packages/autogluon/timeseries/dataset/ts_dataframe.py:221\u001b[0m, in \u001b[0;36mTimeSeriesDataFrame._validate_data_frame\u001b[0;34m(cls, df)\u001b[0m\n\u001b[1;32m    219\u001b[0m     \u001b[39mraise\u001b[39;00m \u001b[39mValueError\u001b[39;00m(\u001b[39mf\u001b[39m\u001b[39m\"\u001b[39m\u001b[39mdata must have a `\u001b[39m\u001b[39m{\u001b[39;00mITEMID\u001b[39m}\u001b[39;00m\u001b[39m` column\u001b[39m\u001b[39m\"\u001b[39m)\n\u001b[1;32m    220\u001b[0m \u001b[39mif\u001b[39;00m TIMESTAMP \u001b[39mnot\u001b[39;00m \u001b[39min\u001b[39;00m df\u001b[39m.\u001b[39mcolumns:\n\u001b[0;32m--> 221\u001b[0m     \u001b[39mraise\u001b[39;00m \u001b[39mValueError\u001b[39;00m(\u001b[39mf\u001b[39m\u001b[39m\"\u001b[39m\u001b[39mdata must have a `\u001b[39m\u001b[39m{\u001b[39;00mTIMESTAMP\u001b[39m}\u001b[39;00m\u001b[39m` column\u001b[39m\u001b[39m\"\u001b[39m)\n\u001b[1;32m    222\u001b[0m \u001b[39mif\u001b[39;00m df[ITEMID]\u001b[39m.\u001b[39misnull()\u001b[39m.\u001b[39many():\n\u001b[1;32m    223\u001b[0m     \u001b[39mraise\u001b[39;00m \u001b[39mValueError\u001b[39;00m(\u001b[39mf\u001b[39m\u001b[39m\"\u001b[39m\u001b[39m`\u001b[39m\u001b[39m{\u001b[39;00mITEMID\u001b[39m}\u001b[39;00m\u001b[39m` column can not have nan\u001b[39m\u001b[39m\"\u001b[39m)\n",
      "\u001b[0;31mValueError\u001b[0m: data must have a `timestamp` column"
     ]
    }
   ],
   "source": [
    "train_data = TimeSeriesDataFrame.from_path(f'Data/phil_socdata_trainLSTM.csv')\n",
    "train_data.head()"
   ]
  },
  {
   "cell_type": "code",
   "execution_count": 12,
   "metadata": {},
   "outputs": [
    {
     "data": {
      "text/plain": [
       "count    427326.000000\n",
       "mean         67.759531\n",
       "std          24.669208\n",
       "min           0.000000\n",
       "25%          48.627468\n",
       "50%          72.941200\n",
       "75%          88.627480\n",
       "max         100.000031\n",
       "Name: SOC, dtype: float64"
      ]
     },
     "execution_count": 12,
     "metadata": {},
     "output_type": "execute_result"
    }
   ],
   "source": [
    "label = 'SOC'\n",
    "train_data[label].describe()"
   ]
  },
  {
   "cell_type": "code",
   "execution_count": 2,
   "metadata": {},
   "outputs": [
    {
     "ename": "NameError",
     "evalue": "name 'TimeSeriesPredictor' is not defined",
     "output_type": "error",
     "traceback": [
      "\u001b[0;31m---------------------------------------------------------------------------\u001b[0m",
      "\u001b[0;31mNameError\u001b[0m                                 Traceback (most recent call last)",
      "Cell \u001b[0;32mIn[2], line 1\u001b[0m\n\u001b[0;32m----> 1\u001b[0m predictor \u001b[39m=\u001b[39m TimeSeriesPredictor(prediction_length\u001b[39m=\u001b[39m\u001b[39m10\u001b[39m,\n\u001b[1;32m      2\u001b[0m                                 target\u001b[39m=\u001b[39m\u001b[39m\"\u001b[39m\u001b[39mSOC\u001b[39m\u001b[39m\"\u001b[39m,\n\u001b[1;32m      3\u001b[0m                                 )\n\u001b[1;32m      5\u001b[0m predictor\u001b[39m.\u001b[39mfit(train_data, presets \u001b[39m=\u001b[39m \u001b[39m'\u001b[39m\u001b[39mbest_quality\u001b[39m\u001b[39m'\u001b[39m, time_limit\u001b[39m=\u001b[39m\u001b[39m60\u001b[39m)\n\u001b[1;32m      7\u001b[0m \u001b[39m'''\u001b[39;00m\n\u001b[1;32m      8\u001b[0m \u001b[39mimport autogluon.core as ag\u001b[39;00m\n\u001b[1;32m      9\u001b[0m \n\u001b[0;32m   (...)\u001b[0m\n\u001b[1;32m     40\u001b[0m \u001b[39m)\u001b[39;00m\n\u001b[1;32m     41\u001b[0m \u001b[39m'''\u001b[39;00m\n",
      "\u001b[0;31mNameError\u001b[0m: name 'TimeSeriesPredictor' is not defined"
     ]
    }
   ],
   "source": [
    "predictor = TimeSeriesPredictor(prediction_length=10,\n",
    "                                target=\"SOC\",\n",
    "                                )\n",
    "\n",
    "predictor.fit(train_data, presets = 'best_quality', time_limit=60)\n",
    "\n",
    "'''\n",
    "import autogluon.core as ag\n",
    "\n",
    "nn_options = {  # specifies non-default hyperparameter values for neural network models\n",
    "    'num_epochs': 10,  # number of training epochs (controls training time of NN models)\n",
    "    'learning_rate': ag.space.Real(1e-4, 1e-2, default=5e-4, log=True),  # learning rate used in training (real-valued hyperparameter searched on log-scale)\n",
    "    'activation': ag.space.Categorical('relu', 'softrelu', 'tanh'),  # activation function used in NN (categorical hyperparameter, default = first entry)\n",
    "    #'dropout_prob': ag.space.Real(0.0, 0.5, default=0.1),  # dropout probability (real-valued hyperparameter)\n",
    "}\n",
    "\n",
    "gbm_options = {  # specifies non-default hyperparameter values for lightGBM gradient boosted trees\n",
    "    'num_boost_round': 100,  # number of boosting rounds (controls training time of GBM models)\n",
    "    #'num_leaves': ag.space.Int(lower=26, upper=66, default=36),  # number of leaves in trees (integer hyperparameter)\n",
    "}\n",
    "\n",
    "hyperparameters = {  # hyperparameters of each model type\n",
    "                   'GBM': gbm_options,\n",
    "                   'NN_TORCH': nn_options,  # NOTE: comment this line out if you get errors on Mac OSX\n",
    "                  }  # When these keys are missing from hyperparameters dict, no models of that type are trained\n",
    "\n",
    "time_limit = 10*60  # train various models for ~10 min\n",
    "num_trials = 50  # try at most 5 different hyperparameter configurations for each type of model\n",
    "search_strategy = 'auto'  # to tune hyperparameters using random search routine with a local scheduler\n",
    "\n",
    "hyperparameter_tune_kwargs = {  # HPO is not performed unless hyperparameter_tune_kwargs is specified\n",
    "    'num_trials': num_trials,\n",
    "    'scheduler' : 'local',\n",
    "    'searcher': search_strategy,\n",
    "}\n",
    "\n",
    "predictor = TabularPredictor(label=label).fit(\n",
    "    train_data, time_limit=time_limit, auto_stack=True, presets='best_quality',\n",
    "    hyperparameters=hyperparameters, hyperparameter_tune_kwargs=hyperparameter_tune_kwargs,\n",
    ")\n",
    "'''\n"
   ]
  },
  {
   "cell_type": "code",
   "execution_count": 17,
   "metadata": {},
   "outputs": [
    {
     "name": "stderr",
     "output_type": "stream",
     "text": [
      "Loaded data from: Data/phil_socdata_testLSTM.csv | Columns = 6 / 6 | Rows = 18307 -> 18307\n"
     ]
    },
    {
     "data": {
      "text/html": [
       "<div>\n",
       "<style scoped>\n",
       "    .dataframe tbody tr th:only-of-type {\n",
       "        vertical-align: middle;\n",
       "    }\n",
       "\n",
       "    .dataframe tbody tr th {\n",
       "        vertical-align: top;\n",
       "    }\n",
       "\n",
       "    .dataframe thead th {\n",
       "        text-align: right;\n",
       "    }\n",
       "</style>\n",
       "<table border=\"1\" class=\"dataframe\">\n",
       "  <thead>\n",
       "    <tr style=\"text-align: right;\">\n",
       "      <th></th>\n",
       "      <th></th>\n",
       "      <th>SOC</th>\n",
       "      <th>V</th>\n",
       "      <th>I</th>\n",
       "      <th>T</th>\n",
       "    </tr>\n",
       "    <tr>\n",
       "      <th>item_id</th>\n",
       "      <th>timestamp</th>\n",
       "      <th></th>\n",
       "      <th></th>\n",
       "      <th></th>\n",
       "      <th></th>\n",
       "    </tr>\n",
       "  </thead>\n",
       "  <tbody>\n",
       "    <tr>\n",
       "      <th rowspan=\"5\" valign=\"top\">SOC</th>\n",
       "      <th>1970-01-01 00:00:00</th>\n",
       "      <td>97.647087</td>\n",
       "      <td>397.125</td>\n",
       "      <td>-1.35</td>\n",
       "      <td>13.5</td>\n",
       "    </tr>\n",
       "    <tr>\n",
       "      <th>1970-01-01 00:00:01</th>\n",
       "      <td>97.647087</td>\n",
       "      <td>397.125</td>\n",
       "      <td>-1.35</td>\n",
       "      <td>13.5</td>\n",
       "    </tr>\n",
       "    <tr>\n",
       "      <th>1970-01-01 00:00:02</th>\n",
       "      <td>97.647087</td>\n",
       "      <td>397.125</td>\n",
       "      <td>-1.35</td>\n",
       "      <td>13.5</td>\n",
       "    </tr>\n",
       "    <tr>\n",
       "      <th>1970-01-01 00:00:03</th>\n",
       "      <td>97.647087</td>\n",
       "      <td>397.125</td>\n",
       "      <td>-1.35</td>\n",
       "      <td>13.5</td>\n",
       "    </tr>\n",
       "    <tr>\n",
       "      <th>1970-01-01 00:00:04</th>\n",
       "      <td>97.647087</td>\n",
       "      <td>397.125</td>\n",
       "      <td>-1.35</td>\n",
       "      <td>13.5</td>\n",
       "    </tr>\n",
       "  </tbody>\n",
       "</table>\n",
       "</div>"
      ],
      "text/plain": [
       "                                   SOC        V     I     T\n",
       "item_id timestamp                                          \n",
       "SOC     1970-01-01 00:00:00  97.647087  397.125 -1.35  13.5\n",
       "        1970-01-01 00:00:01  97.647087  397.125 -1.35  13.5\n",
       "        1970-01-01 00:00:02  97.647087  397.125 -1.35  13.5\n",
       "        1970-01-01 00:00:03  97.647087  397.125 -1.35  13.5\n",
       "        1970-01-01 00:00:04  97.647087  397.125 -1.35  13.5"
      ]
     },
     "execution_count": 17,
     "metadata": {},
     "output_type": "execute_result"
    }
   ],
   "source": [
    "test_data = TimeSeriesDataFrame(f'Data/phil_socdata_testLSTM.csv')\n",
    "test_data.head()"
   ]
  },
  {
   "cell_type": "code",
   "execution_count": 19,
   "metadata": {},
   "outputs": [
    {
     "name": "stderr",
     "output_type": "stream",
     "text": [
      "Global seed set to 123\n",
      "Model not specified in predict, will default to the model with the best validation score: TemporalFusionTransformer\n"
     ]
    },
    {
     "data": {
      "text/html": [
       "<div>\n",
       "<style scoped>\n",
       "    .dataframe tbody tr th:only-of-type {\n",
       "        vertical-align: middle;\n",
       "    }\n",
       "\n",
       "    .dataframe tbody tr th {\n",
       "        vertical-align: top;\n",
       "    }\n",
       "\n",
       "    .dataframe thead th {\n",
       "        text-align: right;\n",
       "    }\n",
       "</style>\n",
       "<table border=\"1\" class=\"dataframe\">\n",
       "  <thead>\n",
       "    <tr style=\"text-align: right;\">\n",
       "      <th></th>\n",
       "      <th></th>\n",
       "      <th>mean</th>\n",
       "      <th>0.1</th>\n",
       "      <th>0.2</th>\n",
       "      <th>0.3</th>\n",
       "      <th>0.4</th>\n",
       "      <th>0.5</th>\n",
       "      <th>0.6</th>\n",
       "      <th>0.7</th>\n",
       "      <th>0.8</th>\n",
       "      <th>0.9</th>\n",
       "    </tr>\n",
       "    <tr>\n",
       "      <th>item_id</th>\n",
       "      <th>timestamp</th>\n",
       "      <th></th>\n",
       "      <th></th>\n",
       "      <th></th>\n",
       "      <th></th>\n",
       "      <th></th>\n",
       "      <th></th>\n",
       "      <th></th>\n",
       "      <th></th>\n",
       "      <th></th>\n",
       "      <th></th>\n",
       "    </tr>\n",
       "  </thead>\n",
       "  <tbody>\n",
       "    <tr>\n",
       "      <th rowspan=\"5\" valign=\"top\">SOC</th>\n",
       "      <th>1900-01-01 05:05:07</th>\n",
       "      <td>13.332996</td>\n",
       "      <td>13.327004</td>\n",
       "      <td>13.328603</td>\n",
       "      <td>13.329422</td>\n",
       "      <td>13.331572</td>\n",
       "      <td>13.332996</td>\n",
       "      <td>13.333930</td>\n",
       "      <td>13.335180</td>\n",
       "      <td>13.335892</td>\n",
       "      <td>13.337877</td>\n",
       "    </tr>\n",
       "    <tr>\n",
       "      <th>1900-01-01 05:05:08</th>\n",
       "      <td>13.332979</td>\n",
       "      <td>13.326904</td>\n",
       "      <td>13.328645</td>\n",
       "      <td>13.329388</td>\n",
       "      <td>13.331548</td>\n",
       "      <td>13.332979</td>\n",
       "      <td>13.333967</td>\n",
       "      <td>13.335140</td>\n",
       "      <td>13.335977</td>\n",
       "      <td>13.337878</td>\n",
       "    </tr>\n",
       "    <tr>\n",
       "      <th>1900-01-01 05:05:09</th>\n",
       "      <td>13.332969</td>\n",
       "      <td>13.326847</td>\n",
       "      <td>13.328676</td>\n",
       "      <td>13.329370</td>\n",
       "      <td>13.331538</td>\n",
       "      <td>13.332969</td>\n",
       "      <td>13.333989</td>\n",
       "      <td>13.335120</td>\n",
       "      <td>13.336042</td>\n",
       "      <td>13.337879</td>\n",
       "    </tr>\n",
       "    <tr>\n",
       "      <th>1900-01-01 05:05:10</th>\n",
       "      <td>13.332961</td>\n",
       "      <td>13.326815</td>\n",
       "      <td>13.328697</td>\n",
       "      <td>13.329362</td>\n",
       "      <td>13.331533</td>\n",
       "      <td>13.332961</td>\n",
       "      <td>13.334002</td>\n",
       "      <td>13.335112</td>\n",
       "      <td>13.336087</td>\n",
       "      <td>13.337879</td>\n",
       "    </tr>\n",
       "    <tr>\n",
       "      <th>1900-01-01 05:05:11</th>\n",
       "      <td>13.332956</td>\n",
       "      <td>13.326796</td>\n",
       "      <td>13.328712</td>\n",
       "      <td>13.329355</td>\n",
       "      <td>13.331532</td>\n",
       "      <td>13.332956</td>\n",
       "      <td>13.334011</td>\n",
       "      <td>13.335110</td>\n",
       "      <td>13.336117</td>\n",
       "      <td>13.337879</td>\n",
       "    </tr>\n",
       "  </tbody>\n",
       "</table>\n",
       "</div>"
      ],
      "text/plain": [
       "                                  mean        0.1        0.2        0.3  \\\n",
       "item_id timestamp                                                         \n",
       "SOC     1900-01-01 05:05:07  13.332996  13.327004  13.328603  13.329422   \n",
       "        1900-01-01 05:05:08  13.332979  13.326904  13.328645  13.329388   \n",
       "        1900-01-01 05:05:09  13.332969  13.326847  13.328676  13.329370   \n",
       "        1900-01-01 05:05:10  13.332961  13.326815  13.328697  13.329362   \n",
       "        1900-01-01 05:05:11  13.332956  13.326796  13.328712  13.329355   \n",
       "\n",
       "                                   0.4        0.5        0.6        0.7  \\\n",
       "item_id timestamp                                                         \n",
       "SOC     1900-01-01 05:05:07  13.331572  13.332996  13.333930  13.335180   \n",
       "        1900-01-01 05:05:08  13.331548  13.332979  13.333967  13.335140   \n",
       "        1900-01-01 05:05:09  13.331538  13.332969  13.333989  13.335120   \n",
       "        1900-01-01 05:05:10  13.331533  13.332961  13.334002  13.335112   \n",
       "        1900-01-01 05:05:11  13.331532  13.332956  13.334011  13.335110   \n",
       "\n",
       "                                   0.8        0.9  \n",
       "item_id timestamp                                  \n",
       "SOC     1900-01-01 05:05:07  13.335892  13.337877  \n",
       "        1900-01-01 05:05:08  13.335977  13.337878  \n",
       "        1900-01-01 05:05:09  13.336042  13.337879  \n",
       "        1900-01-01 05:05:10  13.336087  13.337879  \n",
       "        1900-01-01 05:05:11  13.336117  13.337879  "
      ]
     },
     "execution_count": 19,
     "metadata": {},
     "output_type": "execute_result"
    }
   ],
   "source": [
    "y_pred = predictor.predict(test_data)\n",
    "y_pred.head()"
   ]
  },
  {
   "cell_type": "code",
   "execution_count": 21,
   "metadata": {},
   "outputs": [
    {
     "name": "stderr",
     "output_type": "stream",
     "text": [
      "Model not specified in predict, will default to the model with the best validation score: TemporalFusionTransformer\n"
     ]
    },
    {
     "data": {
      "text/plain": [
       "-9.218270619385538e-05"
      ]
     },
     "execution_count": 21,
     "metadata": {},
     "output_type": "execute_result"
    }
   ],
   "source": [
    "predictor.evaluate(test_data)"
   ]
  },
  {
   "cell_type": "code",
   "execution_count": 22,
   "metadata": {},
   "outputs": [
    {
     "name": "stderr",
     "output_type": "stream",
     "text": [
      "Additional data provided, testing on additional data. Resulting leaderboard will be sorted according to test score (`score_test`).\n"
     ]
    },
    {
     "data": {
      "text/html": [
       "<div>\n",
       "<style scoped>\n",
       "    .dataframe tbody tr th:only-of-type {\n",
       "        vertical-align: middle;\n",
       "    }\n",
       "\n",
       "    .dataframe tbody tr th {\n",
       "        vertical-align: top;\n",
       "    }\n",
       "\n",
       "    .dataframe thead th {\n",
       "        text-align: right;\n",
       "    }\n",
       "</style>\n",
       "<table border=\"1\" class=\"dataframe\">\n",
       "  <thead>\n",
       "    <tr style=\"text-align: right;\">\n",
       "      <th></th>\n",
       "      <th>model</th>\n",
       "      <th>score_test</th>\n",
       "      <th>score_val</th>\n",
       "      <th>pred_time_test</th>\n",
       "      <th>pred_time_val</th>\n",
       "      <th>fit_time_marginal</th>\n",
       "      <th>fit_order</th>\n",
       "    </tr>\n",
       "  </thead>\n",
       "  <tbody>\n",
       "    <tr>\n",
       "      <th>0</th>\n",
       "      <td>TemporalFusionTransformer</td>\n",
       "      <td>-0.000092</td>\n",
       "      <td>-0.011175</td>\n",
       "      <td>0.130878</td>\n",
       "      <td>0.399123</td>\n",
       "      <td>7.497882</td>\n",
       "      <td>7</td>\n",
       "    </tr>\n",
       "    <tr>\n",
       "      <th>1</th>\n",
       "      <td>SeasonalNaive</td>\n",
       "      <td>-0.004972</td>\n",
       "      <td>-0.024011</td>\n",
       "      <td>0.051949</td>\n",
       "      <td>3.410795</td>\n",
       "      <td>0.009630</td>\n",
       "      <td>2</td>\n",
       "    </tr>\n",
       "    <tr>\n",
       "      <th>2</th>\n",
       "      <td>Naive</td>\n",
       "      <td>-0.004972</td>\n",
       "      <td>-0.024011</td>\n",
       "      <td>2.499635</td>\n",
       "      <td>4.832959</td>\n",
       "      <td>0.006278</td>\n",
       "      <td>1</td>\n",
       "    </tr>\n",
       "    <tr>\n",
       "      <th>3</th>\n",
       "      <td>Theta/T1</td>\n",
       "      <td>-0.005667</td>\n",
       "      <td>-0.023999</td>\n",
       "      <td>4.147638</td>\n",
       "      <td>19.411070</td>\n",
       "      <td>0.000294</td>\n",
       "      <td>4</td>\n",
       "    </tr>\n",
       "    <tr>\n",
       "      <th>4</th>\n",
       "      <td>ARIMA</td>\n",
       "      <td>-0.007966</td>\n",
       "      <td>-0.024681</td>\n",
       "      <td>3.739829</td>\n",
       "      <td>56.116867</td>\n",
       "      <td>0.003004</td>\n",
       "      <td>5</td>\n",
       "    </tr>\n",
       "    <tr>\n",
       "      <th>5</th>\n",
       "      <td>ETS</td>\n",
       "      <td>-0.014140</td>\n",
       "      <td>-0.023951</td>\n",
       "      <td>0.252036</td>\n",
       "      <td>4.923406</td>\n",
       "      <td>0.003708</td>\n",
       "      <td>3</td>\n",
       "    </tr>\n",
       "    <tr>\n",
       "      <th>6</th>\n",
       "      <td>DeepAR/T1</td>\n",
       "      <td>-0.120204</td>\n",
       "      <td>-0.119278</td>\n",
       "      <td>0.254076</td>\n",
       "      <td>0.524333</td>\n",
       "      <td>8.787004</td>\n",
       "      <td>6</td>\n",
       "    </tr>\n",
       "  </tbody>\n",
       "</table>\n",
       "</div>"
      ],
      "text/plain": [
       "                       model  score_test  score_val  pred_time_test  \\\n",
       "0  TemporalFusionTransformer   -0.000092  -0.011175        0.130878   \n",
       "1              SeasonalNaive   -0.004972  -0.024011        0.051949   \n",
       "2                      Naive   -0.004972  -0.024011        2.499635   \n",
       "3                   Theta/T1   -0.005667  -0.023999        4.147638   \n",
       "4                      ARIMA   -0.007966  -0.024681        3.739829   \n",
       "5                        ETS   -0.014140  -0.023951        0.252036   \n",
       "6                  DeepAR/T1   -0.120204  -0.119278        0.254076   \n",
       "\n",
       "   pred_time_val  fit_time_marginal  fit_order  \n",
       "0       0.399123           7.497882          7  \n",
       "1       3.410795           0.009630          2  \n",
       "2       4.832959           0.006278          1  \n",
       "3      19.411070           0.000294          4  \n",
       "4      56.116867           0.003004          5  \n",
       "5       4.923406           0.003708          3  \n",
       "6       0.524333           8.787004          6  "
      ]
     },
     "execution_count": 22,
     "metadata": {},
     "output_type": "execute_result"
    }
   ],
   "source": [
    "predictor.leaderboard(test_data, silent=True)"
   ]
  },
  {
   "cell_type": "code",
   "execution_count": 30,
   "metadata": {},
   "outputs": [
    {
     "data": {
      "image/png": "[encoded data removed]",
      "text/plain": [
       "<Figure size 640x480 with 1 Axes>"
      ]
     },
     "metadata": {},
     "output_type": "display_data"
    }
   ],
   "source": [
    "#plots the mean column in y_pred\n",
    "import matplotlib.pyplot as plt\n",
    "y_pred['0.1'].plot()\n",
    "plt.show()\n"
   ]
  },
  {
   "cell_type": "code",
   "execution_count": 28,
   "metadata": {},
   "outputs": [
    {
     "ename": "TypeError",
     "evalue": "'value' must be an instance of str or bytes, not a tuple",
     "output_type": "error",
     "traceback": [
      "\u001b[0;31m---------------------------------------------------------------------------\u001b[0m",
      "\u001b[0;31mTypeError\u001b[0m                                 Traceback (most recent call last)",
      "Cell \u001b[0;32mIn[28], line 3\u001b[0m\n\u001b[1;32m      1\u001b[0m \u001b[39m#plots the predicted vs actual values of the top performing model using matplotlib\u001b[39;00m\n\u001b[1;32m      2\u001b[0m \u001b[39mimport\u001b[39;00m \u001b[39mmatplotlib\u001b[39;00m\u001b[39m.\u001b[39;00m\u001b[39mpyplot\u001b[39;00m \u001b[39mas\u001b[39;00m \u001b[39mplt\u001b[39;00m\n\u001b[0;32m----> 3\u001b[0m plt\u001b[39m.\u001b[39;49mplot(y_pred[\u001b[39m\"\u001b[39;49m\u001b[39mmean\u001b[39;49m\u001b[39m\"\u001b[39;49m], label\u001b[39m=\u001b[39;49m\u001b[39m\"\u001b[39;49m\u001b[39mPredictions\u001b[39;49m\u001b[39m\"\u001b[39;49m)\n\u001b[1;32m      4\u001b[0m plt\u001b[39m.\u001b[39mplot(test_data[label], label\u001b[39m=\u001b[39m\u001b[39m\"\u001b[39m\u001b[39mTrue Values\u001b[39m\u001b[39m\"\u001b[39m)\n\u001b[1;32m      5\u001b[0m plt\u001b[39m.\u001b[39mlegend()\n",
      "File \u001b[0;32m~/anaconda3/envs/tf/lib/python3.10/site-packages/matplotlib/pyplot.py:2812\u001b[0m, in \u001b[0;36mplot\u001b[0;34m(scalex, scaley, data, *args, **kwargs)\u001b[0m\n\u001b[1;32m   2810\u001b[0m \u001b[39m@_copy_docstring_and_deprecators\u001b[39m(Axes\u001b[39m.\u001b[39mplot)\n\u001b[1;32m   2811\u001b[0m \u001b[39mdef\u001b[39;00m \u001b[39mplot\u001b[39m(\u001b[39m*\u001b[39margs, scalex\u001b[39m=\u001b[39m\u001b[39mTrue\u001b[39;00m, scaley\u001b[39m=\u001b[39m\u001b[39mTrue\u001b[39;00m, data\u001b[39m=\u001b[39m\u001b[39mNone\u001b[39;00m, \u001b[39m*\u001b[39m\u001b[39m*\u001b[39mkwargs):\n\u001b[0;32m-> 2812\u001b[0m     \u001b[39mreturn\u001b[39;00m gca()\u001b[39m.\u001b[39;49mplot(\n\u001b[1;32m   2813\u001b[0m         \u001b[39m*\u001b[39;49margs, scalex\u001b[39m=\u001b[39;49mscalex, scaley\u001b[39m=\u001b[39;49mscaley,\n\u001b[1;32m   2814\u001b[0m         \u001b[39m*\u001b[39;49m\u001b[39m*\u001b[39;49m({\u001b[39m\"\u001b[39;49m\u001b[39mdata\u001b[39;49m\u001b[39m\"\u001b[39;49m: data} \u001b[39mif\u001b[39;49;00m data \u001b[39mis\u001b[39;49;00m \u001b[39mnot\u001b[39;49;00m \u001b[39mNone\u001b[39;49;00m \u001b[39melse\u001b[39;49;00m {}), \u001b[39m*\u001b[39;49m\u001b[39m*\u001b[39;49mkwargs)\n",
      "File \u001b[0;32m~/anaconda3/envs/tf/lib/python3.10/site-packages/matplotlib/axes/_axes.py:1688\u001b[0m, in \u001b[0;36mAxes.plot\u001b[0;34m(self, scalex, scaley, data, *args, **kwargs)\u001b[0m\n\u001b[1;32m   1445\u001b[0m \u001b[39m\u001b[39m\u001b[39m\"\"\"\u001b[39;00m\n\u001b[1;32m   1446\u001b[0m \u001b[39mPlot y versus x as lines and/or markers.\u001b[39;00m\n\u001b[1;32m   1447\u001b[0m \n\u001b[0;32m   (...)\u001b[0m\n\u001b[1;32m   1685\u001b[0m \u001b[39m(``'green'``) or hex strings (``'#008000'``).\u001b[39;00m\n\u001b[1;32m   1686\u001b[0m \u001b[39m\"\"\"\u001b[39;00m\n\u001b[1;32m   1687\u001b[0m kwargs \u001b[39m=\u001b[39m cbook\u001b[39m.\u001b[39mnormalize_kwargs(kwargs, mlines\u001b[39m.\u001b[39mLine2D)\n\u001b[0;32m-> 1688\u001b[0m lines \u001b[39m=\u001b[39m [\u001b[39m*\u001b[39m\u001b[39mself\u001b[39m\u001b[39m.\u001b[39m_get_lines(\u001b[39m*\u001b[39margs, data\u001b[39m=\u001b[39mdata, \u001b[39m*\u001b[39m\u001b[39m*\u001b[39mkwargs)]\n\u001b[1;32m   1689\u001b[0m \u001b[39mfor\u001b[39;00m line \u001b[39min\u001b[39;00m lines:\n\u001b[1;32m   1690\u001b[0m     \u001b[39mself\u001b[39m\u001b[39m.\u001b[39madd_line(line)\n",
      "File \u001b[0;32m~/anaconda3/envs/tf/lib/python3.10/site-packages/matplotlib/axes/_base.py:311\u001b[0m, in \u001b[0;36m_process_plot_var_args.__call__\u001b[0;34m(self, data, *args, **kwargs)\u001b[0m\n\u001b[1;32m    309\u001b[0m     this \u001b[39m+\u001b[39m\u001b[39m=\u001b[39m args[\u001b[39m0\u001b[39m],\n\u001b[1;32m    310\u001b[0m     args \u001b[39m=\u001b[39m args[\u001b[39m1\u001b[39m:]\n\u001b[0;32m--> 311\u001b[0m \u001b[39myield from\u001b[39;00m \u001b[39mself\u001b[39;49m\u001b[39m.\u001b[39;49m_plot_args(\n\u001b[1;32m    312\u001b[0m     this, kwargs, ambiguous_fmt_datakey\u001b[39m=\u001b[39;49mambiguous_fmt_datakey)\n",
      "File \u001b[0;32m~/anaconda3/envs/tf/lib/python3.10/site-packages/matplotlib/axes/_base.py:499\u001b[0m, in \u001b[0;36m_process_plot_var_args._plot_args\u001b[0;34m(self, tup, kwargs, return_kwargs, ambiguous_fmt_datakey)\u001b[0m\n\u001b[1;32m    496\u001b[0m     x, y \u001b[39m=\u001b[39m index_of(xy[\u001b[39m-\u001b[39m\u001b[39m1\u001b[39m])\n\u001b[1;32m    498\u001b[0m \u001b[39mif\u001b[39;00m \u001b[39mself\u001b[39m\u001b[39m.\u001b[39maxes\u001b[39m.\u001b[39mxaxis \u001b[39mis\u001b[39;00m \u001b[39mnot\u001b[39;00m \u001b[39mNone\u001b[39;00m:\n\u001b[0;32m--> 499\u001b[0m     \u001b[39mself\u001b[39;49m\u001b[39m.\u001b[39;49maxes\u001b[39m.\u001b[39;49mxaxis\u001b[39m.\u001b[39;49mupdate_units(x)\n\u001b[1;32m    500\u001b[0m \u001b[39mif\u001b[39;00m \u001b[39mself\u001b[39m\u001b[39m.\u001b[39maxes\u001b[39m.\u001b[39myaxis \u001b[39mis\u001b[39;00m \u001b[39mnot\u001b[39;00m \u001b[39mNone\u001b[39;00m:\n\u001b[1;32m    501\u001b[0m     \u001b[39mself\u001b[39m\u001b[39m.\u001b[39maxes\u001b[39m.\u001b[39myaxis\u001b[39m.\u001b[39mupdate_units(y)\n",
      "File \u001b[0;32m~/anaconda3/envs/tf/lib/python3.10/site-packages/matplotlib/axis.py:1675\u001b[0m, in \u001b[0;36mAxis.update_units\u001b[0;34m(self, data)\u001b[0m\n\u001b[1;32m   1673\u001b[0m neednew \u001b[39m=\u001b[39m \u001b[39mself\u001b[39m\u001b[39m.\u001b[39mconverter \u001b[39m!=\u001b[39m converter\n\u001b[1;32m   1674\u001b[0m \u001b[39mself\u001b[39m\u001b[39m.\u001b[39mconverter \u001b[39m=\u001b[39m converter\n\u001b[0;32m-> 1675\u001b[0m default \u001b[39m=\u001b[39m \u001b[39mself\u001b[39;49m\u001b[39m.\u001b[39;49mconverter\u001b[39m.\u001b[39;49mdefault_units(data, \u001b[39mself\u001b[39;49m)\n\u001b[1;32m   1676\u001b[0m \u001b[39mif\u001b[39;00m default \u001b[39mis\u001b[39;00m \u001b[39mnot\u001b[39;00m \u001b[39mNone\u001b[39;00m \u001b[39mand\u001b[39;00m \u001b[39mself\u001b[39m\u001b[39m.\u001b[39munits \u001b[39mis\u001b[39;00m \u001b[39mNone\u001b[39;00m:\n\u001b[1;32m   1677\u001b[0m     \u001b[39mself\u001b[39m\u001b[39m.\u001b[39mset_units(default)\n",
      "File \u001b[0;32m~/anaconda3/envs/tf/lib/python3.10/site-packages/matplotlib/category.py:105\u001b[0m, in \u001b[0;36mStrCategoryConverter.default_units\u001b[0;34m(data, axis)\u001b[0m\n\u001b[1;32m    103\u001b[0m \u001b[39m# the conversion call stack is default_units -> axis_info -> convert\u001b[39;00m\n\u001b[1;32m    104\u001b[0m \u001b[39mif\u001b[39;00m axis\u001b[39m.\u001b[39munits \u001b[39mis\u001b[39;00m \u001b[39mNone\u001b[39;00m:\n\u001b[0;32m--> 105\u001b[0m     axis\u001b[39m.\u001b[39mset_units(UnitData(data))\n\u001b[1;32m    106\u001b[0m \u001b[39melse\u001b[39;00m:\n\u001b[1;32m    107\u001b[0m     axis\u001b[39m.\u001b[39munits\u001b[39m.\u001b[39mupdate(data)\n",
      "File \u001b[0;32m~/anaconda3/envs/tf/lib/python3.10/site-packages/matplotlib/category.py:181\u001b[0m, in \u001b[0;36mUnitData.__init__\u001b[0;34m(self, data)\u001b[0m\n\u001b[1;32m    179\u001b[0m \u001b[39mself\u001b[39m\u001b[39m.\u001b[39m_counter \u001b[39m=\u001b[39m itertools\u001b[39m.\u001b[39mcount()\n\u001b[1;32m    180\u001b[0m \u001b[39mif\u001b[39;00m data \u001b[39mis\u001b[39;00m \u001b[39mnot\u001b[39;00m \u001b[39mNone\u001b[39;00m:\n\u001b[0;32m--> 181\u001b[0m     \u001b[39mself\u001b[39;49m\u001b[39m.\u001b[39;49mupdate(data)\n",
      "File \u001b[0;32m~/anaconda3/envs/tf/lib/python3.10/site-packages/matplotlib/category.py:216\u001b[0m, in \u001b[0;36mUnitData.update\u001b[0;34m(self, data)\u001b[0m\n\u001b[1;32m    213\u001b[0m convertible \u001b[39m=\u001b[39m \u001b[39mTrue\u001b[39;00m\n\u001b[1;32m    214\u001b[0m \u001b[39mfor\u001b[39;00m val \u001b[39min\u001b[39;00m OrderedDict\u001b[39m.\u001b[39mfromkeys(data):\n\u001b[1;32m    215\u001b[0m     \u001b[39m# OrderedDict just iterates over unique values in data.\u001b[39;00m\n\u001b[0;32m--> 216\u001b[0m     _api\u001b[39m.\u001b[39;49mcheck_isinstance((\u001b[39mstr\u001b[39;49m, \u001b[39mbytes\u001b[39;49m), value\u001b[39m=\u001b[39;49mval)\n\u001b[1;32m    217\u001b[0m     \u001b[39mif\u001b[39;00m convertible:\n\u001b[1;32m    218\u001b[0m         \u001b[39m# this will only be called so long as convertible is True.\u001b[39;00m\n\u001b[1;32m    219\u001b[0m         convertible \u001b[39m=\u001b[39m \u001b[39mself\u001b[39m\u001b[39m.\u001b[39m_str_is_convertible(val)\n",
      "File \u001b[0;32m~/anaconda3/envs/tf/lib/python3.10/site-packages/matplotlib/_api/__init__.py:93\u001b[0m, in \u001b[0;36mcheck_isinstance\u001b[0;34m(_types, **kwargs)\u001b[0m\n\u001b[1;32m     91\u001b[0m     names\u001b[39m.\u001b[39mremove(\u001b[39m\"\u001b[39m\u001b[39mNone\u001b[39m\u001b[39m\"\u001b[39m)\n\u001b[1;32m     92\u001b[0m     names\u001b[39m.\u001b[39mappend(\u001b[39m\"\u001b[39m\u001b[39mNone\u001b[39m\u001b[39m\"\u001b[39m)\n\u001b[0;32m---> 93\u001b[0m \u001b[39mraise\u001b[39;00m \u001b[39mTypeError\u001b[39;00m(\n\u001b[1;32m     94\u001b[0m     \u001b[39m\"\u001b[39m\u001b[39m{!r}\u001b[39;00m\u001b[39m must be an instance of \u001b[39m\u001b[39m{}\u001b[39;00m\u001b[39m, not a \u001b[39m\u001b[39m{}\u001b[39;00m\u001b[39m\"\u001b[39m\u001b[39m.\u001b[39mformat(\n\u001b[1;32m     95\u001b[0m         k,\n\u001b[1;32m     96\u001b[0m         \u001b[39m\"\u001b[39m\u001b[39m, \u001b[39m\u001b[39m\"\u001b[39m\u001b[39m.\u001b[39mjoin(names[:\u001b[39m-\u001b[39m\u001b[39m1\u001b[39m]) \u001b[39m+\u001b[39m \u001b[39m\"\u001b[39m\u001b[39m or \u001b[39m\u001b[39m\"\u001b[39m \u001b[39m+\u001b[39m names[\u001b[39m-\u001b[39m\u001b[39m1\u001b[39m]\n\u001b[1;32m     97\u001b[0m         \u001b[39mif\u001b[39;00m \u001b[39mlen\u001b[39m(names) \u001b[39m>\u001b[39m \u001b[39m1\u001b[39m \u001b[39melse\u001b[39;00m names[\u001b[39m0\u001b[39m],\n\u001b[1;32m     98\u001b[0m         type_name(\u001b[39mtype\u001b[39m(v))))\n",
      "\u001b[0;31mTypeError\u001b[0m: 'value' must be an instance of str or bytes, not a tuple"
     ]
    },
    {
     "data": {
      "image/png": "[encoded data removed]",
      "text/plain": [
       "<Figure size 640x480 with 1 Axes>"
      ]
     },
     "metadata": {},
     "output_type": "display_data"
    }
   ],
   "source": [
    "#plots the predicted vs actual values of the top performing model using matplotlib\n",
    "import matplotlib.pyplot as plt\n",
    "plt.plot(y_pred[\"mean\"], label=\"Predictions\")\n",
    "plt.plot(test_data[label], label=\"True Values\")\n",
    "plt.legend()\n",
    "plt.show()"
   ]
  },
  {
   "cell_type": "code",
   "execution_count": 22,
   "metadata": {},
   "outputs": [
    {
     "name": "stdout",
     "output_type": "stream",
     "text": [
      "test data rmse 3.6227905364757076\n"
     ]
    }
   ],
   "source": [
    "mse_test = np.mean(((y_pred - test_data[label])**2))\n",
    "rmse_test = math.sqrt(mse_test)\n",
    "print(\"test data rmse\", rmse_test)"
   ]
  }
 ],
 "metadata": {
  "kernelspec": {
   "display_name": "venv",
   "language": "python",
   "name": "python3"
  },
  "language_info": {
   "codemirror_mode": {
    "name": "ipython",
    "version": 3
   },
   "file_extension": ".py",
   "mimetype": "text/x-python",
   "name": "python",
   "nbconvert_exporter": "python",
   "pygments_lexer": "ipython3",
   "version": "3.10.8"
  },
  "orig_nbformat": 4
 },
 "nbformat": 4,
 "nbformat_minor": 2
}
