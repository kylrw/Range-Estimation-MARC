{
 "cells": [
  {
   "cell_type": "code",
   "execution_count": 1,
   "metadata": {},
   "outputs": [
    {
     "name": "stderr",
     "output_type": "stream",
     "text": [
      "/home/witvoetk/anaconda3/envs/tf/lib/python3.10/site-packages/tqdm/auto.py:21: TqdmWarning: IProgress not found. Please update jupyter and ipywidgets. See https://ipywidgets.readthedocs.io/en/stable/user_install.html\n",
      "  from .autonotebook import tqdm as notebook_tqdm\n"
     ]
    }
   ],
   "source": [
    "from scipy.io import loadmat\n",
    "from scipy.signal import find_peaks\n",
    "import numpy as np\n",
    "from pathlib import Path\n",
    "from typing import List, Tuple\n",
    "import pickle\n",
    "import matplotlib.pyplot as plt\n",
    "import itertools\n",
    "import torch\n",
    "import torch.nn as nn\n",
    "import numpy as np\n",
    "import sys\n",
    "from sklearn.metrics import mean_squared_error\n",
    "import csv\n",
    "import pandas as pd\n",
    "import os"
   ]
  },
  {
   "cell_type": "code",
   "execution_count": 2,
   "metadata": {},
   "outputs": [],
   "source": [
    "# does the same as extract_csv_file_chunks but for excel files\n",
    "def extract_excel_file_chunks(excel_files: str) -> List[Tuple[np.ndarray, np.ndarray]]:\n",
    "\n",
    "    #reads all excel files in the folder\n",
    "    x_chunks = []\n",
    "    y_chunks = []\n",
    "    for excel_file in excel_files:\n",
    "        df = pd.read_excel(\"Data/philcar/\"+excel_file, sheet_name=None)        \n",
    "\n",
    "        soc = []\n",
    "        v = []\n",
    "        i = []\n",
    "        t = []\n",
    "\n",
    "        for sheet in df:\n",
    "            if 'HV Battery SOC [%]' in df[sheet].columns:\n",
    "                soc = df[sheet]['HV Battery SOC [%]']\n",
    "            if 'HV Battery Voltage [V]' in df[sheet].columns:\n",
    "                v = df[sheet]['HV Battery Voltage [V]']\n",
    "            if 'HV Battery Current [A]' in df[sheet].columns:\n",
    "                i = df[sheet]['HV Battery Current [A]']\n",
    "            if 'OAT [degC]' in df[sheet].columns:\n",
    "                t = df[sheet]['OAT [degC]']\n",
    "        \n",
    "        # ensures that all columns are found\n",
    "        if len(soc) == 0 or len(v) == 0 or len(i) == 0 or len(t) == 0:\n",
    "            print('Error: NaN value in file ' + excel_file)\n",
    "            continue\n",
    "        else:\n",
    "            print('Found all columns in file ' + excel_file)\n",
    "\n",
    "            # iterate through the lists and write the data to the chunks\n",
    "            x_chunk = []\n",
    "            y_chunk = []\n",
    "            for x in range(len(soc)):\n",
    "                # double check that the data is not NaN\n",
    "                if soc[x] == soc[x] and v[x] == v[x] and i[x] == i[x] and t[x] == t[x]:\n",
    "                    x_chunk.append([v[x], i[x], t[x]])\n",
    "                    y_chunk.append([soc[x]])\n",
    "\n",
    "            # convert the lists to numpy arrays\n",
    "            x_chunk = np.array(x_chunk)\n",
    "            y_chunk = np.array(y_chunk)\n",
    "\n",
    "\n",
    "            x_chunks.append(x_chunk)\n",
    "            y_chunks.append(y_chunk)\n",
    "\n",
    "    return list(zip(x_chunks, y_chunks))"
   ]
  },
  {
   "cell_type": "code",
   "execution_count": 3,
   "metadata": {},
   "outputs": [
    {
     "name": "stdout",
     "output_type": "stream",
     "text": [
      "Found all columns in file Phil_DC_023_12degC.xlsx\n",
      "Found all columns in file Phil_DC_026_11degC.xlsx\n",
      "Found all columns in file Phil_DC_034_22degC.xlsx\n",
      "Found all columns in file Phil_DC_053_25degC.xlsx\n",
      "Found all columns in file Phil_DC_089_14degC.xlsx\n",
      "Found all columns in file Phil_DC_10_-1degC.xlsx\n",
      "Found all columns in file Phil_DC_11_-3degC.xlsx\n",
      "Found all columns in file Phil_DC_12_-5degC.xlsx\n",
      "Found all columns in file Phil_DC_13_3degC.xlsx\n",
      "Found all columns in file Phil_DC_14_-4degC.xlsx\n",
      "Found all columns in file Phil_DC_15_-5degC.xlsx\n",
      "Found all columns in file Phil_DC_16_-1degC.xlsx\n",
      "Found all columns in file Phil_DC_17_-7degC.xlsx\n",
      "Found all columns in file Phil_DC_18_-7degC.xlsx\n",
      "Found all columns in file Phil_DC_19_4degC.xlsx\n",
      "Found all columns in file Phil_DC_1_14degC.xlsx\n",
      "Found all columns in file Phil_DC_20_3degC.xlsx\n",
      "Found all columns in file Phil_DC_21_6degC.xlsx\n",
      "Found all columns in file Phil_DC_22_7degC.xlsx\n",
      "Found all columns in file Phil_DC_24_-1degC.xlsx\n",
      "Found all columns in file Phil_DC_25_11degC.xlsx\n",
      "Found all columns in file Phil_DC_27_16degC.xlsx\n",
      "Found all columns in file Phil_DC_28_9degC.xlsx\n",
      "Found all columns in file Phil_DC_29_20degC.xlsx\n",
      "Found all columns in file Phil_DC_2_14degC.xlsx\n",
      "Found all columns in file Phil_DC_30_12degC.xlsx\n",
      "Found all columns in file Phil_DC_31_17degC.xlsx\n",
      "Found all columns in file Phil_DC_32_19degC.xlsx\n",
      "Found all columns in file Phil_DC_33_18degC.xlsx\n",
      "Found all columns in file Phil_DC_35_29degC.xlsx\n",
      "Found all columns in file Phil_DC_36_21degC.xlsx\n",
      "Found all columns in file Phil_DC_37_15degC.xlsx\n",
      "Found all columns in file Phil_DC_38_19degC.xlsx\n",
      "Found all columns in file Phil_DC_39_20degC.xlsx\n",
      "Found all columns in file Phil_DC_3_16degC.xlsx\n",
      "Found all columns in file Phil_DC_40_27degC.xlsx\n",
      "Found all columns in file Phil_DC_41_32degC.xlsx\n",
      "Found all columns in file Phil_DC_42_25degC.xlsx\n",
      "Found all columns in file Phil_DC_43_26degC.xlsx\n",
      "Found all columns in file Phil_DC_44_30degC.xlsx\n",
      "Found all columns in file Phil_DC_45_27degC.xlsx\n",
      "Found all columns in file Phil_DC_46_29degC.xlsx\n",
      "Found all columns in file Phil_DC_47_28degC.xlsx\n",
      "Found all columns in file Phil_DC_48_23degC.xlsx\n",
      "Found all columns in file Phil_DC_49_27degC.xlsx\n",
      "Found all columns in file Phil_DC_4_26degC.xlsx\n",
      "Found all columns in file Phil_DC_50_29degC.xlsx\n",
      "Found all columns in file Phil_DC_51_28degC.xlsx\n",
      "Found all columns in file Phil_DC_52_27degC.xlsx\n",
      "Found all columns in file Phil_DC_54_31degC.xlsx\n",
      "Found all columns in file Phil_DC_55_28degC.xlsx\n",
      "Found all columns in file Phil_DC_56_26degC.xlsx\n",
      "Found all columns in file Phil_DC_57_23degC.xlsx\n",
      "Found all columns in file Phil_DC_58_17degC.xlsx\n",
      "Found all columns in file Phil_DC_59_19degC.xlsx\n",
      "Found all columns in file Phil_DC_5_23degC.xlsx\n",
      "Found all columns in file Phil_DC_60_21degC.xlsx\n",
      "Found all columns in file Phil_DC_61_10degC.xlsx\n",
      "Found all columns in file Phil_DC_62_11degC.xlsx\n",
      "Found all columns in file Phil_DC_63_14degC.xlsx\n",
      "Found all columns in file Phil_DC_64_9degC.xlsx\n",
      "Found all columns in file Phil_DC_65_9degC.xlsx\n",
      "Found all columns in file Phil_DC_66_5degC.xlsx\n",
      "Found all columns in file Phil_DC_67_7degC.xlsx\n",
      "Found all columns in file Phil_DC_68_8degC.xlsx\n",
      "Found all columns in file Phil_DC_69_7degC.xlsx\n",
      "Found all columns in file Phil_DC_6_24degC.xlsx\n",
      "Found all columns in file Phil_DC_70_1degC.xlsx\n",
      "Found all columns in file Phil_DC_71_4degC.xlsx\n",
      "Found all columns in file Phil_DC_72_6degC.xlsx\n",
      "Found all columns in file Phil_DC_73_0degC.xlsx\n",
      "Found all columns in file Phil_DC_74_-4degC.xlsx\n",
      "Found all columns in file Phil_DC_75_1degC.xlsx\n",
      "Found all columns in file Phil_DC_76_-6degC.xlsx\n",
      "Found all columns in file Phil_DC_77_-1degC.xlsx\n",
      "Found all columns in file Phil_DC_78_1degC.xlsx\n",
      "Found all columns in file Phil_DC_79_3degC.xlsx\n",
      "Found all columns in file Phil_DC_7_25degC.xlsx\n",
      "Found all columns in file Phil_DC_80_-4degC.xlsx\n",
      "Found all columns in file Phil_DC_81_-8degC.xlsx\n",
      "Found all columns in file Phil_DC_82_8degC.xlsx\n",
      "Found all columns in file Phil_DC_83_1degC.xlsx\n",
      "Found all columns in file Phil_DC_84_2degC.xlsx\n",
      "Found all columns in file Phil_DC_85_3degC.xlsx\n",
      "Found all columns in file Phil_DC_86_10degC.xlsx\n",
      "Found all columns in file Phil_DC_87_11degC.xlsx\n",
      "Found all columns in file Phil_DC_88_10degC.xlsx\n",
      "Found all columns in file Phil_DC_8_1degC.xlsx\n",
      "Found all columns in file Phil_DC_90_5degC.xlsx\n",
      "Found all columns in file Phil_DC_91_9degC.xlsx\n",
      "Found all columns in file Phil_DC_92_16degC.xlsx\n",
      "Found all columns in file Phil_DC_93_10degC.xlsx\n",
      "Found all columns in file Phil_DC_9_3degC.xlsx\n"
     ]
    }
   ],
   "source": [
    "# grabs all the excel files from the parent directory in folder Data/philcar\n",
    "excel_files = [f for f in os.listdir('Data/philcar') if f.endswith('.xlsx')]\n",
    "excel_files.sort()\n",
    "\n",
    "all_chunks = extract_excel_file_chunks(excel_files)\n"
   ]
  },
  {
   "cell_type": "code",
   "execution_count": 4,
   "metadata": {},
   "outputs": [
    {
     "data": {
      "text/plain": [
       "[<matplotlib.lines.Line2D at 0x7fcc89576620>]"
      ]
     },
     "execution_count": 4,
     "metadata": {},
     "output_type": "execute_result"
    },
    {
     "data": {
      "image/png": "[encoded data removed]",
      "text/plain": [
       "<Figure size 640x480 with 1 Axes>"
      ]
     },
     "metadata": {},
     "output_type": "display_data"
    }
   ],
   "source": [
    "#plots V in the first chunk\n",
    "plt.plot(all_chunks[0][0][:,0])"
   ]
  },
  {
   "cell_type": "code",
   "execution_count": null,
   "metadata": {},
   "outputs": [],
   "source": [
    "#removes any rows where V < 300\n",
    "def remove_low_voltage(x_chunks: List[np.ndarray], y_chunks: List[np.ndarray]) -> Tuple[List[np.ndarray], List[np.ndarray]]:\n",
    "    x_chunks_new = []\n",
    "    y_chunks_new = []\n",
    "    for x_chunk, y_chunk in zip(x_chunks, y_chunks):\n",
    "        x_chunk_new = []\n",
    "        y_chunk_new = []\n",
    "        for x, y in zip(x_chunk, y_chunk):\n",
    "            if x[0] > 300:\n",
    "                x_chunk_new.append(x)\n",
    "                y_chunk_new.append(y)\n",
    "        x_chunks_new.append(np.array(x_chunk_new))\n",
    "        y_chunks_new.append(np.array(y_chunk_new))\n",
    "    return x_chunks_new, y_chunks_new\n",
    "\n",
    "remove_low_voltage(all_chunks[0], all_chunks[1])"
   ]
  },
  {
   "cell_type": "code",
   "execution_count": null,
   "metadata": {},
   "outputs": [],
   "source": [
    "# plot V in all chunks\n",
    "def plot_voltage(x_chunks: List[np.ndarray], y_chunks: List[np.ndarray]) -> None:\n",
    "    for x_chunk, y_chunk in zip(x_chunks, y_chunks):\n",
    "        plt.plot(x_chunk[:, 0])\n",
    "    plt.show()\n",
    "\n",
    "plot_voltage(all_chunks[0], all_chunks[1])"
   ]
  }
 ],
 "metadata": {
  "kernelspec": {
   "display_name": "tf",
   "language": "python",
   "name": "python3"
  },
  "language_info": {
   "codemirror_mode": {
    "name": "ipython",
    "version": 3
   },
   "file_extension": ".py",
   "mimetype": "text/x-python",
   "name": "python",
   "nbconvert_exporter": "python",
   "pygments_lexer": "ipython3",
   "version": "3.10.8"
  },
  "orig_nbformat": 4
 },
 "nbformat": 4,
 "nbformat_minor": 2
}
