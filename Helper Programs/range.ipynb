{
 "cells": [
  {
   "cell_type": "code",
   "execution_count": 1,
   "metadata": {},
   "outputs": [
    {
     "data": {
      "text/plain": [
       "'\\nThis program will train a FNN to predict the range of an Electric Vehicle using tensorflow\\n\\nThe training data has the following columns:\\n    - Initial SOC\\n    - Final SOC\\n    - Initial Altitude\\n    - Final Altitude\\n    - Average Speed\\n    - Accumulated Distance\\n\\nThe target is the Final SOC\\n\\nThe program will use the following data to train the FNN model, to predict the Final SOC:\\n    - Initial SOC\\n    - Initial Altitude\\n    - Final Altitude\\n    - Average Speed\\n    - Accumulated Distance\\n\\nTo test the model, the program will recieve the following data from the user:\\n    - Initial SOC\\n    - Initial Altitude\\n    - Final Altitude\\n    - Average Speed\\n    - Accumulated Distance\\n'"
      ]
     },
     "execution_count": 1,
     "metadata": {},
     "output_type": "execute_result"
    }
   ],
   "source": [
    "\"\"\"\n",
    "This program will train a FNN to predict the range of an Electric Vehicle using tensorflow\n",
    "\n",
    "The training data has the following columns:\n",
    "    - Initial SOC\n",
    "    - Final SOC\n",
    "    - Initial Altitude\n",
    "    - Final Altitude\n",
    "    - Average Speed\n",
    "    - Accumulated Distance\n",
    "\n",
    "The target is the Final SOC\n",
    "\n",
    "The program will use the following data to train the FNN model, to predict the Final SOC:\n",
    "    - Initial SOC\n",
    "    - Initial Altitude\n",
    "    - Final Altitude\n",
    "    - Average Speed\n",
    "    - Accumulated Distance\n",
    "\n",
    "To test the model, the program will recieve the following data from the user:\n",
    "    - Initial SOC\n",
    "    - Initial Altitude\n",
    "    - Final Altitude\n",
    "    - Average Speed\n",
    "    - Accumulated Distance\n",
    "\"\"\""
   ]
  },
  {
   "cell_type": "code",
   "execution_count": 2,
   "metadata": {},
   "outputs": [
    {
     "ename": "ModuleNotFoundError",
     "evalue": "No module named 'tensorflow.python'",
     "output_type": "error",
     "traceback": [
      "\u001b[1;31m---------------------------------------------------------------------------\u001b[0m",
      "\u001b[1;31mModuleNotFoundError\u001b[0m                       Traceback (most recent call last)",
      "Cell \u001b[1;32mIn[2], line 5\u001b[0m\n\u001b[0;32m      3\u001b[0m \u001b[39mimport\u001b[39;00m \u001b[39mmatplotlib\u001b[39;00m\u001b[39m.\u001b[39;00m\u001b[39mpyplot\u001b[39;00m \u001b[39mas\u001b[39;00m \u001b[39mplt\u001b[39;00m\n\u001b[0;32m      4\u001b[0m \u001b[39mimport\u001b[39;00m \u001b[39mpandas\u001b[39;00m \u001b[39mas\u001b[39;00m \u001b[39mpd\u001b[39;00m\n\u001b[1;32m----> 5\u001b[0m \u001b[39mimport\u001b[39;00m \u001b[39mtensorflow\u001b[39;00m \u001b[39mas\u001b[39;00m \u001b[39mtf\u001b[39;00m\n",
      "File \u001b[1;32m~\\AppData\\Local\\Packages\\PythonSoftwareFoundation.Python.3.10_qbz5n2kfra8p0\\LocalCache\\local-packages\\Python310\\site-packages\\tensorflow\\__init__.py:37\u001b[0m\n\u001b[0;32m     34\u001b[0m \u001b[39mimport\u001b[39;00m \u001b[39msys\u001b[39;00m \u001b[39mas\u001b[39;00m \u001b[39m_sys\u001b[39;00m\n\u001b[0;32m     35\u001b[0m \u001b[39mimport\u001b[39;00m \u001b[39mtyping\u001b[39;00m \u001b[39mas\u001b[39;00m \u001b[39m_typing\u001b[39;00m\n\u001b[1;32m---> 37\u001b[0m \u001b[39mfrom\u001b[39;00m \u001b[39mtensorflow\u001b[39;00m\u001b[39m.\u001b[39;00m\u001b[39mpython\u001b[39;00m\u001b[39m.\u001b[39;00m\u001b[39mtools\u001b[39;00m \u001b[39mimport\u001b[39;00m module_util \u001b[39mas\u001b[39;00m _module_util\n\u001b[0;32m     38\u001b[0m \u001b[39mfrom\u001b[39;00m \u001b[39mtensorflow\u001b[39;00m\u001b[39m.\u001b[39;00m\u001b[39mpython\u001b[39;00m\u001b[39m.\u001b[39;00m\u001b[39mutil\u001b[39;00m\u001b[39m.\u001b[39;00m\u001b[39mlazy_loader\u001b[39;00m \u001b[39mimport\u001b[39;00m LazyLoader \u001b[39mas\u001b[39;00m _LazyLoader\n\u001b[0;32m     40\u001b[0m \u001b[39m# Make sure code inside the TensorFlow codebase can use tf2.enabled() at import.\u001b[39;00m\n",
      "\u001b[1;31mModuleNotFoundError\u001b[0m: No module named 'tensorflow.python'"
     ]
    }
   ],
   "source": [
    "# Importing the libraries\n",
    "import numpy as np\n",
    "import matplotlib.pyplot as plt\n",
    "import pandas as pd\n",
    "import tensorflow as tf"
   ]
  },
  {
   "cell_type": "code",
   "execution_count": null,
   "metadata": {},
   "outputs": [],
   "source": [
    "# Importing the dataset\n",
    "dataset = pd.read_csv('Data/RangeDataReformated.csv')\n",
    "X = dataset.iloc[:, 0:6].values\n",
    "y = dataset.iloc[:, 6].values\n",
    "\n",
    "# Print the first 5 rows of X\n",
    "print(X[0:5])\n",
    "\n",
    "# Print the first 5 rows of y\n",
    "print(y[0:5])\n"
   ]
  }
 ],
 "metadata": {
  "kernelspec": {
   "display_name": "Python 3",
   "language": "python",
   "name": "python3"
  },
  "language_info": {
   "codemirror_mode": {
    "name": "ipython",
    "version": 3
   },
   "file_extension": ".py",
   "mimetype": "text/x-python",
   "name": "python",
   "nbconvert_exporter": "python",
   "pygments_lexer": "ipython3",
   "version": "3.10.10"
  },
  "orig_nbformat": 4,
  "vscode": {
   "interpreter": {
    "hash": "01a864002521d1a4f83ae4e1f894776b7ea45751f6b283512d42d4f1d5608d3a"
   }
  }
 },
 "nbformat": 4,
 "nbformat_minor": 2
}
